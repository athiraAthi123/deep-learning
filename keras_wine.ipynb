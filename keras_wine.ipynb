{
  "nbformat": 4,
  "nbformat_minor": 0,
  "metadata": {
    "colab": {
      "name": "keras-wine.ipynb",
      "provenance": []
    },
    "kernelspec": {
      "name": "python3",
      "display_name": "Python 3"
    },
    "accelerator": "GPU"
  },
  "cells": [
    {
      "cell_type": "code",
      "metadata": {
        "id": "5_9C-z9PKk3h",
        "colab_type": "code",
        "outputId": "2054d237-676f-4da7-9301-660fc29ab7a0",
        "colab": {
          "base_uri": "https://localhost:8080/",
          "height": 63
        }
      },
      "source": [
        "import numpy as np\n",
        "import pandas as pd\n",
        "from sklearn.model_selection import train_test_split\n",
        "from sklearn.preprocessing import StandardScaler\n",
        "from sklearn.datasets import load_wine\n",
        "import tensorflow as tf\n",
        "from tensorflow import keras"
      ],
      "execution_count": 0,
      "outputs": [
        {
          "output_type": "display_data",
          "data": {
            "text/html": [
              "<p style=\"color: red;\">\n",
              "The default version of TensorFlow in Colab will soon switch to TensorFlow 2.x.<br>\n",
              "We recommend you <a href=\"https://www.tensorflow.org/guide/migrate\" target=\"_blank\">upgrade</a> now \n",
              "or ensure your notebook will continue to use TensorFlow 1.x via the <code>%tensorflow_version 1.x</code> magic:\n",
              "<a href=\"https://colab.research.google.com/notebooks/tensorflow_version.ipynb\" target=\"_blank\">more info</a>.</p>\n"
            ],
            "text/plain": [
              "<IPython.core.display.HTML object>"
            ]
          },
          "metadata": {
            "tags": []
          }
        }
      ]
    },
    {
      "cell_type": "code",
      "metadata": {
        "id": "8gzjiEPgLlMB",
        "colab_type": "code",
        "colab": {}
      },
      "source": [
        "tf.set_random_seed(42)\n",
        "np.random.seed(42)"
      ],
      "execution_count": 0,
      "outputs": []
    },
    {
      "cell_type": "code",
      "metadata": {
        "id": "fxgdHaWHLopY",
        "colab_type": "code",
        "colab": {}
      },
      "source": [
        "wine=load_wine()"
      ],
      "execution_count": 0,
      "outputs": []
    },
    {
      "cell_type": "code",
      "metadata": {
        "id": "MgC-NQS2L622",
        "colab_type": "code",
        "colab": {}
      },
      "source": [
        "x=wine.data\n",
        "y=wine.target"
      ],
      "execution_count": 0,
      "outputs": []
    },
    {
      "cell_type": "code",
      "metadata": {
        "id": "pJcrTUvwL92b",
        "colab_type": "code",
        "colab": {}
      },
      "source": [
        "xtrain,xtest,ytrain,ytest=train_test_split(x,y,test_size=0.2,stratify=y,random_state=42)"
      ],
      "execution_count": 0,
      "outputs": []
    },
    {
      "cell_type": "code",
      "metadata": {
        "id": "E8SjJaVPMQWH",
        "colab_type": "code",
        "outputId": "9f4652f3-7e1d-4317-b896-52d1dd239efe",
        "colab": {
          "base_uri": "https://localhost:8080/",
          "height": 34
        }
      },
      "source": [
        "sc=StandardScaler()\n",
        "sc.fit(xtrain)"
      ],
      "execution_count": 0,
      "outputs": [
        {
          "output_type": "execute_result",
          "data": {
            "text/plain": [
              "StandardScaler(copy=True, with_mean=True, with_std=True)"
            ]
          },
          "metadata": {
            "tags": []
          },
          "execution_count": 6
        }
      ]
    },
    {
      "cell_type": "code",
      "metadata": {
        "id": "r-70IyzBMY2x",
        "colab_type": "code",
        "colab": {}
      },
      "source": [
        "xtrain_std=sc.transform(xtrain)\n",
        "xtest_std=sc.transform(xtest)"
      ],
      "execution_count": 0,
      "outputs": []
    },
    {
      "cell_type": "code",
      "metadata": {
        "id": "GhMhO2xyMa-d",
        "colab_type": "code",
        "colab": {}
      },
      "source": [
        "model=keras.models.Sequential()"
      ],
      "execution_count": 0,
      "outputs": []
    },
    {
      "cell_type": "code",
      "metadata": {
        "id": "v4CMDKrSMc8D",
        "colab_type": "code",
        "outputId": "b2e96deb-c5d0-4664-c53d-1262f6c1a986",
        "colab": {
          "base_uri": "https://localhost:8080/",
          "height": 88
        }
      },
      "source": [
        "model.add(keras.layers.Dense(units=5,activation='relu',input_shape=xtrain.shape[1:]))"
      ],
      "execution_count": 0,
      "outputs": [
        {
          "output_type": "stream",
          "text": [
            "WARNING:tensorflow:From /usr/local/lib/python3.6/dist-packages/tensorflow_core/python/ops/resource_variable_ops.py:1630: calling BaseResourceVariable.__init__ (from tensorflow.python.ops.resource_variable_ops) with constraint is deprecated and will be removed in a future version.\n",
            "Instructions for updating:\n",
            "If using Keras pass *_constraint arguments to layers.\n"
          ],
          "name": "stdout"
        }
      ]
    },
    {
      "cell_type": "code",
      "metadata": {
        "id": "LSPmE_3oMfQm",
        "colab_type": "code",
        "colab": {}
      },
      "source": [
        "model.add(keras.layers.Dense(units=3,activation='softmax'))"
      ],
      "execution_count": 0,
      "outputs": []
    },
    {
      "cell_type": "code",
      "metadata": {
        "id": "wqA6ayU9Mr4j",
        "colab_type": "code",
        "colab": {}
      },
      "source": [
        "model.compile(loss='sparse_categorical_crossentropy',optimizer='adam', metrics=['accuracy'])"
      ],
      "execution_count": 0,
      "outputs": []
    },
    {
      "cell_type": "code",
      "metadata": {
        "id": "vNbzTEDRNYdA",
        "colab_type": "code",
        "outputId": "20e62ec4-49a6-4e87-c31c-386dd7aa05a3",
        "colab": {
          "base_uri": "https://localhost:8080/",
          "height": 1000
        }
      },
      "source": [
        "model.fit(x=xtrain_std, y=ytrain, validation_split=0.1, epochs=100,batch_size=32)"
      ],
      "execution_count": 0,
      "outputs": [
        {
          "output_type": "stream",
          "text": [
            "Train on 127 samples, validate on 15 samples\n",
            "Epoch 1/100\n",
            "127/127 [==============================] - 0s 132us/sample - loss: 0.0781 - acc: 0.9921 - val_loss: 0.0541 - val_acc: 1.0000\n",
            "Epoch 2/100\n",
            "127/127 [==============================] - 0s 99us/sample - loss: 0.0772 - acc: 0.9921 - val_loss: 0.0535 - val_acc: 1.0000\n",
            "Epoch 3/100\n",
            "127/127 [==============================] - 0s 109us/sample - loss: 0.0765 - acc: 0.9921 - val_loss: 0.0529 - val_acc: 1.0000\n",
            "Epoch 4/100\n",
            "127/127 [==============================] - 0s 92us/sample - loss: 0.0757 - acc: 0.9921 - val_loss: 0.0524 - val_acc: 1.0000\n",
            "Epoch 5/100\n",
            "127/127 [==============================] - 0s 89us/sample - loss: 0.0750 - acc: 0.9921 - val_loss: 0.0517 - val_acc: 1.0000\n",
            "Epoch 6/100\n",
            "127/127 [==============================] - 0s 88us/sample - loss: 0.0742 - acc: 0.9921 - val_loss: 0.0512 - val_acc: 1.0000\n",
            "Epoch 7/100\n",
            "127/127 [==============================] - 0s 80us/sample - loss: 0.0736 - acc: 0.9921 - val_loss: 0.0506 - val_acc: 1.0000\n",
            "Epoch 8/100\n",
            "127/127 [==============================] - 0s 79us/sample - loss: 0.0728 - acc: 0.9921 - val_loss: 0.0501 - val_acc: 1.0000\n",
            "Epoch 9/100\n",
            "127/127 [==============================] - 0s 73us/sample - loss: 0.0722 - acc: 0.9921 - val_loss: 0.0495 - val_acc: 1.0000\n",
            "Epoch 10/100\n",
            "127/127 [==============================] - 0s 93us/sample - loss: 0.0716 - acc: 0.9921 - val_loss: 0.0489 - val_acc: 1.0000\n",
            "Epoch 11/100\n",
            "127/127 [==============================] - 0s 91us/sample - loss: 0.0708 - acc: 0.9921 - val_loss: 0.0484 - val_acc: 1.0000\n",
            "Epoch 12/100\n",
            "127/127 [==============================] - 0s 92us/sample - loss: 0.0702 - acc: 0.9921 - val_loss: 0.0478 - val_acc: 1.0000\n",
            "Epoch 13/100\n",
            "127/127 [==============================] - 0s 85us/sample - loss: 0.0696 - acc: 0.9921 - val_loss: 0.0473 - val_acc: 1.0000\n",
            "Epoch 14/100\n",
            "127/127 [==============================] - 0s 72us/sample - loss: 0.0689 - acc: 0.9921 - val_loss: 0.0468 - val_acc: 1.0000\n",
            "Epoch 15/100\n",
            "127/127 [==============================] - 0s 78us/sample - loss: 0.0683 - acc: 0.9921 - val_loss: 0.0463 - val_acc: 1.0000\n",
            "Epoch 16/100\n",
            "127/127 [==============================] - 0s 81us/sample - loss: 0.0677 - acc: 0.9921 - val_loss: 0.0457 - val_acc: 1.0000\n",
            "Epoch 17/100\n",
            "127/127 [==============================] - 0s 82us/sample - loss: 0.0671 - acc: 0.9921 - val_loss: 0.0452 - val_acc: 1.0000\n",
            "Epoch 18/100\n",
            "127/127 [==============================] - 0s 90us/sample - loss: 0.0665 - acc: 0.9921 - val_loss: 0.0447 - val_acc: 1.0000\n",
            "Epoch 19/100\n",
            "127/127 [==============================] - 0s 88us/sample - loss: 0.0659 - acc: 0.9921 - val_loss: 0.0442 - val_acc: 1.0000\n",
            "Epoch 20/100\n",
            "127/127 [==============================] - 0s 88us/sample - loss: 0.0653 - acc: 0.9921 - val_loss: 0.0437 - val_acc: 1.0000\n",
            "Epoch 21/100\n",
            "127/127 [==============================] - 0s 133us/sample - loss: 0.0647 - acc: 0.9921 - val_loss: 0.0432 - val_acc: 1.0000\n",
            "Epoch 22/100\n",
            "127/127 [==============================] - 0s 79us/sample - loss: 0.0641 - acc: 0.9921 - val_loss: 0.0427 - val_acc: 1.0000\n",
            "Epoch 23/100\n",
            "127/127 [==============================] - 0s 83us/sample - loss: 0.0636 - acc: 0.9921 - val_loss: 0.0423 - val_acc: 1.0000\n",
            "Epoch 24/100\n",
            "127/127 [==============================] - 0s 104us/sample - loss: 0.0630 - acc: 0.9921 - val_loss: 0.0419 - val_acc: 1.0000\n",
            "Epoch 25/100\n",
            "127/127 [==============================] - 0s 103us/sample - loss: 0.0625 - acc: 0.9921 - val_loss: 0.0414 - val_acc: 1.0000\n",
            "Epoch 26/100\n",
            "127/127 [==============================] - 0s 103us/sample - loss: 0.0620 - acc: 0.9921 - val_loss: 0.0410 - val_acc: 1.0000\n",
            "Epoch 27/100\n",
            "127/127 [==============================] - 0s 108us/sample - loss: 0.0614 - acc: 0.9921 - val_loss: 0.0406 - val_acc: 1.0000\n",
            "Epoch 28/100\n",
            "127/127 [==============================] - 0s 99us/sample - loss: 0.0609 - acc: 0.9921 - val_loss: 0.0401 - val_acc: 1.0000\n",
            "Epoch 29/100\n",
            "127/127 [==============================] - 0s 96us/sample - loss: 0.0604 - acc: 0.9921 - val_loss: 0.0398 - val_acc: 1.0000\n",
            "Epoch 30/100\n",
            "127/127 [==============================] - 0s 100us/sample - loss: 0.0598 - acc: 0.9921 - val_loss: 0.0393 - val_acc: 1.0000\n",
            "Epoch 31/100\n",
            "127/127 [==============================] - 0s 97us/sample - loss: 0.0593 - acc: 0.9921 - val_loss: 0.0389 - val_acc: 1.0000\n",
            "Epoch 32/100\n",
            "127/127 [==============================] - 0s 75us/sample - loss: 0.0588 - acc: 0.9921 - val_loss: 0.0385 - val_acc: 1.0000\n",
            "Epoch 33/100\n",
            "127/127 [==============================] - 0s 82us/sample - loss: 0.0583 - acc: 0.9921 - val_loss: 0.0381 - val_acc: 1.0000\n",
            "Epoch 34/100\n",
            "127/127 [==============================] - 0s 72us/sample - loss: 0.0578 - acc: 0.9921 - val_loss: 0.0377 - val_acc: 1.0000\n",
            "Epoch 35/100\n",
            "127/127 [==============================] - 0s 108us/sample - loss: 0.0573 - acc: 0.9921 - val_loss: 0.0373 - val_acc: 1.0000\n",
            "Epoch 36/100\n",
            "127/127 [==============================] - 0s 89us/sample - loss: 0.0568 - acc: 0.9921 - val_loss: 0.0369 - val_acc: 1.0000\n",
            "Epoch 37/100\n",
            "127/127 [==============================] - 0s 71us/sample - loss: 0.0563 - acc: 0.9921 - val_loss: 0.0365 - val_acc: 1.0000\n",
            "Epoch 38/100\n",
            "127/127 [==============================] - 0s 85us/sample - loss: 0.0558 - acc: 0.9921 - val_loss: 0.0361 - val_acc: 1.0000\n",
            "Epoch 39/100\n",
            "127/127 [==============================] - 0s 95us/sample - loss: 0.0554 - acc: 0.9921 - val_loss: 0.0358 - val_acc: 1.0000\n",
            "Epoch 40/100\n",
            "127/127 [==============================] - 0s 95us/sample - loss: 0.0550 - acc: 0.9921 - val_loss: 0.0354 - val_acc: 1.0000\n",
            "Epoch 41/100\n",
            "127/127 [==============================] - 0s 89us/sample - loss: 0.0544 - acc: 0.9921 - val_loss: 0.0351 - val_acc: 1.0000\n",
            "Epoch 42/100\n",
            "127/127 [==============================] - 0s 87us/sample - loss: 0.0540 - acc: 0.9921 - val_loss: 0.0347 - val_acc: 1.0000\n",
            "Epoch 43/100\n",
            "127/127 [==============================] - 0s 84us/sample - loss: 0.0535 - acc: 0.9921 - val_loss: 0.0343 - val_acc: 1.0000\n",
            "Epoch 44/100\n",
            "127/127 [==============================] - 0s 88us/sample - loss: 0.0531 - acc: 0.9921 - val_loss: 0.0340 - val_acc: 1.0000\n",
            "Epoch 45/100\n",
            "127/127 [==============================] - 0s 84us/sample - loss: 0.0527 - acc: 0.9921 - val_loss: 0.0337 - val_acc: 1.0000\n",
            "Epoch 46/100\n",
            "127/127 [==============================] - 0s 90us/sample - loss: 0.0522 - acc: 0.9921 - val_loss: 0.0333 - val_acc: 1.0000\n",
            "Epoch 47/100\n",
            "127/127 [==============================] - 0s 77us/sample - loss: 0.0519 - acc: 0.9921 - val_loss: 0.0330 - val_acc: 1.0000\n",
            "Epoch 48/100\n",
            "127/127 [==============================] - 0s 89us/sample - loss: 0.0514 - acc: 0.9921 - val_loss: 0.0327 - val_acc: 1.0000\n",
            "Epoch 49/100\n",
            "127/127 [==============================] - 0s 90us/sample - loss: 0.0509 - acc: 0.9921 - val_loss: 0.0323 - val_acc: 1.0000\n",
            "Epoch 50/100\n",
            "127/127 [==============================] - 0s 88us/sample - loss: 0.0505 - acc: 0.9921 - val_loss: 0.0320 - val_acc: 1.0000\n",
            "Epoch 51/100\n",
            "127/127 [==============================] - 0s 91us/sample - loss: 0.0501 - acc: 0.9921 - val_loss: 0.0317 - val_acc: 1.0000\n",
            "Epoch 52/100\n",
            "127/127 [==============================] - 0s 97us/sample - loss: 0.0496 - acc: 0.9921 - val_loss: 0.0314 - val_acc: 1.0000\n",
            "Epoch 53/100\n",
            "127/127 [==============================] - 0s 106us/sample - loss: 0.0493 - acc: 0.9921 - val_loss: 0.0311 - val_acc: 1.0000\n",
            "Epoch 54/100\n",
            "127/127 [==============================] - 0s 84us/sample - loss: 0.0489 - acc: 0.9921 - val_loss: 0.0308 - val_acc: 1.0000\n",
            "Epoch 55/100\n",
            "127/127 [==============================] - 0s 96us/sample - loss: 0.0484 - acc: 0.9921 - val_loss: 0.0305 - val_acc: 1.0000\n",
            "Epoch 56/100\n",
            "127/127 [==============================] - 0s 92us/sample - loss: 0.0481 - acc: 0.9921 - val_loss: 0.0302 - val_acc: 1.0000\n",
            "Epoch 57/100\n",
            "127/127 [==============================] - 0s 97us/sample - loss: 0.0477 - acc: 0.9921 - val_loss: 0.0299 - val_acc: 1.0000\n",
            "Epoch 58/100\n",
            "127/127 [==============================] - 0s 92us/sample - loss: 0.0473 - acc: 0.9921 - val_loss: 0.0296 - val_acc: 1.0000\n",
            "Epoch 59/100\n",
            "127/127 [==============================] - 0s 123us/sample - loss: 0.0469 - acc: 0.9921 - val_loss: 0.0293 - val_acc: 1.0000\n",
            "Epoch 60/100\n",
            "127/127 [==============================] - 0s 95us/sample - loss: 0.0465 - acc: 0.9921 - val_loss: 0.0290 - val_acc: 1.0000\n",
            "Epoch 61/100\n",
            "127/127 [==============================] - 0s 102us/sample - loss: 0.0462 - acc: 0.9921 - val_loss: 0.0287 - val_acc: 1.0000\n",
            "Epoch 62/100\n",
            "127/127 [==============================] - 0s 81us/sample - loss: 0.0458 - acc: 0.9921 - val_loss: 0.0285 - val_acc: 1.0000\n",
            "Epoch 63/100\n",
            "127/127 [==============================] - 0s 79us/sample - loss: 0.0454 - acc: 0.9921 - val_loss: 0.0282 - val_acc: 1.0000\n",
            "Epoch 64/100\n",
            "127/127 [==============================] - 0s 80us/sample - loss: 0.0450 - acc: 0.9921 - val_loss: 0.0279 - val_acc: 1.0000\n",
            "Epoch 65/100\n",
            "127/127 [==============================] - 0s 82us/sample - loss: 0.0448 - acc: 0.9921 - val_loss: 0.0277 - val_acc: 1.0000\n",
            "Epoch 66/100\n",
            "127/127 [==============================] - 0s 100us/sample - loss: 0.0444 - acc: 0.9921 - val_loss: 0.0274 - val_acc: 1.0000\n",
            "Epoch 67/100\n",
            "127/127 [==============================] - 0s 91us/sample - loss: 0.0440 - acc: 0.9921 - val_loss: 0.0272 - val_acc: 1.0000\n",
            "Epoch 68/100\n",
            "127/127 [==============================] - 0s 93us/sample - loss: 0.0436 - acc: 0.9921 - val_loss: 0.0269 - val_acc: 1.0000\n",
            "Epoch 69/100\n",
            "127/127 [==============================] - 0s 110us/sample - loss: 0.0433 - acc: 0.9921 - val_loss: 0.0267 - val_acc: 1.0000\n",
            "Epoch 70/100\n",
            "127/127 [==============================] - 0s 123us/sample - loss: 0.0429 - acc: 0.9921 - val_loss: 0.0264 - val_acc: 1.0000\n",
            "Epoch 71/100\n",
            "127/127 [==============================] - 0s 117us/sample - loss: 0.0426 - acc: 0.9921 - val_loss: 0.0261 - val_acc: 1.0000\n",
            "Epoch 72/100\n",
            "127/127 [==============================] - 0s 95us/sample - loss: 0.0422 - acc: 0.9921 - val_loss: 0.0259 - val_acc: 1.0000\n",
            "Epoch 73/100\n",
            "127/127 [==============================] - 0s 108us/sample - loss: 0.0419 - acc: 0.9921 - val_loss: 0.0256 - val_acc: 1.0000\n",
            "Epoch 74/100\n",
            "127/127 [==============================] - 0s 95us/sample - loss: 0.0416 - acc: 0.9921 - val_loss: 0.0254 - val_acc: 1.0000\n",
            "Epoch 75/100\n",
            "127/127 [==============================] - 0s 114us/sample - loss: 0.0413 - acc: 0.9921 - val_loss: 0.0252 - val_acc: 1.0000\n",
            "Epoch 76/100\n",
            "127/127 [==============================] - 0s 173us/sample - loss: 0.0410 - acc: 0.9921 - val_loss: 0.0249 - val_acc: 1.0000\n",
            "Epoch 77/100\n",
            "127/127 [==============================] - 0s 107us/sample - loss: 0.0407 - acc: 0.9921 - val_loss: 0.0247 - val_acc: 1.0000\n",
            "Epoch 78/100\n",
            "127/127 [==============================] - 0s 119us/sample - loss: 0.0403 - acc: 0.9921 - val_loss: 0.0245 - val_acc: 1.0000\n",
            "Epoch 79/100\n",
            "127/127 [==============================] - 0s 110us/sample - loss: 0.0401 - acc: 0.9921 - val_loss: 0.0243 - val_acc: 1.0000\n",
            "Epoch 80/100\n",
            "127/127 [==============================] - 0s 110us/sample - loss: 0.0397 - acc: 0.9921 - val_loss: 0.0241 - val_acc: 1.0000\n",
            "Epoch 81/100\n",
            "127/127 [==============================] - 0s 161us/sample - loss: 0.0394 - acc: 0.9921 - val_loss: 0.0238 - val_acc: 1.0000\n",
            "Epoch 82/100\n",
            "127/127 [==============================] - 0s 96us/sample - loss: 0.0391 - acc: 0.9921 - val_loss: 0.0236 - val_acc: 1.0000\n",
            "Epoch 83/100\n",
            "127/127 [==============================] - 0s 120us/sample - loss: 0.0388 - acc: 0.9921 - val_loss: 0.0234 - val_acc: 1.0000\n",
            "Epoch 84/100\n",
            "127/127 [==============================] - 0s 128us/sample - loss: 0.0386 - acc: 0.9921 - val_loss: 0.0232 - val_acc: 1.0000\n",
            "Epoch 85/100\n",
            "127/127 [==============================] - 0s 123us/sample - loss: 0.0382 - acc: 0.9921 - val_loss: 0.0230 - val_acc: 1.0000\n",
            "Epoch 86/100\n",
            "127/127 [==============================] - 0s 92us/sample - loss: 0.0379 - acc: 0.9921 - val_loss: 0.0228 - val_acc: 1.0000\n",
            "Epoch 87/100\n",
            "127/127 [==============================] - 0s 109us/sample - loss: 0.0376 - acc: 0.9921 - val_loss: 0.0225 - val_acc: 1.0000\n",
            "Epoch 88/100\n",
            "127/127 [==============================] - 0s 107us/sample - loss: 0.0374 - acc: 0.9921 - val_loss: 0.0224 - val_acc: 1.0000\n",
            "Epoch 89/100\n",
            "127/127 [==============================] - 0s 103us/sample - loss: 0.0370 - acc: 0.9921 - val_loss: 0.0222 - val_acc: 1.0000\n",
            "Epoch 90/100\n",
            "127/127 [==============================] - 0s 96us/sample - loss: 0.0368 - acc: 0.9921 - val_loss: 0.0220 - val_acc: 1.0000\n",
            "Epoch 91/100\n",
            "127/127 [==============================] - 0s 131us/sample - loss: 0.0365 - acc: 0.9921 - val_loss: 0.0218 - val_acc: 1.0000\n",
            "Epoch 92/100\n",
            "127/127 [==============================] - 0s 114us/sample - loss: 0.0363 - acc: 0.9921 - val_loss: 0.0216 - val_acc: 1.0000\n",
            "Epoch 93/100\n",
            "127/127 [==============================] - 0s 111us/sample - loss: 0.0359 - acc: 0.9921 - val_loss: 0.0213 - val_acc: 1.0000\n",
            "Epoch 94/100\n",
            "127/127 [==============================] - 0s 130us/sample - loss: 0.0357 - acc: 0.9921 - val_loss: 0.0212 - val_acc: 1.0000\n",
            "Epoch 95/100\n",
            "127/127 [==============================] - 0s 101us/sample - loss: 0.0354 - acc: 0.9921 - val_loss: 0.0210 - val_acc: 1.0000\n",
            "Epoch 96/100\n",
            "127/127 [==============================] - 0s 165us/sample - loss: 0.0352 - acc: 0.9921 - val_loss: 0.0208 - val_acc: 1.0000\n",
            "Epoch 97/100\n",
            "127/127 [==============================] - 0s 104us/sample - loss: 0.0349 - acc: 0.9921 - val_loss: 0.0206 - val_acc: 1.0000\n",
            "Epoch 98/100\n",
            "127/127 [==============================] - 0s 94us/sample - loss: 0.0346 - acc: 0.9921 - val_loss: 0.0205 - val_acc: 1.0000\n",
            "Epoch 99/100\n",
            "127/127 [==============================] - 0s 103us/sample - loss: 0.0344 - acc: 0.9921 - val_loss: 0.0203 - val_acc: 1.0000\n",
            "Epoch 100/100\n",
            "127/127 [==============================] - 0s 108us/sample - loss: 0.0341 - acc: 0.9921 - val_loss: 0.0201 - val_acc: 1.0000\n"
          ],
          "name": "stdout"
        },
        {
          "output_type": "execute_result",
          "data": {
            "text/plain": [
              "<tensorflow.python.keras.callbacks.History at 0x7f39667efc18>"
            ]
          },
          "metadata": {
            "tags": []
          },
          "execution_count": 18
        }
      ]
    },
    {
      "cell_type": "code",
      "metadata": {
        "id": "VK6TAFkaMt7m",
        "colab_type": "code",
        "outputId": "9861a4e2-85e2-4561-ce6c-2d2dc67ee3ee",
        "colab": {
          "base_uri": "https://localhost:8080/",
          "height": 34
        }
      },
      "source": [
        "test_loss, test_accuracy = model.evaluate(x=xtest_std, y=ytest)"
      ],
      "execution_count": 0,
      "outputs": [
        {
          "output_type": "stream",
          "text": [
            "36/36 [==============================] - 0s 156us/sample - loss: 0.0795 - acc: 0.9722\n"
          ],
          "name": "stdout"
        }
      ]
    },
    {
      "cell_type": "code",
      "metadata": {
        "id": "DOFcwt-oMxIx",
        "colab_type": "code",
        "outputId": "8a91693e-d726-42fb-ec89-a2100563278f",
        "colab": {
          "base_uri": "https://localhost:8080/",
          "height": 34
        }
      },
      "source": [
        "print('test accuracy=',test_accuracy,'test loss=',test_loss)"
      ],
      "execution_count": 0,
      "outputs": [
        {
          "output_type": "stream",
          "text": [
            "test accuracy= 0.9722222 test loss= 0.07946305124399562\n"
          ],
          "name": "stdout"
        }
      ]
    },
    {
      "cell_type": "code",
      "metadata": {
        "id": "lBtmquhqM0JT",
        "colab_type": "code",
        "colab": {}
      },
      "source": [
        ""
      ],
      "execution_count": 0,
      "outputs": []
    }
  ]
}