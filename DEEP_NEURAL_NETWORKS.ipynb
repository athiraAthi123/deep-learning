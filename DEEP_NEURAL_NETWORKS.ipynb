{
  "nbformat": 4,
  "nbformat_minor": 0,
  "metadata": {
    "colab": {
      "name": "DEEP NEURAL NETWORKS.ipynb",
      "provenance": []
    },
    "kernelspec": {
      "name": "python3",
      "display_name": "Python 3"
    }
  },
  "cells": [
    {
      "cell_type": "markdown",
      "metadata": {
        "id": "7jKvkmNtOLop",
        "colab_type": "text"
      },
      "source": [
        "REGRESSION USING BOSTON DATASET"
      ]
    },
    {
      "cell_type": "code",
      "metadata": {
        "id": "YjY3-l9fK5Y1",
        "colab_type": "code",
        "colab": {}
      },
      "source": [
        "import pandas as pd\n",
        "import numpy as np"
      ],
      "execution_count": 0,
      "outputs": []
    },
    {
      "cell_type": "code",
      "metadata": {
        "id": "AORZGysULDgb",
        "colab_type": "code",
        "colab": {}
      },
      "source": [
        "import tensorflow as tf\n",
        "from tensorflow import keras"
      ],
      "execution_count": 0,
      "outputs": []
    },
    {
      "cell_type": "code",
      "metadata": {
        "id": "FHfxjdbGLODu",
        "colab_type": "code",
        "colab": {}
      },
      "source": [
        "from sklearn.datasets import load_boston"
      ],
      "execution_count": 0,
      "outputs": []
    },
    {
      "cell_type": "code",
      "metadata": {
        "id": "B9bQO9ipLZ1Y",
        "colab_type": "code",
        "colab": {}
      },
      "source": [
        "tf.random.set_random_seed(42)"
      ],
      "execution_count": 0,
      "outputs": []
    },
    {
      "cell_type": "code",
      "metadata": {
        "id": "sxpixUkjMCQn",
        "colab_type": "code",
        "colab": {}
      },
      "source": [
        "np.random.seed(42)"
      ],
      "execution_count": 0,
      "outputs": []
    },
    {
      "cell_type": "code",
      "metadata": {
        "id": "MUuilmL9McKf",
        "colab_type": "code",
        "colab": {}
      },
      "source": [
        "boston=load_boston()"
      ],
      "execution_count": 0,
      "outputs": []
    },
    {
      "cell_type": "code",
      "metadata": {
        "id": "97kYFmFXMhOo",
        "colab_type": "code",
        "colab": {}
      },
      "source": [
        "X = boston.data\n",
        "y = boston.target"
      ],
      "execution_count": 0,
      "outputs": []
    },
    {
      "cell_type": "code",
      "metadata": {
        "id": "cJroeTEuMoWC",
        "colab_type": "code",
        "colab": {}
      },
      "source": [
        "from sklearn.model_selection import train_test_split"
      ],
      "execution_count": 0,
      "outputs": []
    },
    {
      "cell_type": "code",
      "metadata": {
        "id": "eTn7KJRYMsdk",
        "colab_type": "code",
        "colab": {}
      },
      "source": [
        "xtrain,xtest,ytrain,ytest=train_test_split(X,y, test_size=0.3,random_state=42)"
      ],
      "execution_count": 0,
      "outputs": []
    },
    {
      "cell_type": "code",
      "metadata": {
        "id": "S4RyVSrvM5G4",
        "colab_type": "code",
        "colab": {}
      },
      "source": [
        "from sklearn.preprocessing import StandardScaler"
      ],
      "execution_count": 0,
      "outputs": []
    },
    {
      "cell_type": "code",
      "metadata": {
        "id": "Fh0a_xxaNGiX",
        "colab_type": "code",
        "colab": {}
      },
      "source": [
        "sc=StandardScaler()"
      ],
      "execution_count": 0,
      "outputs": []
    },
    {
      "cell_type": "code",
      "metadata": {
        "id": "PiNUgS-iNJ-m",
        "colab_type": "code",
        "outputId": "b4b30546-b357-42e6-abe9-8b3aac48dc15",
        "colab": {
          "base_uri": "https://localhost:8080/",
          "height": 34
        }
      },
      "source": [
        "sc.fit(xtrain,y)"
      ],
      "execution_count": 0,
      "outputs": [
        {
          "output_type": "execute_result",
          "data": {
            "text/plain": [
              "StandardScaler(copy=True, with_mean=True, with_std=True)"
            ]
          },
          "metadata": {
            "tags": []
          },
          "execution_count": 15
        }
      ]
    },
    {
      "cell_type": "code",
      "metadata": {
        "id": "z6ZpZOn-NLZW",
        "colab_type": "code",
        "colab": {}
      },
      "source": [
        "X_train_std = sc.transform(xtrain)\n",
        "X_test_std = sc.transform(xtest)"
      ],
      "execution_count": 0,
      "outputs": []
    },
    {
      "cell_type": "code",
      "metadata": {
        "id": "he64kPKRNR5m",
        "colab_type": "code",
        "colab": {}
      },
      "source": [
        "model_DNN = keras.models.Sequential()"
      ],
      "execution_count": 0,
      "outputs": []
    },
    {
      "cell_type": "code",
      "metadata": {
        "id": "0I_DmZYeNVjZ",
        "colab_type": "code",
        "outputId": "c15c7dd2-1a1c-420a-d19b-6062abbab91b",
        "colab": {
          "base_uri": "https://localhost:8080/",
          "height": 88
        }
      },
      "source": [
        "model_DNN.add(keras.layers.Dense(units=15, activation='relu', input_shape=xtrain.shape[1:]))\n",
        "model_DNN.add(keras.layers.Dense(units=12, activation='relu'))\n",
        "model_DNN.add(keras.layers.Dense(units=8, activation='relu'))\n",
        "model_DNN.add(keras.layers.Dense(units=4, activation='relu'))"
      ],
      "execution_count": 0,
      "outputs": [
        {
          "output_type": "stream",
          "text": [
            "WARNING:tensorflow:From /usr/local/lib/python3.6/dist-packages/tensorflow_core/python/ops/resource_variable_ops.py:1630: calling BaseResourceVariable.__init__ (from tensorflow.python.ops.resource_variable_ops) with constraint is deprecated and will be removed in a future version.\n",
            "Instructions for updating:\n",
            "If using Keras pass *_constraint arguments to layers.\n"
          ],
          "name": "stdout"
        }
      ]
    },
    {
      "cell_type": "code",
      "metadata": {
        "id": "iTIdl2K6NbW2",
        "colab_type": "code",
        "colab": {}
      },
      "source": [
        "model_DNN.add(keras.layers.Dense(units=1, activation='linear'))"
      ],
      "execution_count": 0,
      "outputs": []
    },
    {
      "cell_type": "code",
      "metadata": {
        "id": "E8Ibn1UnNeSY",
        "colab_type": "code",
        "colab": {}
      },
      "source": [
        "model_DNN.compile(loss='mse', optimizer='adam', metrics=['mae'])"
      ],
      "execution_count": 0,
      "outputs": []
    },
    {
      "cell_type": "code",
      "metadata": {
        "id": "w5RzpGjuNhP2",
        "colab_type": "code",
        "outputId": "295ea2b8-dd1c-4bda-df7c-f6ddf9be47a0",
        "colab": {
          "base_uri": "https://localhost:8080/",
          "height": 1000
        }
      },
      "source": [
        "model_DNN.fit(x=X_train_std, y=ytrain, validation_split=0.1, epochs=50,batch_size=16)"
      ],
      "execution_count": 0,
      "outputs": [
        {
          "output_type": "stream",
          "text": [
            "Train on 318 samples, validate on 36 samples\n",
            "Epoch 1/50\n",
            "318/318 [==============================] - 0s 994us/sample - loss: 601.3718 - mean_absolute_error: 22.5830 - val_loss: 560.0595 - val_mean_absolute_error: 21.9724\n",
            "Epoch 2/50\n",
            "318/318 [==============================] - 0s 122us/sample - loss: 573.0747 - mean_absolute_error: 21.9155 - val_loss: 525.7923 - val_mean_absolute_error: 21.1569\n",
            "Epoch 3/50\n",
            "318/318 [==============================] - 0s 129us/sample - loss: 532.8831 - mean_absolute_error: 20.8891 - val_loss: 473.5738 - val_mean_absolute_error: 19.8216\n",
            "Epoch 4/50\n",
            "318/318 [==============================] - 0s 129us/sample - loss: 472.5714 - mean_absolute_error: 19.2293 - val_loss: 396.5140 - val_mean_absolute_error: 17.7573\n",
            "Epoch 5/50\n",
            "318/318 [==============================] - 0s 129us/sample - loss: 387.6901 - mean_absolute_error: 16.9121 - val_loss: 295.8096 - val_mean_absolute_error: 14.7335\n",
            "Epoch 6/50\n",
            "318/318 [==============================] - 0s 130us/sample - loss: 282.3296 - mean_absolute_error: 14.2098 - val_loss: 190.9827 - val_mean_absolute_error: 11.2894\n",
            "Epoch 7/50\n",
            "318/318 [==============================] - 0s 127us/sample - loss: 179.9448 - mean_absolute_error: 10.8584 - val_loss: 104.0540 - val_mean_absolute_error: 7.2554\n",
            "Epoch 8/50\n",
            "318/318 [==============================] - 0s 127us/sample - loss: 101.4573 - mean_absolute_error: 7.6848 - val_loss: 68.0645 - val_mean_absolute_error: 5.6464\n",
            "Epoch 9/50\n",
            "318/318 [==============================] - 0s 116us/sample - loss: 70.0660 - mean_absolute_error: 6.3033 - val_loss: 57.5902 - val_mean_absolute_error: 5.4307\n",
            "Epoch 10/50\n",
            "318/318 [==============================] - 0s 110us/sample - loss: 53.8225 - mean_absolute_error: 5.5157 - val_loss: 50.5897 - val_mean_absolute_error: 4.9591\n",
            "Epoch 11/50\n",
            "318/318 [==============================] - 0s 118us/sample - loss: 43.8093 - mean_absolute_error: 5.0002 - val_loss: 45.9811 - val_mean_absolute_error: 4.7722\n",
            "Epoch 12/50\n",
            "318/318 [==============================] - 0s 121us/sample - loss: 36.4294 - mean_absolute_error: 4.6373 - val_loss: 43.2821 - val_mean_absolute_error: 4.6227\n",
            "Epoch 13/50\n",
            "318/318 [==============================] - 0s 115us/sample - loss: 31.9497 - mean_absolute_error: 4.3288 - val_loss: 42.6430 - val_mean_absolute_error: 4.5625\n",
            "Epoch 14/50\n",
            "318/318 [==============================] - 0s 125us/sample - loss: 28.5135 - mean_absolute_error: 4.0969 - val_loss: 40.9661 - val_mean_absolute_error: 4.4232\n",
            "Epoch 15/50\n",
            "318/318 [==============================] - 0s 120us/sample - loss: 26.2605 - mean_absolute_error: 3.8940 - val_loss: 40.2638 - val_mean_absolute_error: 4.3950\n",
            "Epoch 16/50\n",
            "318/318 [==============================] - 0s 113us/sample - loss: 24.5165 - mean_absolute_error: 3.7616 - val_loss: 40.4429 - val_mean_absolute_error: 4.3906\n",
            "Epoch 17/50\n",
            "318/318 [==============================] - 0s 113us/sample - loss: 23.0951 - mean_absolute_error: 3.6485 - val_loss: 39.6159 - val_mean_absolute_error: 4.3289\n",
            "Epoch 18/50\n",
            "318/318 [==============================] - 0s 123us/sample - loss: 22.1314 - mean_absolute_error: 3.5572 - val_loss: 39.3332 - val_mean_absolute_error: 4.3015\n",
            "Epoch 19/50\n",
            "318/318 [==============================] - 0s 117us/sample - loss: 21.2677 - mean_absolute_error: 3.5101 - val_loss: 39.0041 - val_mean_absolute_error: 4.2911\n",
            "Epoch 20/50\n",
            "318/318 [==============================] - 0s 125us/sample - loss: 20.4007 - mean_absolute_error: 3.4195 - val_loss: 38.5789 - val_mean_absolute_error: 4.2310\n",
            "Epoch 21/50\n",
            "318/318 [==============================] - 0s 128us/sample - loss: 19.6167 - mean_absolute_error: 3.3521 - val_loss: 38.5943 - val_mean_absolute_error: 4.2337\n",
            "Epoch 22/50\n",
            "318/318 [==============================] - 0s 121us/sample - loss: 19.0507 - mean_absolute_error: 3.3035 - val_loss: 37.0803 - val_mean_absolute_error: 4.1584\n",
            "Epoch 23/50\n",
            "318/318 [==============================] - 0s 127us/sample - loss: 18.6579 - mean_absolute_error: 3.2570 - val_loss: 37.9362 - val_mean_absolute_error: 4.1576\n",
            "Epoch 24/50\n",
            "318/318 [==============================] - 0s 125us/sample - loss: 17.8609 - mean_absolute_error: 3.1898 - val_loss: 37.0499 - val_mean_absolute_error: 4.1138\n",
            "Epoch 25/50\n",
            "318/318 [==============================] - 0s 122us/sample - loss: 17.6563 - mean_absolute_error: 3.1996 - val_loss: 35.3381 - val_mean_absolute_error: 4.0652\n",
            "Epoch 26/50\n",
            "318/318 [==============================] - 0s 137us/sample - loss: 17.0335 - mean_absolute_error: 3.1112 - val_loss: 35.8639 - val_mean_absolute_error: 4.0264\n",
            "Epoch 27/50\n",
            "318/318 [==============================] - 0s 154us/sample - loss: 16.5097 - mean_absolute_error: 3.0640 - val_loss: 34.9880 - val_mean_absolute_error: 3.9940\n",
            "Epoch 28/50\n",
            "318/318 [==============================] - 0s 115us/sample - loss: 16.1000 - mean_absolute_error: 3.0370 - val_loss: 34.8036 - val_mean_absolute_error: 3.9539\n",
            "Epoch 29/50\n",
            "318/318 [==============================] - 0s 126us/sample - loss: 15.8676 - mean_absolute_error: 3.0029 - val_loss: 33.3538 - val_mean_absolute_error: 3.9075\n",
            "Epoch 30/50\n",
            "318/318 [==============================] - 0s 126us/sample - loss: 15.4176 - mean_absolute_error: 2.9636 - val_loss: 33.9593 - val_mean_absolute_error: 3.9181\n",
            "Epoch 31/50\n",
            "318/318 [==============================] - 0s 146us/sample - loss: 15.1708 - mean_absolute_error: 2.9333 - val_loss: 32.9554 - val_mean_absolute_error: 3.8638\n",
            "Epoch 32/50\n",
            "318/318 [==============================] - 0s 113us/sample - loss: 14.8065 - mean_absolute_error: 2.9107 - val_loss: 32.8973 - val_mean_absolute_error: 3.8249\n",
            "Epoch 33/50\n",
            "318/318 [==============================] - 0s 116us/sample - loss: 14.4151 - mean_absolute_error: 2.8564 - val_loss: 31.6147 - val_mean_absolute_error: 3.7472\n",
            "Epoch 34/50\n",
            "318/318 [==============================] - 0s 119us/sample - loss: 14.1953 - mean_absolute_error: 2.8042 - val_loss: 32.8022 - val_mean_absolute_error: 3.8085\n",
            "Epoch 35/50\n",
            "318/318 [==============================] - 0s 113us/sample - loss: 13.8974 - mean_absolute_error: 2.8357 - val_loss: 31.0714 - val_mean_absolute_error: 3.7253\n",
            "Epoch 36/50\n",
            "318/318 [==============================] - 0s 120us/sample - loss: 13.4621 - mean_absolute_error: 2.7311 - val_loss: 30.9388 - val_mean_absolute_error: 3.7058\n",
            "Epoch 37/50\n",
            "318/318 [==============================] - 0s 118us/sample - loss: 13.1789 - mean_absolute_error: 2.7413 - val_loss: 30.2267 - val_mean_absolute_error: 3.6525\n",
            "Epoch 38/50\n",
            "318/318 [==============================] - 0s 123us/sample - loss: 12.9717 - mean_absolute_error: 2.7193 - val_loss: 31.1544 - val_mean_absolute_error: 3.7646\n",
            "Epoch 39/50\n",
            "318/318 [==============================] - 0s 116us/sample - loss: 12.7415 - mean_absolute_error: 2.6811 - val_loss: 29.5245 - val_mean_absolute_error: 3.6235\n",
            "Epoch 40/50\n",
            "318/318 [==============================] - 0s 120us/sample - loss: 12.5028 - mean_absolute_error: 2.6511 - val_loss: 30.1346 - val_mean_absolute_error: 3.6458\n",
            "Epoch 41/50\n",
            "318/318 [==============================] - 0s 114us/sample - loss: 12.1732 - mean_absolute_error: 2.6133 - val_loss: 29.3919 - val_mean_absolute_error: 3.6348\n",
            "Epoch 42/50\n",
            "318/318 [==============================] - 0s 127us/sample - loss: 12.0214 - mean_absolute_error: 2.6087 - val_loss: 28.9770 - val_mean_absolute_error: 3.6119\n",
            "Epoch 43/50\n",
            "318/318 [==============================] - 0s 126us/sample - loss: 11.9292 - mean_absolute_error: 2.5892 - val_loss: 29.0843 - val_mean_absolute_error: 3.5985\n",
            "Epoch 44/50\n",
            "318/318 [==============================] - 0s 123us/sample - loss: 11.6912 - mean_absolute_error: 2.5731 - val_loss: 27.9156 - val_mean_absolute_error: 3.5445\n",
            "Epoch 45/50\n",
            "318/318 [==============================] - 0s 121us/sample - loss: 11.5058 - mean_absolute_error: 2.5531 - val_loss: 28.4010 - val_mean_absolute_error: 3.5883\n",
            "Epoch 46/50\n",
            "318/318 [==============================] - 0s 136us/sample - loss: 11.4003 - mean_absolute_error: 2.5405 - val_loss: 28.9966 - val_mean_absolute_error: 3.5975\n",
            "Epoch 47/50\n",
            "318/318 [==============================] - 0s 113us/sample - loss: 11.0977 - mean_absolute_error: 2.5082 - val_loss: 27.5329 - val_mean_absolute_error: 3.5379\n",
            "Epoch 48/50\n",
            "318/318 [==============================] - 0s 133us/sample - loss: 11.0191 - mean_absolute_error: 2.5199 - val_loss: 28.0739 - val_mean_absolute_error: 3.5804\n",
            "Epoch 49/50\n",
            "318/318 [==============================] - 0s 122us/sample - loss: 10.9083 - mean_absolute_error: 2.4918 - val_loss: 27.3340 - val_mean_absolute_error: 3.5160\n",
            "Epoch 50/50\n",
            "318/318 [==============================] - 0s 123us/sample - loss: 10.7006 - mean_absolute_error: 2.4719 - val_loss: 27.4967 - val_mean_absolute_error: 3.5574\n"
          ],
          "name": "stdout"
        },
        {
          "output_type": "execute_result",
          "data": {
            "text/plain": [
              "<tensorflow.python.keras.callbacks.History at 0x7fcbac163f98>"
            ]
          },
          "metadata": {
            "tags": []
          },
          "execution_count": 22
        }
      ]
    },
    {
      "cell_type": "code",
      "metadata": {
        "id": "4Ny7iHcXNkSJ",
        "colab_type": "code",
        "outputId": "7aca7892-759f-443c-f62f-bd7dbc4b00be",
        "colab": {
          "base_uri": "https://localhost:8080/",
          "height": 34
        }
      },
      "source": [
        "test_loss, test_accuracy = model_DNN.evaluate(x=X_test_std, y=ytest)"
      ],
      "execution_count": 0,
      "outputs": [
        {
          "output_type": "stream",
          "text": [
            "152/152 [==============================] - 0s 79us/sample - loss: 16.4052 - mean_absolute_error: 2.8937\n"
          ],
          "name": "stdout"
        }
      ]
    },
    {
      "cell_type": "code",
      "metadata": {
        "id": "h2xmXkB2NrUe",
        "colab_type": "code",
        "outputId": "e9b0ed45-1844-4169-b521-1ae901946ca7",
        "colab": {
          "base_uri": "https://localhost:8080/",
          "height": 34
        }
      },
      "source": [
        "print(test_loss, test_accuracy)"
      ],
      "execution_count": 0,
      "outputs": [
        {
          "output_type": "stream",
          "text": [
            "16.405241514507093 2.893684\n"
          ],
          "name": "stdout"
        }
      ]
    },
    {
      "cell_type": "markdown",
      "metadata": {
        "id": "nwrGazLIOQ0G",
        "colab_type": "text"
      },
      "source": [
        "CLASSIFICATION USING WINE"
      ]
    },
    {
      "cell_type": "code",
      "metadata": {
        "id": "-Mp6nJiSNt7z",
        "colab_type": "code",
        "colab": {}
      },
      "source": [
        "from sklearn.datasets import load_wine"
      ],
      "execution_count": 0,
      "outputs": []
    },
    {
      "cell_type": "code",
      "metadata": {
        "id": "ZfiHccFROXit",
        "colab_type": "code",
        "colab": {}
      },
      "source": [
        "tf.random.set_random_seed(42)"
      ],
      "execution_count": 0,
      "outputs": []
    },
    {
      "cell_type": "code",
      "metadata": {
        "id": "1TFTmiY2Oc42",
        "colab_type": "code",
        "colab": {}
      },
      "source": [
        "np.random.seed(42)"
      ],
      "execution_count": 0,
      "outputs": []
    },
    {
      "cell_type": "code",
      "metadata": {
        "id": "tx1nQAlVOiDb",
        "colab_type": "code",
        "colab": {}
      },
      "source": [
        "wine=load_wine()"
      ],
      "execution_count": 0,
      "outputs": []
    },
    {
      "cell_type": "code",
      "metadata": {
        "id": "HBSqx81NOkQ2",
        "colab_type": "code",
        "colab": {}
      },
      "source": [
        "x=wine.data\n",
        "y=wine.target"
      ],
      "execution_count": 0,
      "outputs": []
    },
    {
      "cell_type": "code",
      "metadata": {
        "id": "TxlnArhxOpDk",
        "colab_type": "code",
        "colab": {}
      },
      "source": [
        "X_train, X_test, y_train, y_test = train_test_split(x, y, test_size=0.2,stratify=y, random_state=42)"
      ],
      "execution_count": 0,
      "outputs": []
    },
    {
      "cell_type": "code",
      "metadata": {
        "id": "Ua3-sgT4Outy",
        "colab_type": "code",
        "outputId": "57a4cd4f-8faf-4c01-bb32-cc3631a87945",
        "colab": {
          "base_uri": "https://localhost:8080/",
          "height": 34
        }
      },
      "source": [
        "sc.fit(X_train)"
      ],
      "execution_count": 0,
      "outputs": [
        {
          "output_type": "execute_result",
          "data": {
            "text/plain": [
              "StandardScaler(copy=True, with_mean=True, with_std=True)"
            ]
          },
          "metadata": {
            "tags": []
          },
          "execution_count": 33
        }
      ]
    },
    {
      "cell_type": "code",
      "metadata": {
        "id": "WUO2m-PiO1C5",
        "colab_type": "code",
        "colab": {}
      },
      "source": [
        "X_train_std = sc.transform(X_train)\n",
        "X_test_std = sc.transform(X_test)\n"
      ],
      "execution_count": 0,
      "outputs": []
    },
    {
      "cell_type": "code",
      "metadata": {
        "id": "ZA6CWvo0O3q5",
        "colab_type": "code",
        "colab": {}
      },
      "source": [
        "model_DNN = keras.models.Sequential()\n"
      ],
      "execution_count": 0,
      "outputs": []
    },
    {
      "cell_type": "code",
      "metadata": {
        "id": "FtzfnuC0O7sJ",
        "colab_type": "code",
        "colab": {}
      },
      "source": [
        "model_DNN.add(keras.layers.Dense(units=15, activation='relu', input_shape=X_train.shape[1:]))\n",
        "model_DNN.add(keras.layers.Dense(units=12, activation='relu'))\n",
        "model_DNN.add(keras.layers.Dense(units=8, activation='relu'))\n",
        "model_DNN.add(keras.layers.Dense(units=4, activation='relu'))"
      ],
      "execution_count": 0,
      "outputs": []
    },
    {
      "cell_type": "code",
      "metadata": {
        "id": "crYQVV7-O--W",
        "colab_type": "code",
        "colab": {}
      },
      "source": [
        "model_DNN.add(keras.layers.Dense(units=3, activation='softmax'))"
      ],
      "execution_count": 0,
      "outputs": []
    },
    {
      "cell_type": "code",
      "metadata": {
        "id": "wpO1eeSlPCey",
        "colab_type": "code",
        "colab": {}
      },
      "source": [
        "model_DNN.compile(loss='sparse_categorical_crossentropy',optimizer='adam', metrics=['accuracy'])"
      ],
      "execution_count": 0,
      "outputs": []
    },
    {
      "cell_type": "code",
      "metadata": {
        "id": "epO5BpuyPGv3",
        "colab_type": "code",
        "outputId": "5749ba70-64d5-4913-dd26-5637d26b26ba",
        "colab": {
          "base_uri": "https://localhost:8080/",
          "height": 1000
        }
      },
      "source": [
        "model_DNN.fit(x=X_train_std, y=y_train, validation_split=0.1, epochs=50,batch_size=16)\n"
      ],
      "execution_count": 0,
      "outputs": [
        {
          "output_type": "stream",
          "text": [
            "Train on 127 samples, validate on 15 samples\n",
            "Epoch 1/50\n",
            "127/127 [==============================] - 0s 1ms/sample - loss: 1.1073 - acc: 0.2913 - val_loss: 1.0163 - val_acc: 0.5333\n",
            "Epoch 2/50\n",
            "127/127 [==============================] - 0s 162us/sample - loss: 1.0751 - acc: 0.3386 - val_loss: 0.9886 - val_acc: 0.5333\n",
            "Epoch 3/50\n",
            "127/127 [==============================] - 0s 157us/sample - loss: 1.0442 - acc: 0.4331 - val_loss: 0.9607 - val_acc: 0.6667\n",
            "Epoch 4/50\n",
            "127/127 [==============================] - 0s 156us/sample - loss: 1.0108 - acc: 0.5118 - val_loss: 0.9273 - val_acc: 0.7333\n",
            "Epoch 5/50\n",
            "127/127 [==============================] - 0s 184us/sample - loss: 0.9765 - acc: 0.5433 - val_loss: 0.8873 - val_acc: 0.7333\n",
            "Epoch 6/50\n",
            "127/127 [==============================] - 0s 143us/sample - loss: 0.9409 - acc: 0.5827 - val_loss: 0.8372 - val_acc: 0.8000\n",
            "Epoch 7/50\n",
            "127/127 [==============================] - 0s 148us/sample - loss: 0.9027 - acc: 0.5827 - val_loss: 0.7840 - val_acc: 0.8000\n",
            "Epoch 8/50\n",
            "127/127 [==============================] - 0s 149us/sample - loss: 0.8625 - acc: 0.5827 - val_loss: 0.7282 - val_acc: 0.8000\n",
            "Epoch 9/50\n",
            "127/127 [==============================] - 0s 145us/sample - loss: 0.8216 - acc: 0.6063 - val_loss: 0.6692 - val_acc: 0.8000\n",
            "Epoch 10/50\n",
            "127/127 [==============================] - 0s 177us/sample - loss: 0.7803 - acc: 0.6063 - val_loss: 0.6117 - val_acc: 0.8000\n",
            "Epoch 11/50\n",
            "127/127 [==============================] - 0s 173us/sample - loss: 0.7419 - acc: 0.6142 - val_loss: 0.5541 - val_acc: 0.8000\n",
            "Epoch 12/50\n",
            "127/127 [==============================] - 0s 226us/sample - loss: 0.7018 - acc: 0.6220 - val_loss: 0.5067 - val_acc: 0.8000\n",
            "Epoch 13/50\n",
            "127/127 [==============================] - 0s 150us/sample - loss: 0.6638 - acc: 0.6299 - val_loss: 0.4621 - val_acc: 0.8000\n",
            "Epoch 14/50\n",
            "127/127 [==============================] - 0s 174us/sample - loss: 0.6295 - acc: 0.6535 - val_loss: 0.4220 - val_acc: 0.8667\n",
            "Epoch 15/50\n",
            "127/127 [==============================] - 0s 144us/sample - loss: 0.5963 - acc: 0.6535 - val_loss: 0.3862 - val_acc: 0.8667\n",
            "Epoch 16/50\n",
            "127/127 [==============================] - 0s 140us/sample - loss: 0.5675 - acc: 0.6614 - val_loss: 0.3540 - val_acc: 0.8667\n",
            "Epoch 17/50\n",
            "127/127 [==============================] - 0s 169us/sample - loss: 0.5408 - acc: 0.6614 - val_loss: 0.3265 - val_acc: 0.8667\n",
            "Epoch 18/50\n",
            "127/127 [==============================] - 0s 184us/sample - loss: 0.5176 - acc: 0.6772 - val_loss: 0.3041 - val_acc: 0.8667\n",
            "Epoch 19/50\n",
            "127/127 [==============================] - 0s 182us/sample - loss: 0.4950 - acc: 0.6850 - val_loss: 0.2861 - val_acc: 0.8667\n",
            "Epoch 20/50\n",
            "127/127 [==============================] - 0s 164us/sample - loss: 0.4757 - acc: 0.6850 - val_loss: 0.2714 - val_acc: 0.8667\n",
            "Epoch 21/50\n",
            "127/127 [==============================] - 0s 159us/sample - loss: 0.4571 - acc: 0.7008 - val_loss: 0.2589 - val_acc: 0.8667\n",
            "Epoch 22/50\n",
            "127/127 [==============================] - 0s 170us/sample - loss: 0.4414 - acc: 0.7402 - val_loss: 0.2465 - val_acc: 0.8667\n",
            "Epoch 23/50\n",
            "127/127 [==============================] - 0s 170us/sample - loss: 0.4255 - acc: 0.7638 - val_loss: 0.2364 - val_acc: 0.9333\n",
            "Epoch 24/50\n",
            "127/127 [==============================] - 0s 157us/sample - loss: 0.4101 - acc: 0.8031 - val_loss: 0.2251 - val_acc: 1.0000\n",
            "Epoch 25/50\n",
            "127/127 [==============================] - 0s 158us/sample - loss: 0.3942 - acc: 0.8346 - val_loss: 0.2170 - val_acc: 1.0000\n",
            "Epoch 26/50\n",
            "127/127 [==============================] - 0s 150us/sample - loss: 0.3788 - acc: 0.8819 - val_loss: 0.2062 - val_acc: 1.0000\n",
            "Epoch 27/50\n",
            "127/127 [==============================] - 0s 142us/sample - loss: 0.3618 - acc: 0.9055 - val_loss: 0.1955 - val_acc: 1.0000\n",
            "Epoch 28/50\n",
            "127/127 [==============================] - 0s 160us/sample - loss: 0.3448 - acc: 0.9134 - val_loss: 0.1847 - val_acc: 1.0000\n",
            "Epoch 29/50\n",
            "127/127 [==============================] - 0s 199us/sample - loss: 0.3254 - acc: 0.9291 - val_loss: 0.1704 - val_acc: 1.0000\n",
            "Epoch 30/50\n",
            "127/127 [==============================] - 0s 157us/sample - loss: 0.3032 - acc: 0.9449 - val_loss: 0.1561 - val_acc: 1.0000\n",
            "Epoch 31/50\n",
            "127/127 [==============================] - 0s 151us/sample - loss: 0.2779 - acc: 0.9685 - val_loss: 0.1386 - val_acc: 1.0000\n",
            "Epoch 32/50\n",
            "127/127 [==============================] - 0s 150us/sample - loss: 0.2504 - acc: 0.9764 - val_loss: 0.1210 - val_acc: 1.0000\n",
            "Epoch 33/50\n",
            "127/127 [==============================] - 0s 171us/sample - loss: 0.2181 - acc: 0.9764 - val_loss: 0.1034 - val_acc: 1.0000\n",
            "Epoch 34/50\n",
            "127/127 [==============================] - 0s 152us/sample - loss: 0.1854 - acc: 0.9843 - val_loss: 0.0869 - val_acc: 1.0000\n",
            "Epoch 35/50\n",
            "127/127 [==============================] - 0s 169us/sample - loss: 0.1597 - acc: 0.9843 - val_loss: 0.0724 - val_acc: 1.0000\n",
            "Epoch 36/50\n",
            "127/127 [==============================] - 0s 140us/sample - loss: 0.1321 - acc: 0.9843 - val_loss: 0.0604 - val_acc: 1.0000\n",
            "Epoch 37/50\n",
            "127/127 [==============================] - 0s 147us/sample - loss: 0.1099 - acc: 0.9843 - val_loss: 0.0513 - val_acc: 1.0000\n",
            "Epoch 38/50\n",
            "127/127 [==============================] - 0s 164us/sample - loss: 0.0928 - acc: 0.9843 - val_loss: 0.0440 - val_acc: 1.0000\n",
            "Epoch 39/50\n",
            "127/127 [==============================] - 0s 169us/sample - loss: 0.0799 - acc: 0.9843 - val_loss: 0.0386 - val_acc: 1.0000\n",
            "Epoch 40/50\n",
            "127/127 [==============================] - 0s 151us/sample - loss: 0.0664 - acc: 0.9843 - val_loss: 0.0352 - val_acc: 1.0000\n",
            "Epoch 41/50\n",
            "127/127 [==============================] - 0s 134us/sample - loss: 0.0567 - acc: 0.9921 - val_loss: 0.0326 - val_acc: 1.0000\n",
            "Epoch 42/50\n",
            "127/127 [==============================] - 0s 144us/sample - loss: 0.0468 - acc: 0.9843 - val_loss: 0.0313 - val_acc: 1.0000\n",
            "Epoch 43/50\n",
            "127/127 [==============================] - 0s 172us/sample - loss: 0.0411 - acc: 0.9921 - val_loss: 0.0299 - val_acc: 1.0000\n",
            "Epoch 44/50\n",
            "127/127 [==============================] - 0s 148us/sample - loss: 0.0351 - acc: 1.0000 - val_loss: 0.0279 - val_acc: 1.0000\n",
            "Epoch 45/50\n",
            "127/127 [==============================] - 0s 148us/sample - loss: 0.0294 - acc: 1.0000 - val_loss: 0.0275 - val_acc: 1.0000\n",
            "Epoch 46/50\n",
            "127/127 [==============================] - 0s 130us/sample - loss: 0.0256 - acc: 1.0000 - val_loss: 0.0257 - val_acc: 1.0000\n",
            "Epoch 47/50\n",
            "127/127 [==============================] - 0s 147us/sample - loss: 0.0227 - acc: 1.0000 - val_loss: 0.0241 - val_acc: 1.0000\n",
            "Epoch 48/50\n",
            "127/127 [==============================] - 0s 146us/sample - loss: 0.0198 - acc: 1.0000 - val_loss: 0.0231 - val_acc: 1.0000\n",
            "Epoch 49/50\n",
            "127/127 [==============================] - 0s 141us/sample - loss: 0.0179 - acc: 1.0000 - val_loss: 0.0222 - val_acc: 1.0000\n",
            "Epoch 50/50\n",
            "127/127 [==============================] - 0s 140us/sample - loss: 0.0159 - acc: 1.0000 - val_loss: 0.0210 - val_acc: 1.0000\n"
          ],
          "name": "stdout"
        },
        {
          "output_type": "execute_result",
          "data": {
            "text/plain": [
              "<tensorflow.python.keras.callbacks.History at 0x7fcba5991c50>"
            ]
          },
          "metadata": {
            "tags": []
          },
          "execution_count": 39
        }
      ]
    },
    {
      "cell_type": "code",
      "metadata": {
        "id": "RDCDJ30WPJbR",
        "colab_type": "code",
        "outputId": "d55423d2-44c3-4600-cd18-d2e2964ba502",
        "colab": {
          "base_uri": "https://localhost:8080/",
          "height": 34
        }
      },
      "source": [
        "test_loss, test_accuracy = model_DNN.evaluate(x=X_test_std, y=y_test)"
      ],
      "execution_count": 0,
      "outputs": [
        {
          "output_type": "stream",
          "text": [
            "36/36 [==============================] - 0s 197us/sample - loss: 0.1426 - acc: 0.9722\n"
          ],
          "name": "stdout"
        }
      ]
    },
    {
      "cell_type": "code",
      "metadata": {
        "id": "jHBP_6M6PL2-",
        "colab_type": "code",
        "outputId": "a9e98c66-b006-4503-fae2-7c9aac02abf1",
        "colab": {
          "base_uri": "https://localhost:8080/",
          "height": 34
        }
      },
      "source": [
        "print(test_loss, test_accuracy)"
      ],
      "execution_count": 0,
      "outputs": [
        {
          "output_type": "stream",
          "text": [
            "0.1425540876419594 0.9722222\n"
          ],
          "name": "stdout"
        }
      ]
    },
    {
      "cell_type": "markdown",
      "metadata": {
        "id": "E0VkiZN4P4zs",
        "colab_type": "text"
      },
      "source": [
        "IRIS"
      ]
    },
    {
      "cell_type": "code",
      "metadata": {
        "id": "FJ6V8TbKPPHH",
        "colab_type": "code",
        "colab": {}
      },
      "source": [
        "from sklearn.datasets import load_iris"
      ],
      "execution_count": 0,
      "outputs": []
    },
    {
      "cell_type": "code",
      "metadata": {
        "id": "TECc_NvjQFaH",
        "colab_type": "code",
        "colab": {}
      },
      "source": [
        "tf.random.set_random_seed(42)\n",
        "np.random.seed(42)"
      ],
      "execution_count": 0,
      "outputs": []
    },
    {
      "cell_type": "code",
      "metadata": {
        "id": "0HPoPxgvP0Jc",
        "colab_type": "code",
        "colab": {}
      },
      "source": [
        "iris=load_iris()"
      ],
      "execution_count": 0,
      "outputs": []
    },
    {
      "cell_type": "code",
      "metadata": {
        "id": "A14OYaeOP-9a",
        "colab_type": "code",
        "colab": {}
      },
      "source": [
        "x=iris.data\n",
        "y=iris.target"
      ],
      "execution_count": 0,
      "outputs": []
    },
    {
      "cell_type": "code",
      "metadata": {
        "id": "XS87PHnQQB5J",
        "colab_type": "code",
        "colab": {}
      },
      "source": [
        "X_train, X_test, y_train, y_test = train_test_split(x, y, test_size=0.2,stratify=y, random_state=42)"
      ],
      "execution_count": 0,
      "outputs": []
    },
    {
      "cell_type": "code",
      "metadata": {
        "id": "ifAWlPyEQLjo",
        "colab_type": "code",
        "outputId": "f7500d02-ac61-4b2e-8a7d-e92ad3cf70eb",
        "colab": {
          "base_uri": "https://localhost:8080/",
          "height": 34
        }
      },
      "source": [
        "sc.fit(X_train)"
      ],
      "execution_count": 0,
      "outputs": [
        {
          "output_type": "execute_result",
          "data": {
            "text/plain": [
              "StandardScaler(copy=True, with_mean=True, with_std=True)"
            ]
          },
          "metadata": {
            "tags": []
          },
          "execution_count": 48
        }
      ]
    },
    {
      "cell_type": "code",
      "metadata": {
        "id": "7rBk1VdpQRbB",
        "colab_type": "code",
        "colab": {}
      },
      "source": [
        "X_train_std = sc.transform(X_train)\n",
        "X_test_std = sc.transform(X_test)"
      ],
      "execution_count": 0,
      "outputs": []
    },
    {
      "cell_type": "code",
      "metadata": {
        "id": "08EOyIeMQSiJ",
        "colab_type": "code",
        "colab": {}
      },
      "source": [
        "model_DNN = keras.models.Sequential()\n"
      ],
      "execution_count": 0,
      "outputs": []
    },
    {
      "cell_type": "code",
      "metadata": {
        "id": "gFB1xnlsQWAd",
        "colab_type": "code",
        "colab": {}
      },
      "source": [
        "model_DNN.add(keras.layers.Dense(units=12, activation='relu', input_shape=X_train.shape[1:]))\n",
        "model_DNN.add(keras.layers.Dense(units=10, activation='relu'))\n",
        "model_DNN.add(keras.layers.Dense(units= 8, activation='relu'))\n",
        "model_DNN.add(keras.layers.Dense(units=6, activation='relu'))"
      ],
      "execution_count": 0,
      "outputs": []
    },
    {
      "cell_type": "code",
      "metadata": {
        "id": "phvWs_6XQY3K",
        "colab_type": "code",
        "colab": {}
      },
      "source": [
        "model_DNN.add(keras.layers.Dense(units=3, activation='sigmoid'))\n"
      ],
      "execution_count": 0,
      "outputs": []
    },
    {
      "cell_type": "code",
      "metadata": {
        "id": "-lsyzFuSQbNl",
        "colab_type": "code",
        "colab": {}
      },
      "source": [
        "model_DNN.compile(loss='sparse_categorical_crossentropy',optimizer='adam', metrics=['accuracy'])"
      ],
      "execution_count": 0,
      "outputs": []
    },
    {
      "cell_type": "code",
      "metadata": {
        "id": "toEF7cPDQfIS",
        "colab_type": "code",
        "outputId": "c63fe4b7-9b5a-4416-bf3d-655efc3ec035",
        "colab": {
          "base_uri": "https://localhost:8080/",
          "height": 1000
        }
      },
      "source": [
        "model_DNN.fit(x=X_train_std, y=y_train, validation_split=0.1, epochs=50,batch_size=16)"
      ],
      "execution_count": 0,
      "outputs": [
        {
          "output_type": "stream",
          "text": [
            "WARNING:tensorflow:From /usr/local/lib/python3.6/dist-packages/tensorflow_core/python/ops/math_grad.py:1424: where (from tensorflow.python.ops.array_ops) is deprecated and will be removed in a future version.\n",
            "Instructions for updating:\n",
            "Use tf.where in 2.0, which has the same broadcast rule as np.where\n",
            "Train on 108 samples, validate on 12 samples\n",
            "Epoch 1/50\n",
            "108/108 [==============================] - 0s 2ms/sample - loss: 1.0929 - acc: 0.3333 - val_loss: 1.0760 - val_acc: 0.5000\n",
            "Epoch 2/50\n",
            "108/108 [==============================] - 0s 153us/sample - loss: 1.0835 - acc: 0.3241 - val_loss: 1.0687 - val_acc: 0.5000\n",
            "Epoch 3/50\n",
            "108/108 [==============================] - 0s 152us/sample - loss: 1.0762 - acc: 0.3611 - val_loss: 1.0612 - val_acc: 0.5000\n",
            "Epoch 4/50\n",
            "108/108 [==============================] - 0s 199us/sample - loss: 1.0691 - acc: 0.4907 - val_loss: 1.0523 - val_acc: 0.6667\n",
            "Epoch 5/50\n",
            "108/108 [==============================] - 0s 133us/sample - loss: 1.0613 - acc: 0.5278 - val_loss: 1.0413 - val_acc: 0.6667\n",
            "Epoch 6/50\n",
            "108/108 [==============================] - 0s 145us/sample - loss: 1.0529 - acc: 0.6019 - val_loss: 1.0254 - val_acc: 0.5833\n",
            "Epoch 7/50\n",
            "108/108 [==============================] - 0s 136us/sample - loss: 1.0402 - acc: 0.6481 - val_loss: 1.0053 - val_acc: 0.5833\n",
            "Epoch 8/50\n",
            "108/108 [==============================] - 0s 152us/sample - loss: 1.0245 - acc: 0.7130 - val_loss: 0.9767 - val_acc: 0.6667\n",
            "Epoch 9/50\n",
            "108/108 [==============================] - 0s 131us/sample - loss: 1.0055 - acc: 0.7315 - val_loss: 0.9307 - val_acc: 0.5833\n",
            "Epoch 10/50\n",
            "108/108 [==============================] - 0s 133us/sample - loss: 0.9789 - acc: 0.7222 - val_loss: 0.8755 - val_acc: 0.6667\n",
            "Epoch 11/50\n",
            "108/108 [==============================] - 0s 126us/sample - loss: 0.9427 - acc: 0.7222 - val_loss: 0.8170 - val_acc: 0.6667\n",
            "Epoch 12/50\n",
            "108/108 [==============================] - 0s 182us/sample - loss: 0.9013 - acc: 0.7130 - val_loss: 0.7546 - val_acc: 0.6667\n",
            "Epoch 13/50\n",
            "108/108 [==============================] - 0s 158us/sample - loss: 0.8562 - acc: 0.7315 - val_loss: 0.6923 - val_acc: 0.6667\n",
            "Epoch 14/50\n",
            "108/108 [==============================] - 0s 122us/sample - loss: 0.8209 - acc: 0.7315 - val_loss: 0.6413 - val_acc: 0.6667\n",
            "Epoch 15/50\n",
            "108/108 [==============================] - 0s 147us/sample - loss: 0.7862 - acc: 0.7685 - val_loss: 0.6084 - val_acc: 0.6667\n",
            "Epoch 16/50\n",
            "108/108 [==============================] - 0s 147us/sample - loss: 0.7613 - acc: 0.8056 - val_loss: 0.5871 - val_acc: 0.6667\n",
            "Epoch 17/50\n",
            "108/108 [==============================] - 0s 120us/sample - loss: 0.7421 - acc: 0.8056 - val_loss: 0.5718 - val_acc: 0.6667\n",
            "Epoch 18/50\n",
            "108/108 [==============================] - 0s 146us/sample - loss: 0.7260 - acc: 0.8148 - val_loss: 0.5600 - val_acc: 0.6667\n",
            "Epoch 19/50\n",
            "108/108 [==============================] - 0s 147us/sample - loss: 0.7112 - acc: 0.8333 - val_loss: 0.5490 - val_acc: 0.6667\n",
            "Epoch 20/50\n",
            "108/108 [==============================] - 0s 152us/sample - loss: 0.6972 - acc: 0.8519 - val_loss: 0.5380 - val_acc: 0.7500\n",
            "Epoch 21/50\n",
            "108/108 [==============================] - 0s 158us/sample - loss: 0.6824 - acc: 0.8611 - val_loss: 0.5275 - val_acc: 0.7500\n",
            "Epoch 22/50\n",
            "108/108 [==============================] - 0s 128us/sample - loss: 0.6674 - acc: 0.8704 - val_loss: 0.5145 - val_acc: 0.7500\n",
            "Epoch 23/50\n",
            "108/108 [==============================] - 0s 134us/sample - loss: 0.6501 - acc: 0.8796 - val_loss: 0.5011 - val_acc: 0.7500\n",
            "Epoch 24/50\n",
            "108/108 [==============================] - 0s 167us/sample - loss: 0.6314 - acc: 0.8981 - val_loss: 0.4832 - val_acc: 0.8333\n",
            "Epoch 25/50\n",
            "108/108 [==============================] - 0s 171us/sample - loss: 0.6088 - acc: 0.8981 - val_loss: 0.4677 - val_acc: 0.8333\n",
            "Epoch 26/50\n",
            "108/108 [==============================] - 0s 193us/sample - loss: 0.5831 - acc: 0.9167 - val_loss: 0.4442 - val_acc: 0.9167\n",
            "Epoch 27/50\n",
            "108/108 [==============================] - 0s 138us/sample - loss: 0.5504 - acc: 0.9167 - val_loss: 0.4152 - val_acc: 0.9167\n",
            "Epoch 28/50\n",
            "108/108 [==============================] - 0s 166us/sample - loss: 0.5125 - acc: 0.9444 - val_loss: 0.3872 - val_acc: 0.9167\n",
            "Epoch 29/50\n",
            "108/108 [==============================] - 0s 149us/sample - loss: 0.4739 - acc: 0.9352 - val_loss: 0.3524 - val_acc: 0.9167\n",
            "Epoch 30/50\n",
            "108/108 [==============================] - 0s 130us/sample - loss: 0.4318 - acc: 0.8981 - val_loss: 0.3175 - val_acc: 0.9167\n",
            "Epoch 31/50\n",
            "108/108 [==============================] - 0s 137us/sample - loss: 0.3926 - acc: 0.8981 - val_loss: 0.2875 - val_acc: 0.9167\n",
            "Epoch 32/50\n",
            "108/108 [==============================] - 0s 137us/sample - loss: 0.3498 - acc: 0.9074 - val_loss: 0.2691 - val_acc: 0.9167\n",
            "Epoch 33/50\n",
            "108/108 [==============================] - 0s 143us/sample - loss: 0.3099 - acc: 0.9074 - val_loss: 0.2592 - val_acc: 0.9167\n",
            "Epoch 34/50\n",
            "108/108 [==============================] - 0s 125us/sample - loss: 0.2725 - acc: 0.9352 - val_loss: 0.2604 - val_acc: 0.8333\n",
            "Epoch 35/50\n",
            "108/108 [==============================] - 0s 129us/sample - loss: 0.2420 - acc: 0.9259 - val_loss: 0.2502 - val_acc: 0.8333\n",
            "Epoch 36/50\n",
            "108/108 [==============================] - 0s 144us/sample - loss: 0.2186 - acc: 0.9259 - val_loss: 0.2330 - val_acc: 0.9167\n",
            "Epoch 37/50\n",
            "108/108 [==============================] - 0s 131us/sample - loss: 0.2027 - acc: 0.9259 - val_loss: 0.2077 - val_acc: 0.9167\n",
            "Epoch 38/50\n",
            "108/108 [==============================] - 0s 165us/sample - loss: 0.1874 - acc: 0.9352 - val_loss: 0.1976 - val_acc: 0.9167\n",
            "Epoch 39/50\n",
            "108/108 [==============================] - 0s 124us/sample - loss: 0.1748 - acc: 0.9352 - val_loss: 0.1849 - val_acc: 0.9167\n",
            "Epoch 40/50\n",
            "108/108 [==============================] - 0s 158us/sample - loss: 0.1660 - acc: 0.9352 - val_loss: 0.1772 - val_acc: 0.9167\n",
            "Epoch 41/50\n",
            "108/108 [==============================] - 0s 158us/sample - loss: 0.1580 - acc: 0.9352 - val_loss: 0.1512 - val_acc: 0.9167\n",
            "Epoch 42/50\n",
            "108/108 [==============================] - 0s 143us/sample - loss: 0.1500 - acc: 0.9537 - val_loss: 0.1502 - val_acc: 0.9167\n",
            "Epoch 43/50\n",
            "108/108 [==============================] - 0s 138us/sample - loss: 0.1415 - acc: 0.9630 - val_loss: 0.1375 - val_acc: 0.9167\n",
            "Epoch 44/50\n",
            "108/108 [==============================] - 0s 135us/sample - loss: 0.1353 - acc: 0.9630 - val_loss: 0.1245 - val_acc: 0.9167\n",
            "Epoch 45/50\n",
            "108/108 [==============================] - 0s 138us/sample - loss: 0.1293 - acc: 0.9630 - val_loss: 0.1173 - val_acc: 1.0000\n",
            "Epoch 46/50\n",
            "108/108 [==============================] - 0s 174us/sample - loss: 0.1229 - acc: 0.9630 - val_loss: 0.1024 - val_acc: 1.0000\n",
            "Epoch 47/50\n",
            "108/108 [==============================] - 0s 130us/sample - loss: 0.1185 - acc: 0.9537 - val_loss: 0.0923 - val_acc: 1.0000\n",
            "Epoch 48/50\n",
            "108/108 [==============================] - 0s 166us/sample - loss: 0.1131 - acc: 0.9537 - val_loss: 0.0848 - val_acc: 1.0000\n",
            "Epoch 49/50\n",
            "108/108 [==============================] - 0s 138us/sample - loss: 0.1081 - acc: 0.9537 - val_loss: 0.0844 - val_acc: 1.0000\n",
            "Epoch 50/50\n",
            "108/108 [==============================] - 0s 197us/sample - loss: 0.1049 - acc: 0.9630 - val_loss: 0.0813 - val_acc: 1.0000\n"
          ],
          "name": "stdout"
        },
        {
          "output_type": "execute_result",
          "data": {
            "text/plain": [
              "<tensorflow.python.keras.callbacks.History at 0x7fcba582db38>"
            ]
          },
          "metadata": {
            "tags": []
          },
          "execution_count": 54
        }
      ]
    },
    {
      "cell_type": "code",
      "metadata": {
        "id": "BYfaw1zCQhuS",
        "colab_type": "code",
        "outputId": "4a521822-6583-4d32-f554-0bef65db8321",
        "colab": {
          "base_uri": "https://localhost:8080/",
          "height": 34
        }
      },
      "source": [
        "test_loss, test_accuracy = model_DNN.evaluate(x=X_test_std, y=y_test)"
      ],
      "execution_count": 0,
      "outputs": [
        {
          "output_type": "stream",
          "text": [
            "\r30/30 [==============================] - 0s 50us/sample - loss: 0.1538 - acc: 0.9333\n"
          ],
          "name": "stdout"
        }
      ]
    },
    {
      "cell_type": "code",
      "metadata": {
        "id": "I-zZ0lJpQoaN",
        "colab_type": "code",
        "outputId": "b68e5337-a492-4975-969e-987764e29f2e",
        "colab": {
          "base_uri": "https://localhost:8080/",
          "height": 34
        }
      },
      "source": [
        "print(test_loss, test_accuracy)"
      ],
      "execution_count": 0,
      "outputs": [
        {
          "output_type": "stream",
          "text": [
            "0.15377360582351685 0.93333334\n"
          ],
          "name": "stdout"
        }
      ]
    },
    {
      "cell_type": "markdown",
      "metadata": {
        "id": "1dqgUayvRagW",
        "colab_type": "text"
      },
      "source": [
        "FOREST COVER"
      ]
    },
    {
      "cell_type": "code",
      "metadata": {
        "id": "Z7sdMsPeQqjD",
        "colab_type": "code",
        "colab": {}
      },
      "source": [
        ""
      ],
      "execution_count": 0,
      "outputs": []
    }
  ]
}