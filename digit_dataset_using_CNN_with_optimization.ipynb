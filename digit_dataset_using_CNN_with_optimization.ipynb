{
  "nbformat": 4,
  "nbformat_minor": 0,
  "metadata": {
    "colab": {
      "name": "digit dataset using CNN with optimization.ipynb",
      "provenance": []
    },
    "kernelspec": {
      "name": "python3",
      "display_name": "Python 3"
    }
  },
  "cells": [
    {
      "cell_type": "code",
      "metadata": {
        "id": "Jnh35bGZxufc",
        "colab_type": "code",
        "colab": {}
      },
      "source": [
        "import pandas as pd"
      ],
      "execution_count": 0,
      "outputs": []
    },
    {
      "cell_type": "code",
      "metadata": {
        "id": "3ypO5s06x1pp",
        "colab_type": "code",
        "colab": {}
      },
      "source": [
        "import numpy as np"
      ],
      "execution_count": 0,
      "outputs": []
    },
    {
      "cell_type": "code",
      "metadata": {
        "id": "gblrHFXKx3Ej",
        "colab_type": "code",
        "outputId": "67803c7f-fe51-497b-e476-499a49122d76",
        "colab": {
          "base_uri": "https://localhost:8080/",
          "height": 63
        }
      },
      "source": [
        "import tensorflow as tf"
      ],
      "execution_count": 0,
      "outputs": [
        {
          "output_type": "display_data",
          "data": {
            "text/html": [
              "<p style=\"color: red;\">\n",
              "The default version of TensorFlow in Colab will soon switch to TensorFlow 2.x.<br>\n",
              "We recommend you <a href=\"https://www.tensorflow.org/guide/migrate\" target=\"_blank\">upgrade</a> now \n",
              "or ensure your notebook will continue to use TensorFlow 1.x via the <code>%tensorflow_version 1.x</code> magic:\n",
              "<a href=\"https://colab.research.google.com/notebooks/tensorflow_version.ipynb\" target=\"_blank\">more info</a>.</p>\n"
            ],
            "text/plain": [
              "<IPython.core.display.HTML object>"
            ]
          },
          "metadata": {
            "tags": []
          }
        }
      ]
    },
    {
      "cell_type": "code",
      "metadata": {
        "id": "entIJLhfx41T",
        "colab_type": "code",
        "colab": {}
      },
      "source": [
        "from tensorflow import keras"
      ],
      "execution_count": 0,
      "outputs": []
    },
    {
      "cell_type": "code",
      "metadata": {
        "id": "275ETMZfx64k",
        "colab_type": "code",
        "colab": {}
      },
      "source": [
        "tf.random.set_random_seed(42)\n",
        "np.random.seed(42)"
      ],
      "execution_count": 0,
      "outputs": []
    },
    {
      "cell_type": "code",
      "metadata": {
        "id": "GU2h-wM8yCVp",
        "colab_type": "code",
        "colab": {}
      },
      "source": [
        "mnistDB = keras.datasets.mnist"
      ],
      "execution_count": 0,
      "outputs": []
    },
    {
      "cell_type": "code",
      "metadata": {
        "id": "5BKfSqOSyEKd",
        "colab_type": "code",
        "outputId": "64c6e4d8-ce18-4a64-aaea-1ff6d107d498",
        "colab": {
          "base_uri": "https://localhost:8080/",
          "height": 51
        }
      },
      "source": [
        "(X_train, y_train),(X_test, y_test) = mnistDB.load_data()"
      ],
      "execution_count": 0,
      "outputs": [
        {
          "output_type": "stream",
          "text": [
            "Downloading data from https://storage.googleapis.com/tensorflow/tf-keras-datasets/mnist.npz\n",
            "11493376/11490434 [==============================] - 0s 0us/step\n"
          ],
          "name": "stdout"
        }
      ]
    },
    {
      "cell_type": "code",
      "metadata": {
        "id": "LGU5rSxEyH7s",
        "colab_type": "code",
        "colab": {}
      },
      "source": [
        "X_train = X_train.reshape((60000, 28, 28, 1))"
      ],
      "execution_count": 0,
      "outputs": []
    },
    {
      "cell_type": "code",
      "metadata": {
        "id": "bz59LoUZyMW9",
        "colab_type": "code",
        "colab": {}
      },
      "source": [
        "X_train = X_train.astype('float32')/255\n",
        "X_test = X_test.reshape((10000, 28, 28, 1))"
      ],
      "execution_count": 0,
      "outputs": []
    },
    {
      "cell_type": "code",
      "metadata": {
        "id": "m_km_tpFyPtF",
        "colab_type": "code",
        "colab": {}
      },
      "source": [
        "X_test = X_test.astype('float32')/255"
      ],
      "execution_count": 0,
      "outputs": []
    },
    {
      "cell_type": "code",
      "metadata": {
        "id": "DhUWC19gySXI",
        "colab_type": "code",
        "outputId": "5a3329b9-c53b-47f3-d350-7de33abf1989",
        "colab": {
          "base_uri": "https://localhost:8080/",
          "height": 88
        }
      },
      "source": [
        "cnnModel_MNIST = keras.models.Sequential()\n",
        "cnnModel_MNIST.add(keras.layers.Conv2D(32, (3,3), activation=\"relu\",input_shape=X_train.shape[1:]))\n",
        "cnnModel_MNIST.add(keras.layers.MaxPooling2D((2,2)))"
      ],
      "execution_count": 0,
      "outputs": [
        {
          "output_type": "stream",
          "text": [
            "WARNING:tensorflow:From /tensorflow-1.15.0/python3.6/tensorflow_core/python/ops/resource_variable_ops.py:1630: calling BaseResourceVariable.__init__ (from tensorflow.python.ops.resource_variable_ops) with constraint is deprecated and will be removed in a future version.\n",
            "Instructions for updating:\n",
            "If using Keras pass *_constraint arguments to layers.\n"
          ],
          "name": "stdout"
        }
      ]
    },
    {
      "cell_type": "code",
      "metadata": {
        "id": "PYOSR0rJyWST",
        "colab_type": "code",
        "colab": {}
      },
      "source": [
        "cnnModel_MNIST.add(keras.layers.BatchNormalization())\n",
        "cnnModel_MNIST.add(keras.layers.Conv2D(64, (3,3), activation=\"relu\"))\n",
        "cnnModel_MNIST.add(keras.layers.MaxPooling2D((2,2)))\n",
        "cnnModel_MNIST.add(keras.layers.Conv2D(64, (3,3), activation=\"relu\"))"
      ],
      "execution_count": 0,
      "outputs": []
    },
    {
      "cell_type": "code",
      "metadata": {
        "id": "fUsmoBtSyczW",
        "colab_type": "code",
        "colab": {}
      },
      "source": [
        "cnnModel_MNIST.add(keras.layers.Flatten())\n",
        "cnnModel_MNIST.add(keras.layers.Dense(64, activation=\"relu\"))\n",
        "cnnModel_MNIST.add(keras.layers.BatchNormalization())\n",
        "cnnModel_MNIST.add(keras.layers.Dropout(0.1))\n",
        "cnnModel_MNIST.add(keras.layers.Dense(32, activation=\"relu\"))\n",
        "cnnModel_MNIST.add(keras.layers.Dense(10, activation=\"softmax\"))"
      ],
      "execution_count": 0,
      "outputs": []
    },
    {
      "cell_type": "code",
      "metadata": {
        "id": "4t801pZcykEa",
        "colab_type": "code",
        "colab": {}
      },
      "source": [
        "cnnModel_MNIST.compile(loss='sparse_categorical_crossentropy',optimizer='adam', metrics=['accuracy'])"
      ],
      "execution_count": 0,
      "outputs": []
    },
    {
      "cell_type": "code",
      "metadata": {
        "id": "z9LDePBBypaR",
        "colab_type": "code",
        "outputId": "89f44621-b4b2-446a-e08c-bc97065d6a84",
        "colab": {
          "base_uri": "https://localhost:8080/",
          "height": 391
        }
      },
      "source": [
        "cnnModel_MNIST.fit(x=X_train, y=y_train, validation_split=0.1, epochs=10,batch_size=16)"
      ],
      "execution_count": 0,
      "outputs": [
        {
          "output_type": "stream",
          "text": [
            "Train on 54000 samples, validate on 6000 samples\n",
            "Epoch 1/10\n",
            "54000/54000 [==============================] - 67s 1ms/sample - loss: 0.1555 - acc: 0.9549 - val_loss: 0.0507 - val_acc: 0.9847\n",
            "Epoch 2/10\n",
            "54000/54000 [==============================] - 68s 1ms/sample - loss: 0.0675 - acc: 0.9804 - val_loss: 0.0473 - val_acc: 0.9855\n",
            "Epoch 3/10\n",
            "54000/54000 [==============================] - 70s 1ms/sample - loss: 0.0543 - acc: 0.9829 - val_loss: 0.0269 - val_acc: 0.9920\n",
            "Epoch 4/10\n",
            "54000/54000 [==============================] - 67s 1ms/sample - loss: 0.0404 - acc: 0.9879 - val_loss: 0.0639 - val_acc: 0.9828\n",
            "Epoch 5/10\n",
            "54000/54000 [==============================] - 66s 1ms/sample - loss: 0.0357 - acc: 0.9890 - val_loss: 0.0343 - val_acc: 0.9903\n",
            "Epoch 6/10\n",
            "54000/54000 [==============================] - 68s 1ms/sample - loss: 0.0291 - acc: 0.9913 - val_loss: 0.0323 - val_acc: 0.9918\n",
            "Epoch 7/10\n",
            "54000/54000 [==============================] - 69s 1ms/sample - loss: 0.0256 - acc: 0.9923 - val_loss: 0.0337 - val_acc: 0.9925\n",
            "Epoch 8/10\n",
            "54000/54000 [==============================] - 69s 1ms/sample - loss: 0.0224 - acc: 0.9928 - val_loss: 0.0284 - val_acc: 0.9928\n",
            "Epoch 9/10\n",
            "54000/54000 [==============================] - 69s 1ms/sample - loss: 0.0196 - acc: 0.9937 - val_loss: 0.0288 - val_acc: 0.9933\n",
            "Epoch 10/10\n",
            "54000/54000 [==============================] - 68s 1ms/sample - loss: 0.0173 - acc: 0.9946 - val_loss: 0.0367 - val_acc: 0.9908\n"
          ],
          "name": "stdout"
        },
        {
          "output_type": "execute_result",
          "data": {
            "text/plain": [
              "<tensorflow.python.keras.callbacks.History at 0x7ff4f4190198>"
            ]
          },
          "metadata": {
            "tags": []
          },
          "execution_count": 15
        }
      ]
    },
    {
      "cell_type": "code",
      "metadata": {
        "id": "cz1HdpNkysl_",
        "colab_type": "code",
        "outputId": "81aa61e9-eb3c-4071-d5a7-ae7a3e5a3f38",
        "colab": {
          "base_uri": "https://localhost:8080/",
          "height": 34
        }
      },
      "source": [
        "test_loss, test_accuracy = cnnModel_MNIST.evaluate(x=X_test, y=y_test)"
      ],
      "execution_count": 0,
      "outputs": [
        {
          "output_type": "stream",
          "text": [
            "10000/10000 [==============================] - 3s 350us/sample - loss: 0.0282 - acc: 0.9924\n"
          ],
          "name": "stdout"
        }
      ]
    },
    {
      "cell_type": "code",
      "metadata": {
        "id": "_bhsjVseyu6i",
        "colab_type": "code",
        "outputId": "729bd5db-f3ba-4528-c2c3-bc44ec1eda6d",
        "colab": {
          "base_uri": "https://localhost:8080/"
        }
      },
      "source": [
        "print(test_loss, test_accuracy)"
      ],
      "execution_count": 0,
      "outputs": [
        {
          "output_type": "stream",
          "text": [
            "0.028224577870158828 0.9924\n"
          ],
          "name": "stdout"
        }
      ]
    },
    {
      "cell_type": "code",
      "metadata": {
        "id": "SXK85xIQyxgv",
        "colab_type": "code",
        "colab": {}
      },
      "source": [
        ""
      ],
      "execution_count": 0,
      "outputs": []
    }
  ]
}