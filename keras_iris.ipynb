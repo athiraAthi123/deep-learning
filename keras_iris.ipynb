{
  "nbformat": 4,
  "nbformat_minor": 0,
  "metadata": {
    "colab": {
      "name": "keras-iris.ipynb",
      "provenance": []
    },
    "kernelspec": {
      "name": "python3",
      "display_name": "Python 3"
    }
  },
  "cells": [
    {
      "cell_type": "code",
      "metadata": {
        "id": "3b75FRcztPsx",
        "colab_type": "code",
        "colab": {}
      },
      "source": [
        "import numpy as np\n",
        "import pandas as pd\n",
        "from sklearn.model_selection import train_test_split\n",
        "from sklearn.preprocessing import StandardScaler\n",
        "from sklearn.datasets import load_iris\n"
      ],
      "execution_count": 0,
      "outputs": []
    },
    {
      "cell_type": "code",
      "metadata": {
        "id": "khoDLDqKtpIf",
        "colab_type": "code",
        "colab": {}
      },
      "source": [
        "iris=load_iris()"
      ],
      "execution_count": 0,
      "outputs": []
    },
    {
      "cell_type": "code",
      "metadata": {
        "id": "QILsIgrEtsBR",
        "colab_type": "code",
        "colab": {}
      },
      "source": [
        "x=iris.data\n",
        "y=iris.target"
      ],
      "execution_count": 0,
      "outputs": []
    },
    {
      "cell_type": "code",
      "metadata": {
        "id": "Q6gCXtXCtvm7",
        "colab_type": "code",
        "colab": {}
      },
      "source": [
        "import tensorflow as tf\n",
        "from tensorflow import keras"
      ],
      "execution_count": 0,
      "outputs": []
    },
    {
      "cell_type": "code",
      "metadata": {
        "id": "CdqmUuztt3R8",
        "colab_type": "code",
        "colab": {}
      },
      "source": [
        "tf.set_random_seed(42)\n",
        "np.random.seed(42)"
      ],
      "execution_count": 0,
      "outputs": []
    },
    {
      "cell_type": "code",
      "metadata": {
        "id": "-aWeZzYHuP08",
        "colab_type": "code",
        "colab": {}
      },
      "source": [
        "xtrain,xtest,ytrain,ytest=train_test_split(x,y,test_size=0.2,random_state=42,stratify=y)"
      ],
      "execution_count": 0,
      "outputs": []
    },
    {
      "cell_type": "code",
      "metadata": {
        "id": "T9OnhbxGugT2",
        "colab_type": "code",
        "colab": {}
      },
      "source": [
        "sc=StandardScaler()"
      ],
      "execution_count": 0,
      "outputs": []
    },
    {
      "cell_type": "code",
      "metadata": {
        "id": "ZbV_Y76TujpZ",
        "colab_type": "code",
        "colab": {}
      },
      "source": [
        "xtrain_std=sc.fit_transform(xtrain)\n",
        "xtest_std=sc.fit_transform(xtest)"
      ],
      "execution_count": 0,
      "outputs": []
    },
    {
      "cell_type": "code",
      "metadata": {
        "id": "nt-ceT7cuqQT",
        "colab_type": "code",
        "colab": {}
      },
      "source": [
        "model=keras.models.Sequential()"
      ],
      "execution_count": 0,
      "outputs": []
    },
    {
      "cell_type": "code",
      "metadata": {
        "id": "Rf6ZMDGRuwZk",
        "colab_type": "code",
        "colab": {}
      },
      "source": [
        "model.add(keras.layers.Dense(units=5,activation='tanh',input_shape=xtrain.shape[1:]))"
      ],
      "execution_count": 0,
      "outputs": []
    },
    {
      "cell_type": "code",
      "metadata": {
        "id": "iX2szPb3wUkg",
        "colab_type": "code",
        "colab": {}
      },
      "source": [
        "model.add(keras.layers.Dense(units=3,activation='softmax'))"
      ],
      "execution_count": 0,
      "outputs": []
    },
    {
      "cell_type": "code",
      "metadata": {
        "id": "xwbY6FmbwcNF",
        "colab_type": "code",
        "colab": {}
      },
      "source": [
        "model.compile(loss='sparse_categorical_crossentropy',optimizer='adam',metrics=['accuracy'])"
      ],
      "execution_count": 0,
      "outputs": []
    },
    {
      "cell_type": "code",
      "metadata": {
        "id": "sHBwUrIqwxym",
        "colab_type": "code",
        "colab": {
          "base_uri": "https://localhost:8080/",
          "height": 1000
        },
        "outputId": "d8573a6b-bec4-4cab-ea81-6d5b27af456e"
      },
      "source": [
        "model.fit(x=xtrain_std,y=ytrain,batch_size=32,epochs=100,validation_split=0.1)"
      ],
      "execution_count": 24,
      "outputs": [
        {
          "output_type": "stream",
          "text": [
            "Train on 108 samples, validate on 12 samples\n",
            "Epoch 1/100\n",
            "108/108 [==============================] - 0s 819us/sample - loss: 0.9297 - acc: 0.8981 - val_loss: 0.9738 - val_acc: 0.8333\n",
            "Epoch 2/100\n",
            "108/108 [==============================] - 0s 108us/sample - loss: 0.9226 - acc: 0.8981 - val_loss: 0.9686 - val_acc: 0.7500\n",
            "Epoch 3/100\n",
            "108/108 [==============================] - 0s 104us/sample - loss: 0.9157 - acc: 0.8889 - val_loss: 0.9635 - val_acc: 0.7500\n",
            "Epoch 4/100\n",
            "108/108 [==============================] - 0s 108us/sample - loss: 0.9087 - acc: 0.8889 - val_loss: 0.9576 - val_acc: 0.8333\n",
            "Epoch 5/100\n",
            "108/108 [==============================] - 0s 109us/sample - loss: 0.9018 - acc: 0.8981 - val_loss: 0.9524 - val_acc: 0.8333\n",
            "Epoch 6/100\n",
            "108/108 [==============================] - 0s 109us/sample - loss: 0.8951 - acc: 0.8981 - val_loss: 0.9463 - val_acc: 0.8333\n",
            "Epoch 7/100\n",
            "108/108 [==============================] - 0s 105us/sample - loss: 0.8883 - acc: 0.9074 - val_loss: 0.9404 - val_acc: 0.8333\n",
            "Epoch 8/100\n",
            "108/108 [==============================] - 0s 98us/sample - loss: 0.8815 - acc: 0.9074 - val_loss: 0.9348 - val_acc: 0.8333\n",
            "Epoch 9/100\n",
            "108/108 [==============================] - 0s 93us/sample - loss: 0.8748 - acc: 0.9074 - val_loss: 0.9300 - val_acc: 0.8333\n",
            "Epoch 10/100\n",
            "108/108 [==============================] - 0s 99us/sample - loss: 0.8677 - acc: 0.9074 - val_loss: 0.9250 - val_acc: 0.8333\n",
            "Epoch 11/100\n",
            "108/108 [==============================] - 0s 111us/sample - loss: 0.8610 - acc: 0.9074 - val_loss: 0.9194 - val_acc: 0.8333\n",
            "Epoch 12/100\n",
            "108/108 [==============================] - 0s 101us/sample - loss: 0.8542 - acc: 0.9074 - val_loss: 0.9129 - val_acc: 0.8333\n",
            "Epoch 13/100\n",
            "108/108 [==============================] - 0s 106us/sample - loss: 0.8473 - acc: 0.9074 - val_loss: 0.9080 - val_acc: 0.8333\n",
            "Epoch 14/100\n",
            "108/108 [==============================] - 0s 95us/sample - loss: 0.8406 - acc: 0.9074 - val_loss: 0.9037 - val_acc: 0.8333\n",
            "Epoch 15/100\n",
            "108/108 [==============================] - 0s 99us/sample - loss: 0.8339 - acc: 0.8981 - val_loss: 0.8985 - val_acc: 0.8333\n",
            "Epoch 16/100\n",
            "108/108 [==============================] - 0s 93us/sample - loss: 0.8272 - acc: 0.8981 - val_loss: 0.8924 - val_acc: 0.8333\n",
            "Epoch 17/100\n",
            "108/108 [==============================] - 0s 98us/sample - loss: 0.8204 - acc: 0.8981 - val_loss: 0.8876 - val_acc: 0.8333\n",
            "Epoch 18/100\n",
            "108/108 [==============================] - 0s 94us/sample - loss: 0.8138 - acc: 0.8981 - val_loss: 0.8817 - val_acc: 0.8333\n",
            "Epoch 19/100\n",
            "108/108 [==============================] - 0s 86us/sample - loss: 0.8072 - acc: 0.8889 - val_loss: 0.8761 - val_acc: 0.8333\n",
            "Epoch 20/100\n",
            "108/108 [==============================] - 0s 95us/sample - loss: 0.8003 - acc: 0.8981 - val_loss: 0.8696 - val_acc: 0.8333\n",
            "Epoch 21/100\n",
            "108/108 [==============================] - 0s 86us/sample - loss: 0.7936 - acc: 0.9074 - val_loss: 0.8627 - val_acc: 0.8333\n",
            "Epoch 22/100\n",
            "108/108 [==============================] - 0s 84us/sample - loss: 0.7867 - acc: 0.9074 - val_loss: 0.8561 - val_acc: 0.8333\n",
            "Epoch 23/100\n",
            "108/108 [==============================] - 0s 85us/sample - loss: 0.7801 - acc: 0.9074 - val_loss: 0.8485 - val_acc: 0.8333\n",
            "Epoch 24/100\n",
            "108/108 [==============================] - 0s 86us/sample - loss: 0.7731 - acc: 0.9074 - val_loss: 0.8426 - val_acc: 0.8333\n",
            "Epoch 25/100\n",
            "108/108 [==============================] - 0s 88us/sample - loss: 0.7662 - acc: 0.9074 - val_loss: 0.8363 - val_acc: 0.8333\n",
            "Epoch 26/100\n",
            "108/108 [==============================] - 0s 109us/sample - loss: 0.7594 - acc: 0.9167 - val_loss: 0.8306 - val_acc: 0.8333\n",
            "Epoch 27/100\n",
            "108/108 [==============================] - 0s 114us/sample - loss: 0.7526 - acc: 0.9167 - val_loss: 0.8246 - val_acc: 0.8333\n",
            "Epoch 28/100\n",
            "108/108 [==============================] - 0s 136us/sample - loss: 0.7457 - acc: 0.9259 - val_loss: 0.8179 - val_acc: 0.8333\n",
            "Epoch 29/100\n",
            "108/108 [==============================] - 0s 103us/sample - loss: 0.7388 - acc: 0.9352 - val_loss: 0.8123 - val_acc: 0.8333\n",
            "Epoch 30/100\n",
            "108/108 [==============================] - 0s 107us/sample - loss: 0.7321 - acc: 0.9259 - val_loss: 0.8066 - val_acc: 0.8333\n",
            "Epoch 31/100\n",
            "108/108 [==============================] - 0s 91us/sample - loss: 0.7254 - acc: 0.9259 - val_loss: 0.7999 - val_acc: 0.9167\n",
            "Epoch 32/100\n",
            "108/108 [==============================] - 0s 101us/sample - loss: 0.7185 - acc: 0.9352 - val_loss: 0.7924 - val_acc: 0.9167\n",
            "Epoch 33/100\n",
            "108/108 [==============================] - 0s 121us/sample - loss: 0.7117 - acc: 0.9352 - val_loss: 0.7843 - val_acc: 0.9167\n",
            "Epoch 34/100\n",
            "108/108 [==============================] - 0s 103us/sample - loss: 0.7047 - acc: 0.9352 - val_loss: 0.7777 - val_acc: 0.9167\n",
            "Epoch 35/100\n",
            "108/108 [==============================] - 0s 102us/sample - loss: 0.6980 - acc: 0.9352 - val_loss: 0.7706 - val_acc: 0.9167\n",
            "Epoch 36/100\n",
            "108/108 [==============================] - 0s 116us/sample - loss: 0.6912 - acc: 0.9352 - val_loss: 0.7635 - val_acc: 0.9167\n",
            "Epoch 37/100\n",
            "108/108 [==============================] - 0s 132us/sample - loss: 0.6845 - acc: 0.9352 - val_loss: 0.7560 - val_acc: 0.9167\n",
            "Epoch 38/100\n",
            "108/108 [==============================] - 0s 101us/sample - loss: 0.6777 - acc: 0.9352 - val_loss: 0.7481 - val_acc: 0.9167\n",
            "Epoch 39/100\n",
            "108/108 [==============================] - 0s 90us/sample - loss: 0.6708 - acc: 0.9352 - val_loss: 0.7402 - val_acc: 0.9167\n",
            "Epoch 40/100\n",
            "108/108 [==============================] - 0s 120us/sample - loss: 0.6641 - acc: 0.9352 - val_loss: 0.7327 - val_acc: 0.9167\n",
            "Epoch 41/100\n",
            "108/108 [==============================] - 0s 100us/sample - loss: 0.6574 - acc: 0.9352 - val_loss: 0.7240 - val_acc: 0.9167\n",
            "Epoch 42/100\n",
            "108/108 [==============================] - 0s 103us/sample - loss: 0.6505 - acc: 0.9352 - val_loss: 0.7164 - val_acc: 0.9167\n",
            "Epoch 43/100\n",
            "108/108 [==============================] - 0s 101us/sample - loss: 0.6437 - acc: 0.9352 - val_loss: 0.7094 - val_acc: 0.9167\n",
            "Epoch 44/100\n",
            "108/108 [==============================] - 0s 108us/sample - loss: 0.6369 - acc: 0.9352 - val_loss: 0.7030 - val_acc: 0.9167\n",
            "Epoch 45/100\n",
            "108/108 [==============================] - 0s 118us/sample - loss: 0.6303 - acc: 0.9352 - val_loss: 0.6958 - val_acc: 0.9167\n",
            "Epoch 46/100\n",
            "108/108 [==============================] - 0s 113us/sample - loss: 0.6235 - acc: 0.9444 - val_loss: 0.6898 - val_acc: 0.9167\n",
            "Epoch 47/100\n",
            "108/108 [==============================] - 0s 106us/sample - loss: 0.6169 - acc: 0.9444 - val_loss: 0.6836 - val_acc: 0.9167\n",
            "Epoch 48/100\n",
            "108/108 [==============================] - 0s 92us/sample - loss: 0.6102 - acc: 0.9444 - val_loss: 0.6764 - val_acc: 0.9167\n",
            "Epoch 49/100\n",
            "108/108 [==============================] - 0s 101us/sample - loss: 0.6035 - acc: 0.9444 - val_loss: 0.6689 - val_acc: 0.9167\n",
            "Epoch 50/100\n",
            "108/108 [==============================] - 0s 105us/sample - loss: 0.5969 - acc: 0.9444 - val_loss: 0.6614 - val_acc: 0.9167\n",
            "Epoch 51/100\n",
            "108/108 [==============================] - 0s 108us/sample - loss: 0.5903 - acc: 0.9444 - val_loss: 0.6542 - val_acc: 0.9167\n",
            "Epoch 52/100\n",
            "108/108 [==============================] - 0s 104us/sample - loss: 0.5837 - acc: 0.9444 - val_loss: 0.6463 - val_acc: 0.9167\n",
            "Epoch 53/100\n",
            "108/108 [==============================] - 0s 95us/sample - loss: 0.5770 - acc: 0.9444 - val_loss: 0.6376 - val_acc: 0.9167\n",
            "Epoch 54/100\n",
            "108/108 [==============================] - 0s 104us/sample - loss: 0.5705 - acc: 0.9444 - val_loss: 0.6291 - val_acc: 0.9167\n",
            "Epoch 55/100\n",
            "108/108 [==============================] - 0s 97us/sample - loss: 0.5640 - acc: 0.9444 - val_loss: 0.6208 - val_acc: 0.9167\n",
            "Epoch 56/100\n",
            "108/108 [==============================] - 0s 92us/sample - loss: 0.5575 - acc: 0.9444 - val_loss: 0.6132 - val_acc: 0.9167\n",
            "Epoch 57/100\n",
            "108/108 [==============================] - 0s 89us/sample - loss: 0.5511 - acc: 0.9444 - val_loss: 0.6057 - val_acc: 0.9167\n",
            "Epoch 58/100\n",
            "108/108 [==============================] - 0s 92us/sample - loss: 0.5447 - acc: 0.9444 - val_loss: 0.5974 - val_acc: 0.9167\n",
            "Epoch 59/100\n",
            "108/108 [==============================] - 0s 93us/sample - loss: 0.5383 - acc: 0.9444 - val_loss: 0.5895 - val_acc: 0.9167\n",
            "Epoch 60/100\n",
            "108/108 [==============================] - 0s 101us/sample - loss: 0.5320 - acc: 0.9444 - val_loss: 0.5821 - val_acc: 0.9167\n",
            "Epoch 61/100\n",
            "108/108 [==============================] - 0s 139us/sample - loss: 0.5258 - acc: 0.9444 - val_loss: 0.5750 - val_acc: 0.9167\n",
            "Epoch 62/100\n",
            "108/108 [==============================] - 0s 117us/sample - loss: 0.5197 - acc: 0.9444 - val_loss: 0.5676 - val_acc: 0.9167\n",
            "Epoch 63/100\n",
            "108/108 [==============================] - 0s 115us/sample - loss: 0.5135 - acc: 0.9444 - val_loss: 0.5595 - val_acc: 0.9167\n",
            "Epoch 64/100\n",
            "108/108 [==============================] - 0s 114us/sample - loss: 0.5073 - acc: 0.9444 - val_loss: 0.5513 - val_acc: 0.9167\n",
            "Epoch 65/100\n",
            "108/108 [==============================] - 0s 92us/sample - loss: 0.5014 - acc: 0.9537 - val_loss: 0.5441 - val_acc: 0.9167\n",
            "Epoch 66/100\n",
            "108/108 [==============================] - 0s 114us/sample - loss: 0.4953 - acc: 0.9537 - val_loss: 0.5373 - val_acc: 0.9167\n",
            "Epoch 67/100\n",
            "108/108 [==============================] - 0s 96us/sample - loss: 0.4894 - acc: 0.9537 - val_loss: 0.5307 - val_acc: 0.9167\n",
            "Epoch 68/100\n",
            "108/108 [==============================] - 0s 86us/sample - loss: 0.4834 - acc: 0.9537 - val_loss: 0.5241 - val_acc: 0.9167\n",
            "Epoch 69/100\n",
            "108/108 [==============================] - 0s 89us/sample - loss: 0.4777 - acc: 0.9630 - val_loss: 0.5179 - val_acc: 0.9167\n",
            "Epoch 70/100\n",
            "108/108 [==============================] - 0s 94us/sample - loss: 0.4718 - acc: 0.9630 - val_loss: 0.5103 - val_acc: 0.9167\n",
            "Epoch 71/100\n",
            "108/108 [==============================] - 0s 85us/sample - loss: 0.4659 - acc: 0.9630 - val_loss: 0.5025 - val_acc: 0.9167\n",
            "Epoch 72/100\n",
            "108/108 [==============================] - 0s 91us/sample - loss: 0.4605 - acc: 0.9630 - val_loss: 0.4938 - val_acc: 0.9167\n",
            "Epoch 73/100\n",
            "108/108 [==============================] - 0s 87us/sample - loss: 0.4546 - acc: 0.9630 - val_loss: 0.4866 - val_acc: 0.9167\n",
            "Epoch 74/100\n",
            "108/108 [==============================] - 0s 79us/sample - loss: 0.4490 - acc: 0.9630 - val_loss: 0.4796 - val_acc: 0.9167\n",
            "Epoch 75/100\n",
            "108/108 [==============================] - 0s 84us/sample - loss: 0.4435 - acc: 0.9630 - val_loss: 0.4721 - val_acc: 0.9167\n",
            "Epoch 76/100\n",
            "108/108 [==============================] - 0s 112us/sample - loss: 0.4381 - acc: 0.9630 - val_loss: 0.4647 - val_acc: 1.0000\n",
            "Epoch 77/100\n",
            "108/108 [==============================] - 0s 108us/sample - loss: 0.4326 - acc: 0.9630 - val_loss: 0.4581 - val_acc: 1.0000\n",
            "Epoch 78/100\n",
            "108/108 [==============================] - 0s 85us/sample - loss: 0.4273 - acc: 0.9630 - val_loss: 0.4526 - val_acc: 1.0000\n",
            "Epoch 79/100\n",
            "108/108 [==============================] - 0s 85us/sample - loss: 0.4220 - acc: 0.9630 - val_loss: 0.4459 - val_acc: 1.0000\n",
            "Epoch 80/100\n",
            "108/108 [==============================] - 0s 85us/sample - loss: 0.4166 - acc: 0.9630 - val_loss: 0.4393 - val_acc: 1.0000\n",
            "Epoch 81/100\n",
            "108/108 [==============================] - 0s 90us/sample - loss: 0.4114 - acc: 0.9630 - val_loss: 0.4328 - val_acc: 1.0000\n",
            "Epoch 82/100\n",
            "108/108 [==============================] - 0s 107us/sample - loss: 0.4063 - acc: 0.9630 - val_loss: 0.4260 - val_acc: 1.0000\n",
            "Epoch 83/100\n",
            "108/108 [==============================] - 0s 99us/sample - loss: 0.4011 - acc: 0.9630 - val_loss: 0.4187 - val_acc: 1.0000\n",
            "Epoch 84/100\n",
            "108/108 [==============================] - 0s 114us/sample - loss: 0.3962 - acc: 0.9630 - val_loss: 0.4120 - val_acc: 1.0000\n",
            "Epoch 85/100\n",
            "108/108 [==============================] - 0s 102us/sample - loss: 0.3911 - acc: 0.9630 - val_loss: 0.4063 - val_acc: 1.0000\n",
            "Epoch 86/100\n",
            "108/108 [==============================] - 0s 133us/sample - loss: 0.3862 - acc: 0.9630 - val_loss: 0.4003 - val_acc: 1.0000\n",
            "Epoch 87/100\n",
            "108/108 [==============================] - 0s 101us/sample - loss: 0.3813 - acc: 0.9630 - val_loss: 0.3944 - val_acc: 1.0000\n",
            "Epoch 88/100\n",
            "108/108 [==============================] - 0s 98us/sample - loss: 0.3766 - acc: 0.9630 - val_loss: 0.3886 - val_acc: 1.0000\n",
            "Epoch 89/100\n",
            "108/108 [==============================] - 0s 90us/sample - loss: 0.3718 - acc: 0.9630 - val_loss: 0.3835 - val_acc: 1.0000\n",
            "Epoch 90/100\n",
            "108/108 [==============================] - 0s 102us/sample - loss: 0.3671 - acc: 0.9630 - val_loss: 0.3778 - val_acc: 1.0000\n",
            "Epoch 91/100\n",
            "108/108 [==============================] - 0s 121us/sample - loss: 0.3626 - acc: 0.9630 - val_loss: 0.3728 - val_acc: 1.0000\n",
            "Epoch 92/100\n",
            "108/108 [==============================] - 0s 106us/sample - loss: 0.3583 - acc: 0.9630 - val_loss: 0.3677 - val_acc: 1.0000\n",
            "Epoch 93/100\n",
            "108/108 [==============================] - 0s 102us/sample - loss: 0.3536 - acc: 0.9630 - val_loss: 0.3614 - val_acc: 1.0000\n",
            "Epoch 94/100\n",
            "108/108 [==============================] - 0s 95us/sample - loss: 0.3492 - acc: 0.9722 - val_loss: 0.3557 - val_acc: 1.0000\n",
            "Epoch 95/100\n",
            "108/108 [==============================] - 0s 97us/sample - loss: 0.3450 - acc: 0.9722 - val_loss: 0.3501 - val_acc: 1.0000\n",
            "Epoch 96/100\n",
            "108/108 [==============================] - 0s 104us/sample - loss: 0.3404 - acc: 0.9722 - val_loss: 0.3457 - val_acc: 1.0000\n",
            "Epoch 97/100\n",
            "108/108 [==============================] - 0s 106us/sample - loss: 0.3364 - acc: 0.9722 - val_loss: 0.3417 - val_acc: 1.0000\n",
            "Epoch 98/100\n",
            "108/108 [==============================] - 0s 98us/sample - loss: 0.3321 - acc: 0.9722 - val_loss: 0.3370 - val_acc: 1.0000\n",
            "Epoch 99/100\n",
            "108/108 [==============================] - 0s 99us/sample - loss: 0.3280 - acc: 0.9722 - val_loss: 0.3313 - val_acc: 1.0000\n",
            "Epoch 100/100\n",
            "108/108 [==============================] - 0s 92us/sample - loss: 0.3240 - acc: 0.9722 - val_loss: 0.3258 - val_acc: 1.0000\n"
          ],
          "name": "stdout"
        },
        {
          "output_type": "execute_result",
          "data": {
            "text/plain": [
              "<tensorflow.python.keras.callbacks.History at 0x7f45088c86a0>"
            ]
          },
          "metadata": {
            "tags": []
          },
          "execution_count": 24
        }
      ]
    },
    {
      "cell_type": "code",
      "metadata": {
        "id": "Qzn4C_VzxJuv",
        "colab_type": "code",
        "colab": {
          "base_uri": "https://localhost:8080/",
          "height": 35
        },
        "outputId": "189cb0d4-a674-498e-973c-06e8cff04ce7"
      },
      "source": [
        "test_loss,test_accuracy=model.evaluate(x=xtest_std,y=ytest)"
      ],
      "execution_count": 25,
      "outputs": [
        {
          "output_type": "stream",
          "text": [
            "\r30/30 [==============================] - 0s 100us/sample - loss: 0.3806 - acc: 0.9333\n"
          ],
          "name": "stdout"
        }
      ]
    },
    {
      "cell_type": "code",
      "metadata": {
        "id": "fBuxAlljxbMb",
        "colab_type": "code",
        "colab": {
          "base_uri": "https://localhost:8080/",
          "height": 35
        },
        "outputId": "2bdbebae-7141-45d5-ac9c-5b37eb86062c"
      },
      "source": [
        "print('test loss=',test_loss,'test accuracy=',test_accuracy)"
      ],
      "execution_count": 26,
      "outputs": [
        {
          "output_type": "stream",
          "text": [
            "test loss= 0.38059985637664795 test accuracy= 0.93333334\n"
          ],
          "name": "stdout"
        }
      ]
    },
    {
      "cell_type": "code",
      "metadata": {
        "id": "G68-sX46xjx_",
        "colab_type": "code",
        "colab": {}
      },
      "source": [
        ""
      ],
      "execution_count": 0,
      "outputs": []
    }
  ]
}