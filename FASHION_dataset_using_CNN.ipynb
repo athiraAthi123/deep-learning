{
  "nbformat": 4,
  "nbformat_minor": 0,
  "metadata": {
    "colab": {
      "name": "FASHION dataset using CNN.ipynb",
      "provenance": []
    },
    "kernelspec": {
      "name": "python3",
      "display_name": "Python 3"
    }
  },
  "cells": [
    {
      "cell_type": "code",
      "metadata": {
        "id": "FXihHXCV3Emg",
        "colab_type": "code",
        "colab": {}
      },
      "source": [
        "import pandas as pd"
      ],
      "execution_count": 0,
      "outputs": []
    },
    {
      "cell_type": "code",
      "metadata": {
        "id": "cE-iguTI3Kyk",
        "colab_type": "code",
        "colab": {}
      },
      "source": [
        "import numpy as np"
      ],
      "execution_count": 0,
      "outputs": []
    },
    {
      "cell_type": "code",
      "metadata": {
        "id": "8gVUEm4E3MB_",
        "colab_type": "code",
        "outputId": "5abe57f4-ea17-469a-9e33-c58cca7b1028",
        "colab": {
          "base_uri": "https://localhost:8080/",
          "height": 63
        }
      },
      "source": [
        "import tensorflow as tf"
      ],
      "execution_count": 0,
      "outputs": [
        {
          "output_type": "display_data",
          "data": {
            "text/html": [
              "<p style=\"color: red;\">\n",
              "The default version of TensorFlow in Colab will soon switch to TensorFlow 2.x.<br>\n",
              "We recommend you <a href=\"https://www.tensorflow.org/guide/migrate\" target=\"_blank\">upgrade</a> now \n",
              "or ensure your notebook will continue to use TensorFlow 1.x via the <code>%tensorflow_version 1.x</code> magic:\n",
              "<a href=\"https://colab.research.google.com/notebooks/tensorflow_version.ipynb\" target=\"_blank\">more info</a>.</p>\n"
            ],
            "text/plain": [
              "<IPython.core.display.HTML object>"
            ]
          },
          "metadata": {
            "tags": []
          }
        }
      ]
    },
    {
      "cell_type": "code",
      "metadata": {
        "id": "Z57EXEWy3Nw1",
        "colab_type": "code",
        "colab": {}
      },
      "source": [
        "from tensorflow import keras"
      ],
      "execution_count": 0,
      "outputs": []
    },
    {
      "cell_type": "code",
      "metadata": {
        "id": "898oYf_F3P7C",
        "colab_type": "code",
        "colab": {}
      },
      "source": [
        "tf.random.set_random_seed(42)\n",
        "np.random.seed(42)\n",
        "\n"
      ],
      "execution_count": 0,
      "outputs": []
    },
    {
      "cell_type": "code",
      "metadata": {
        "id": "DNtzmF613jJM",
        "colab_type": "code",
        "colab": {}
      },
      "source": [
        "fashionDB = keras.datasets.fashion_mnist"
      ],
      "execution_count": 0,
      "outputs": []
    },
    {
      "cell_type": "code",
      "metadata": {
        "id": "AgOKdKG43jlg",
        "colab_type": "code",
        "outputId": "0cc88dad-77ea-4743-bbf6-e4d4f1491a2f",
        "colab": {
          "base_uri": "https://localhost:8080/",
          "height": 153
        }
      },
      "source": [
        "(X_train, y_train),(X_test, y_test) = fashionDB.load_data()"
      ],
      "execution_count": 0,
      "outputs": [
        {
          "output_type": "stream",
          "text": [
            "Downloading data from https://storage.googleapis.com/tensorflow/tf-keras-datasets/train-labels-idx1-ubyte.gz\n",
            "32768/29515 [=================================] - 0s 0us/step\n",
            "Downloading data from https://storage.googleapis.com/tensorflow/tf-keras-datasets/train-images-idx3-ubyte.gz\n",
            "26427392/26421880 [==============================] - 0s 0us/step\n",
            "Downloading data from https://storage.googleapis.com/tensorflow/tf-keras-datasets/t10k-labels-idx1-ubyte.gz\n",
            "8192/5148 [===============================================] - 0s 0us/step\n",
            "Downloading data from https://storage.googleapis.com/tensorflow/tf-keras-datasets/t10k-images-idx3-ubyte.gz\n",
            "4423680/4422102 [==============================] - 0s 0us/step\n"
          ],
          "name": "stdout"
        }
      ]
    },
    {
      "cell_type": "code",
      "metadata": {
        "id": "nLozWSXG3tJW",
        "colab_type": "code",
        "colab": {}
      },
      "source": [
        "X_train = X_train.reshape((60000, 28, 28, 1))"
      ],
      "execution_count": 0,
      "outputs": []
    },
    {
      "cell_type": "code",
      "metadata": {
        "id": "edv4FXGk3vv_",
        "colab_type": "code",
        "colab": {}
      },
      "source": [
        "X_train = X_train.astype('float32')/255\n",
        "X_test = X_test.reshape((10000, 28, 28, 1))\n",
        "X_test = X_test.astype('float32')/255"
      ],
      "execution_count": 0,
      "outputs": []
    },
    {
      "cell_type": "code",
      "metadata": {
        "id": "EfWKPJCb30-d",
        "colab_type": "code",
        "colab": {}
      },
      "source": [
        "cnnModel_FASHION = keras.models.Sequential()"
      ],
      "execution_count": 0,
      "outputs": []
    },
    {
      "cell_type": "code",
      "metadata": {
        "id": "wcaIo_mp328c",
        "colab_type": "code",
        "outputId": "1e32893c-c9a0-4f5a-d22c-76de7cb9341c",
        "colab": {
          "base_uri": "https://localhost:8080/",
          "height": 88
        }
      },
      "source": [
        "cnnModel_FASHION.add(keras.layers.Conv2D(32, (3,3), activation=\"relu\",input_shape=X_train.shape[1:]))\n",
        "cnnModel_FASHION.add(keras.layers.MaxPooling2D((2,2)))\n",
        "cnnModel_FASHION.add(keras.layers.Conv2D(64, (3,3), activation=\"relu\"))\n",
        "cnnModel_FASHION.add(keras.layers.MaxPooling2D((2,2)))"
      ],
      "execution_count": 0,
      "outputs": [
        {
          "output_type": "stream",
          "text": [
            "WARNING:tensorflow:From /tensorflow-1.15.0/python3.6/tensorflow_core/python/ops/resource_variable_ops.py:1630: calling BaseResourceVariable.__init__ (from tensorflow.python.ops.resource_variable_ops) with constraint is deprecated and will be removed in a future version.\n",
            "Instructions for updating:\n",
            "If using Keras pass *_constraint arguments to layers.\n"
          ],
          "name": "stdout"
        }
      ]
    },
    {
      "cell_type": "code",
      "metadata": {
        "id": "Od4uSvLO38KA",
        "colab_type": "code",
        "colab": {}
      },
      "source": [
        "cnnModel_FASHION.add(keras.layers.Conv2D(64, (3,3), activation=\"relu\"))\n",
        "cnnModel_FASHION.add(keras.layers.Flatten())\n",
        "cnnModel_FASHION.add(keras.layers.Dense(64, activation=\"relu\"))\n",
        "cnnModel_FASHION.add(keras.layers.Dense(32, activation=\"relu\"))\n",
        "cnnModel_FASHION.add(keras.layers.Dense(10, activation='softmax'))"
      ],
      "execution_count": 0,
      "outputs": []
    },
    {
      "cell_type": "code",
      "metadata": {
        "id": "Bu64LLyV4tiE",
        "colab_type": "code",
        "colab": {}
      },
      "source": [
        "cnnModel_FASHION.compile(loss='sparse_categorical_crossentropy',optimizer='adam', metrics=['accuracy'])\n",
        "\n"
      ],
      "execution_count": 0,
      "outputs": []
    },
    {
      "cell_type": "code",
      "metadata": {
        "id": "hp4bxbbn47br",
        "colab_type": "code",
        "outputId": "2d63f107-45b9-4b70-c6bc-f2ec93322701",
        "colab": {
          "base_uri": "https://localhost:8080/",
          "height": 340
        }
      },
      "source": [
        "cnnModel_FASHION.fit(x=X_train, y=y_train, validation_split=0.1, epochs=10,batch_size=16)\n"
      ],
      "execution_count": 0,
      "outputs": [
        {
          "output_type": "stream",
          "text": [
            "Train on 54000 samples, validate on 6000 samples\n",
            "Epoch 1/10\n",
            "54000/54000 [==============================] - 61s 1ms/sample - loss: 0.5009 - acc: 0.8144 - val_loss: 0.3647 - val_acc: 0.8623\n",
            "Epoch 2/10\n",
            "54000/54000 [==============================] - 62s 1ms/sample - loss: 0.3226 - acc: 0.8814 - val_loss: 0.2923 - val_acc: 0.8925\n",
            "Epoch 3/10\n",
            "54000/54000 [==============================] - 63s 1ms/sample - loss: 0.2772 - acc: 0.8976 - val_loss: 0.3142 - val_acc: 0.8883\n",
            "Epoch 4/10\n",
            "54000/54000 [==============================] - 63s 1ms/sample - loss: 0.2480 - acc: 0.9091 - val_loss: 0.2621 - val_acc: 0.9020\n",
            "Epoch 5/10\n",
            "54000/54000 [==============================] - 62s 1ms/sample - loss: 0.2249 - acc: 0.9167 - val_loss: 0.2475 - val_acc: 0.9123\n",
            "Epoch 6/10\n",
            "54000/54000 [==============================] - 64s 1ms/sample - loss: 0.2039 - acc: 0.9249 - val_loss: 0.2740 - val_acc: 0.9043\n",
            "Epoch 7/10\n",
            "54000/54000 [==============================] - 63s 1ms/sample - loss: 0.1878 - acc: 0.9293 - val_loss: 0.2618 - val_acc: 0.9002\n",
            "Epoch 8/10\n",
            "54000/54000 [==============================] - 63s 1ms/sample - loss: 0.1707 - acc: 0.9366 - val_loss: 0.3256 - val_acc: 0.8927\n",
            "Epoch 9/10\n",
            "22336/54000 [===========>..................] - ETA: 35s - loss: 0.1551 - acc: 0.9433"
          ],
          "name": "stdout"
        }
      ]
    },
    {
      "cell_type": "code",
      "metadata": {
        "id": "DyJlv9lG49xD",
        "colab_type": "code",
        "colab": {}
      },
      "source": [
        "test_loss, test_accuracy = cnnModel_FASHION.evaluate(x=X_test, y=y_test)"
      ],
      "execution_count": 0,
      "outputs": []
    },
    {
      "cell_type": "code",
      "metadata": {
        "id": "5r-Y38TN4-ZT",
        "colab_type": "code",
        "colab": {}
      },
      "source": [
        "print(test_loss,test_accuracy)"
      ],
      "execution_count": 0,
      "outputs": []
    },
    {
      "cell_type": "markdown",
      "metadata": {
        "id": "kKyA0CLt5DxZ",
        "colab_type": "text"
      },
      "source": [
        "CNN with optimization"
      ]
    },
    {
      "cell_type": "code",
      "metadata": {
        "id": "rfy-6lEu5Cvv",
        "colab_type": "code",
        "colab": {}
      },
      "source": [
        "cnnModel_FASHION = keras.models.Sequential()\n",
        "cnnModel_FASHION.add(keras.layers.Conv2D(32, (3,3), activation=\"relu\",input_shape=X_train.shape[1:]))\n",
        "cnnModel_FASHION.add(keras.layers.MaxPooling2D((2,2)))\n",
        "cnnModel_FASHION.add(keras.layers.BatchNormalization())\n",
        "cnnModel_FASHION.add(keras.layers.Conv2D(64, (3,3), activation='relu'))"
      ],
      "execution_count": 0,
      "outputs": []
    },
    {
      "cell_type": "code",
      "metadata": {
        "id": "MHsR-_4c5bhM",
        "colab_type": "code",
        "colab": {}
      },
      "source": [
        "cnnModel_FASHION.add(keras.layers.MaxPooling2D((2,2)))\n",
        "cnnModel_FASHION.add(keras.layers.Conv2D(64, (3,3), activation=\"relu\"))\n",
        "cnnModel_FASHION.add(keras.layers.Flatten())\n",
        "cnnModel_FASHION.add(keras.layers.Dense(64, activation=\"relu\"))"
      ],
      "execution_count": 0,
      "outputs": []
    },
    {
      "cell_type": "code",
      "metadata": {
        "id": "hR578Ls_5kOH",
        "colab_type": "code",
        "colab": {}
      },
      "source": [
        "cnnModel_FASHION.add(keras.layers.BatchNormalization())\n",
        "cnnModel_FASHION.add(keras.layers.Dropout(0.1))\n",
        "cnnModel_FASHION.add(keras.layers.Dense(32, activation=\"relu\"))\n",
        "cnnModel_FASHION.add(keras.layers.Dense(10, activation=\"softmax\"))"
      ],
      "execution_count": 0,
      "outputs": []
    },
    {
      "cell_type": "code",
      "metadata": {
        "id": "xI17q-x95nDM",
        "colab_type": "code",
        "colab": {}
      },
      "source": [
        "cnnModel_FASHION.compile(loss='sparse_categorical_crossentropy',optimizer='adam', metrics=['accuracy'])\n",
        "\n"
      ],
      "execution_count": 0,
      "outputs": []
    },
    {
      "cell_type": "code",
      "metadata": {
        "id": "8xyta-7W5ouz",
        "colab_type": "code",
        "colab": {}
      },
      "source": [
        "cnnModel_FASHION.fit(x=X_train, y=y_train, validation_split=0.1, epochs=10,batch_size=16)\n"
      ],
      "execution_count": 0,
      "outputs": []
    },
    {
      "cell_type": "code",
      "metadata": {
        "id": "giH70giL5of1",
        "colab_type": "code",
        "colab": {}
      },
      "source": [
        "test_loss, test_accuracy = cnnModel_FASHION.evaluate(x=X_test, y=y_test)"
      ],
      "execution_count": 0,
      "outputs": []
    },
    {
      "cell_type": "code",
      "metadata": {
        "id": "pumBQEHG5ySE",
        "colab_type": "code",
        "colab": {}
      },
      "source": [
        "print(test_loss,test_accuracy)"
      ],
      "execution_count": 0,
      "outputs": []
    }
  ]
}