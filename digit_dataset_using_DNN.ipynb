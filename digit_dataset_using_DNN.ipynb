{
  "nbformat": 4,
  "nbformat_minor": 0,
  "metadata": {
    "colab": {
      "name": "digit dataset using DNN.ipynb",
      "provenance": []
    },
    "kernelspec": {
      "name": "python3",
      "display_name": "Python 3"
    }
  },
  "cells": [
    {
      "cell_type": "markdown",
      "metadata": {
        "id": "hkCOeNfj0vzR",
        "colab_type": "text"
      },
      "source": [
        "DNN with optimization"
      ]
    },
    {
      "cell_type": "code",
      "metadata": {
        "id": "L2a5A-DxvicC",
        "colab_type": "code",
        "colab": {}
      },
      "source": [
        "import numpy as np\n",
        "import pandas as pd"
      ],
      "execution_count": 0,
      "outputs": []
    },
    {
      "cell_type": "code",
      "metadata": {
        "id": "XKzHwJhhvyYu",
        "colab_type": "code",
        "colab": {}
      },
      "source": [
        "import tensorflow as tf\n",
        "from tensorflow import keras\n",
        "\n"
      ],
      "execution_count": 0,
      "outputs": []
    },
    {
      "cell_type": "code",
      "metadata": {
        "id": "aNIB5h--wAbZ",
        "colab_type": "code",
        "colab": {}
      },
      "source": [
        "tf.random.set_random_seed(42)\n",
        "np.random.seed(42)"
      ],
      "execution_count": 0,
      "outputs": []
    },
    {
      "cell_type": "code",
      "metadata": {
        "id": "cWBvKh8Iv5cT",
        "colab_type": "code",
        "colab": {}
      },
      "source": [
        "mnistDB = keras.datasets.mnist"
      ],
      "execution_count": 0,
      "outputs": []
    },
    {
      "cell_type": "code",
      "metadata": {
        "id": "yOLmB5BxwDZp",
        "colab_type": "code",
        "colab": {}
      },
      "source": [
        "(X_train, y_train),(X_test, y_test) = mnistDB.load_data()"
      ],
      "execution_count": 0,
      "outputs": []
    },
    {
      "cell_type": "code",
      "metadata": {
        "id": "rCCJGUX_wIbn",
        "colab_type": "code",
        "colab": {}
      },
      "source": [
        "X_train = X_train.reshape((60000, 28*28))"
      ],
      "execution_count": 0,
      "outputs": []
    },
    {
      "cell_type": "code",
      "metadata": {
        "id": "BuAvVKf_wLpA",
        "colab_type": "code",
        "colab": {}
      },
      "source": [
        "X_train = X_train.astype('float32')/255"
      ],
      "execution_count": 0,
      "outputs": []
    },
    {
      "cell_type": "code",
      "metadata": {
        "id": "IlBiconJwOqo",
        "colab_type": "code",
        "colab": {}
      },
      "source": [
        "X_test = X_test.reshape((10000, 28*28))"
      ],
      "execution_count": 0,
      "outputs": []
    },
    {
      "cell_type": "code",
      "metadata": {
        "id": "0zWcaYw_wQnn",
        "colab_type": "code",
        "colab": {}
      },
      "source": [
        "X_test = X_test.astype('float32')/255"
      ],
      "execution_count": 0,
      "outputs": []
    },
    {
      "cell_type": "code",
      "metadata": {
        "id": "Or_cE_r_wSjT",
        "colab_type": "code",
        "colab": {}
      },
      "source": [
        "dnnModel_MNIST = keras.models.Sequential()"
      ],
      "execution_count": 0,
      "outputs": []
    },
    {
      "cell_type": "code",
      "metadata": {
        "id": "qnHSd4txwVZJ",
        "colab_type": "code",
        "colab": {}
      },
      "source": [
        "dnnModel_MNIST.add(keras.layers.Dense(50, activation=\"relu\",input_shape=X_train.shape[1:]))\n",
        "dnnModel_MNIST.add(keras.layers.BatchNormalization())\n",
        "dnnModel_MNIST.add(keras.layers.Dropout(0.1))\n",
        "dnnModel_MNIST.add(keras.layers.Dense(30, activation=\"relu\"))"
      ],
      "execution_count": 0,
      "outputs": []
    },
    {
      "cell_type": "code",
      "metadata": {
        "id": "hgD4qqalwc3o",
        "colab_type": "code",
        "colab": {}
      },
      "source": [
        "dnnModel_MNIST.add(keras.layers.Dense(10, activation=\"softmax\"))"
      ],
      "execution_count": 0,
      "outputs": []
    },
    {
      "cell_type": "code",
      "metadata": {
        "id": "DA-6wb-GwgBO",
        "colab_type": "code",
        "colab": {}
      },
      "source": [
        "dnnModel_MNIST.compile(loss='sparse_categorical_crossentropy',optimizer='adam', metrics=['accuracy'])"
      ],
      "execution_count": 0,
      "outputs": []
    },
    {
      "cell_type": "code",
      "metadata": {
        "id": "3FTrDRgwwssq",
        "colab_type": "code",
        "outputId": "4ee3edc1-f79d-4280-e4cf-ba5a389c2fff",
        "colab": {
          "base_uri": "https://localhost:8080/",
          "height": 391
        }
      },
      "source": [
        "dnnModel_MNIST.fit(x=X_train, y=y_train, validation_split=0.1, epochs=10,batch_size=16)"
      ],
      "execution_count": 0,
      "outputs": [
        {
          "output_type": "stream",
          "text": [
            "Train on 54000 samples, validate on 6000 samples\n",
            "Epoch 1/10\n",
            "54000/54000 [==============================] - 7s 128us/sample - loss: 0.3807 - acc: 0.8853 - val_loss: 0.1492 - val_acc: 0.9538\n",
            "Epoch 2/10\n",
            "54000/54000 [==============================] - 7s 121us/sample - loss: 0.2269 - acc: 0.9309 - val_loss: 0.1134 - val_acc: 0.9663\n",
            "Epoch 3/10\n",
            "54000/54000 [==============================] - 7s 123us/sample - loss: 0.1960 - acc: 0.9404 - val_loss: 0.1125 - val_acc: 0.9665\n",
            "Epoch 4/10\n",
            "54000/54000 [==============================] - 7s 127us/sample - loss: 0.1735 - acc: 0.9456 - val_loss: 0.0948 - val_acc: 0.9723\n",
            "Epoch 5/10\n",
            "54000/54000 [==============================] - 7s 135us/sample - loss: 0.1588 - acc: 0.9509 - val_loss: 0.0963 - val_acc: 0.9702\n",
            "Epoch 6/10\n",
            "54000/54000 [==============================] - 7s 126us/sample - loss: 0.1500 - acc: 0.9528 - val_loss: 0.1004 - val_acc: 0.9720\n",
            "Epoch 7/10\n",
            "54000/54000 [==============================] - 7s 124us/sample - loss: 0.1383 - acc: 0.9568 - val_loss: 0.0894 - val_acc: 0.9728\n",
            "Epoch 8/10\n",
            "54000/54000 [==============================] - 7s 124us/sample - loss: 0.1363 - acc: 0.9574 - val_loss: 0.0909 - val_acc: 0.9730\n",
            "Epoch 9/10\n",
            "54000/54000 [==============================] - 7s 124us/sample - loss: 0.1312 - acc: 0.9594 - val_loss: 0.1011 - val_acc: 0.9710\n",
            "Epoch 10/10\n",
            "54000/54000 [==============================] - 7s 122us/sample - loss: 0.1253 - acc: 0.9601 - val_loss: 0.0861 - val_acc: 0.9748\n"
          ],
          "name": "stdout"
        },
        {
          "output_type": "execute_result",
          "data": {
            "text/plain": [
              "<tensorflow.python.keras.callbacks.History at 0x7fac4f09a470>"
            ]
          },
          "metadata": {
            "tags": []
          },
          "execution_count": 42
        }
      ]
    },
    {
      "cell_type": "code",
      "metadata": {
        "id": "wKDNYHo5w9YK",
        "colab_type": "code",
        "outputId": "d656aa18-d5dc-46f4-ab62-659209421ee8",
        "colab": {
          "base_uri": "https://localhost:8080/",
          "height": 34
        }
      },
      "source": [
        "test_loss, test_accuracy = dnnModel_MNIST.evaluate(x=X_test, y=y_test)"
      ],
      "execution_count": 0,
      "outputs": [
        {
          "output_type": "stream",
          "text": [
            "10000/10000 [==============================] - 0s 28us/sample - loss: 0.0978 - acc: 0.9709\n"
          ],
          "name": "stdout"
        }
      ]
    },
    {
      "cell_type": "code",
      "metadata": {
        "id": "SqjWUv4dxAEL",
        "colab_type": "code",
        "outputId": "f3c839f1-e58b-457d-ba10-15a0d044ad34",
        "colab": {
          "base_uri": "https://localhost:8080/",
          "height": 34
        }
      },
      "source": [
        "print(test_loss, test_accuracy)"
      ],
      "execution_count": 0,
      "outputs": [
        {
          "output_type": "stream",
          "text": [
            "0.09782352239107713 0.9709\n"
          ],
          "name": "stdout"
        }
      ]
    },
    {
      "cell_type": "markdown",
      "metadata": {
        "id": "rHETQ5mA0kM9",
        "colab_type": "text"
      },
      "source": [
        "DNN without optimization"
      ]
    },
    {
      "cell_type": "code",
      "metadata": {
        "id": "NIJKdvb-xClB",
        "colab_type": "code",
        "colab": {}
      },
      "source": [
        "dnnModel_MNIST = keras.models.Sequential()"
      ],
      "execution_count": 0,
      "outputs": []
    },
    {
      "cell_type": "code",
      "metadata": {
        "id": "lRqMoTWQ076b",
        "colab_type": "code",
        "colab": {}
      },
      "source": [
        "dnnModel_MNIST.add(keras.layers.Dense(50, activation=\"relu\",input_shape=X_train.shape[1:]))"
      ],
      "execution_count": 0,
      "outputs": []
    },
    {
      "cell_type": "code",
      "metadata": {
        "id": "J-WNZ8a00_rJ",
        "colab_type": "code",
        "colab": {}
      },
      "source": [
        "dnnModel_MNIST.add(keras.layers.Dense(30, activation=\"relu\"))"
      ],
      "execution_count": 0,
      "outputs": []
    },
    {
      "cell_type": "code",
      "metadata": {
        "id": "U0rv2Fe91DU9",
        "colab_type": "code",
        "colab": {}
      },
      "source": [
        "dnnModel_MNIST.add(keras.layers.Dense(10, activation=\"softmax\"))"
      ],
      "execution_count": 0,
      "outputs": []
    },
    {
      "cell_type": "code",
      "metadata": {
        "id": "fm08sJA31DPf",
        "colab_type": "code",
        "colab": {}
      },
      "source": [
        "dnnModel_MNIST.compile(loss='sparse_categorical_crossentropy',optimizer='adam', metrics=['accuracy'])"
      ],
      "execution_count": 0,
      "outputs": []
    },
    {
      "cell_type": "code",
      "metadata": {
        "id": "JwKfTGQ31DH4",
        "colab_type": "code",
        "outputId": "a9b5e00d-1366-4449-b9ba-89e1396750f7",
        "colab": {
          "base_uri": "https://localhost:8080/",
          "height": 391
        }
      },
      "source": [
        "dnnModel_MNIST.fit(x=X_train, y=y_train, validation_split=0.1, epochs=10,batch_size=16)"
      ],
      "execution_count": 0,
      "outputs": [
        {
          "output_type": "stream",
          "text": [
            "Train on 54000 samples, validate on 6000 samples\n",
            "Epoch 1/10\n",
            "54000/54000 [==============================] - 6s 106us/sample - loss: 0.3025 - acc: 0.9109 - val_loss: 0.1510 - val_acc: 0.9553\n",
            "Epoch 2/10\n",
            "54000/54000 [==============================] - 6s 106us/sample - loss: 0.1446 - acc: 0.9574 - val_loss: 0.1132 - val_acc: 0.9697\n",
            "Epoch 3/10\n",
            "54000/54000 [==============================] - 6s 106us/sample - loss: 0.1076 - acc: 0.9668 - val_loss: 0.1140 - val_acc: 0.9660\n",
            "Epoch 4/10\n",
            "54000/54000 [==============================] - 6s 106us/sample - loss: 0.0878 - acc: 0.9726 - val_loss: 0.0959 - val_acc: 0.9738\n",
            "Epoch 5/10\n",
            "54000/54000 [==============================] - 6s 109us/sample - loss: 0.0725 - acc: 0.9775 - val_loss: 0.1040 - val_acc: 0.9675\n",
            "Epoch 6/10\n",
            "54000/54000 [==============================] - 6s 110us/sample - loss: 0.0646 - acc: 0.9799 - val_loss: 0.1009 - val_acc: 0.9705\n",
            "Epoch 7/10\n",
            "54000/54000 [==============================] - 6s 109us/sample - loss: 0.0536 - acc: 0.9828 - val_loss: 0.0890 - val_acc: 0.9770\n",
            "Epoch 8/10\n",
            "54000/54000 [==============================] - 6s 110us/sample - loss: 0.0483 - acc: 0.9844 - val_loss: 0.0911 - val_acc: 0.9763\n",
            "Epoch 9/10\n",
            "54000/54000 [==============================] - 6s 108us/sample - loss: 0.0432 - acc: 0.9859 - val_loss: 0.1022 - val_acc: 0.9753\n",
            "Epoch 10/10\n",
            "54000/54000 [==============================] - 6s 110us/sample - loss: 0.0388 - acc: 0.9874 - val_loss: 0.1093 - val_acc: 0.9752\n"
          ],
          "name": "stdout"
        },
        {
          "output_type": "execute_result",
          "data": {
            "text/plain": [
              "<tensorflow.python.keras.callbacks.History at 0x7fac4f65c5f8>"
            ]
          },
          "metadata": {
            "tags": []
          },
          "execution_count": 35
        }
      ]
    },
    {
      "cell_type": "code",
      "metadata": {
        "id": "3KI6IrZZ1DBs",
        "colab_type": "code",
        "outputId": "0cd0b6eb-8f54-4b74-fef5-b137f3893440",
        "colab": {
          "base_uri": "https://localhost:8080/",
          "height": 34
        }
      },
      "source": [
        "test_loss, test_accuracy = dnnModel_MNIST.evaluate(x=X_test, y=y_test)"
      ],
      "execution_count": 0,
      "outputs": [
        {
          "output_type": "stream",
          "text": [
            "10000/10000 [==============================] - 0s 27us/sample - loss: 0.1148 - acc: 0.9700\n"
          ],
          "name": "stdout"
        }
      ]
    },
    {
      "cell_type": "code",
      "metadata": {
        "id": "wzafazI41C5N",
        "colab_type": "code",
        "outputId": "371a2d7a-792a-4371-f754-7b78b90b99a3",
        "colab": {
          "base_uri": "https://localhost:8080/",
          "height": 34
        }
      },
      "source": [
        "print(test_loss, test_accuracy)"
      ],
      "execution_count": 0,
      "outputs": [
        {
          "output_type": "stream",
          "text": [
            "0.11478488978544192 0.97\n"
          ],
          "name": "stdout"
        }
      ]
    }
  ]
}