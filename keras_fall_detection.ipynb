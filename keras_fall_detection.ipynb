{
  "nbformat": 4,
  "nbformat_minor": 0,
  "metadata": {
    "colab": {
      "name": "keras-fall detection.ipynb",
      "provenance": []
    },
    "kernelspec": {
      "name": "python3",
      "display_name": "Python 3"
    }
  },
  "cells": [
    {
      "cell_type": "code",
      "metadata": {
        "id": "KuVeSisihkp5",
        "colab_type": "code",
        "colab": {}
      },
      "source": [
        "import numpy as np\n",
        "import pandas as pd"
      ],
      "execution_count": 0,
      "outputs": []
    },
    {
      "cell_type": "code",
      "metadata": {
        "id": "8MH9-qRYh1e6",
        "colab_type": "code",
        "colab": {}
      },
      "source": [
        "data=pd.read_csv(\"falldeteciton.csv\")"
      ],
      "execution_count": 0,
      "outputs": []
    },
    {
      "cell_type": "code",
      "metadata": {
        "id": "yQs6SbZlh_W-",
        "colab_type": "code",
        "outputId": "ad502a19-f9ad-4103-cacf-5f5f87f736ce",
        "colab": {
          "base_uri": "https://localhost:8080/",
          "height": 235
        }
      },
      "source": [
        "data.info()"
      ],
      "execution_count": 3,
      "outputs": [
        {
          "output_type": "stream",
          "text": [
            "<class 'pandas.core.frame.DataFrame'>\n",
            "RangeIndex: 16382 entries, 0 to 16381\n",
            "Data columns (total 7 columns):\n",
            "ACTIVITY       16382 non-null int64\n",
            "TIME           16382 non-null float64\n",
            "SL             16382 non-null float64\n",
            "EEG            16382 non-null float64\n",
            "BP             16382 non-null int64\n",
            "HR             16382 non-null int64\n",
            "CIRCLUATION    16382 non-null int64\n",
            "dtypes: float64(3), int64(4)\n",
            "memory usage: 896.0 KB\n"
          ],
          "name": "stdout"
        }
      ]
    },
    {
      "cell_type": "code",
      "metadata": {
        "id": "D1Qz2YlpiBxv",
        "colab_type": "code",
        "colab": {}
      },
      "source": [
        "from sklearn.preprocessing import StandardScaler"
      ],
      "execution_count": 0,
      "outputs": []
    },
    {
      "cell_type": "code",
      "metadata": {
        "id": "0BCVrxhziE0E",
        "colab_type": "code",
        "colab": {}
      },
      "source": [
        "sc=StandardScaler()"
      ],
      "execution_count": 0,
      "outputs": []
    },
    {
      "cell_type": "code",
      "metadata": {
        "id": "YnODf0BsiGs_",
        "colab_type": "code",
        "colab": {}
      },
      "source": [
        "x=data.drop('ACTIVITY',axis=1)\n",
        "y=data.ACTIVITY"
      ],
      "execution_count": 0,
      "outputs": []
    },
    {
      "cell_type": "code",
      "metadata": {
        "id": "OJWPrPcMiIl7",
        "colab_type": "code",
        "colab": {}
      },
      "source": [
        "from sklearn.model_selection import train_test_split\n",
        "xtrain,xtest,ytrain,ytest=train_test_split(x,y,test_size=0.2,stratify=y,random_state=1)"
      ],
      "execution_count": 0,
      "outputs": []
    },
    {
      "cell_type": "code",
      "metadata": {
        "id": "b-YKuKa4iKrt",
        "colab_type": "code",
        "colab": {}
      },
      "source": [
        "sc.fit(xtrain)\n",
        "xtrain_std=sc.fit_transform(xtrain)\n",
        "xtest_std=sc.fit_transform(xtest)"
      ],
      "execution_count": 0,
      "outputs": []
    },
    {
      "cell_type": "code",
      "metadata": {
        "id": "ibcvJIb-iXEe",
        "colab_type": "code",
        "outputId": "6943cd41-fef9-4e6f-c29a-27d2ea302272",
        "colab": {
          "base_uri": "https://localhost:8080/",
          "height": 65
        }
      },
      "source": [
        "import tensorflow\n",
        "from tensorflow import keras"
      ],
      "execution_count": 9,
      "outputs": [
        {
          "output_type": "display_data",
          "data": {
            "text/html": [
              "<p style=\"color: red;\">\n",
              "The default version of TensorFlow in Colab will soon switch to TensorFlow 2.x.<br>\n",
              "We recommend you <a href=\"https://www.tensorflow.org/guide/migrate\" target=\"_blank\">upgrade</a> now \n",
              "or ensure your notebook will continue to use TensorFlow 1.x via the <code>%tensorflow_version 1.x</code> magic:\n",
              "<a href=\"https://colab.research.google.com/notebooks/tensorflow_version.ipynb\" target=\"_blank\">more info</a>.</p>\n"
            ],
            "text/plain": [
              "<IPython.core.display.HTML object>"
            ]
          },
          "metadata": {
            "tags": []
          }
        }
      ]
    },
    {
      "cell_type": "code",
      "metadata": {
        "id": "rCWM7WeFiaN4",
        "colab_type": "code",
        "outputId": "b5f7927e-62b6-4455-feff-95e041f2bb1f",
        "colab": {
          "base_uri": "https://localhost:8080/",
          "height": 92
        }
      },
      "source": [
        "model=keras.models.Sequential()\n",
        "model.add(keras.layers.Dense(units=50,activation=\"relu\",input_shape=xtrain.shape[1:]))"
      ],
      "execution_count": 10,
      "outputs": [
        {
          "output_type": "stream",
          "text": [
            "WARNING:tensorflow:From /usr/local/lib/python3.6/dist-packages/tensorflow_core/python/ops/resource_variable_ops.py:1630: calling BaseResourceVariable.__init__ (from tensorflow.python.ops.resource_variable_ops) with constraint is deprecated and will be removed in a future version.\n",
            "Instructions for updating:\n",
            "If using Keras pass *_constraint arguments to layers.\n"
          ],
          "name": "stdout"
        }
      ]
    },
    {
      "cell_type": "code",
      "metadata": {
        "id": "34CUzF8WidRG",
        "colab_type": "code",
        "colab": {}
      },
      "source": [
        "model.add(keras.layers.Dense(units=6,activation='softmax'))"
      ],
      "execution_count": 0,
      "outputs": []
    },
    {
      "cell_type": "code",
      "metadata": {
        "id": "th1GH-9B9EyA",
        "colab_type": "code",
        "colab": {}
      },
      "source": [
        "model.compile(loss='sparse_categorical_crossentropy', optimizer='adam', metrics=['accuracy'])\n"
      ],
      "execution_count": 0,
      "outputs": []
    },
    {
      "cell_type": "code",
      "metadata": {
        "id": "L0WKCDq29Fe-",
        "colab_type": "code",
        "colab": {
          "base_uri": "https://localhost:8080/",
          "height": 1000
        },
        "outputId": "349d8ced-2dbe-48ca-8253-dcdd03041891"
      },
      "source": [
        "model.fit(x=xtrain_std, y=ytrain, validation_split=0.1,epochs=50, batch_size=32)"
      ],
      "execution_count": 20,
      "outputs": [
        {
          "output_type": "stream",
          "text": [
            "Train on 11794 samples, validate on 1311 samples\n",
            "Epoch 1/50\n",
            "11794/11794 [==============================] - 1s 47us/sample - loss: 1.2494 - acc: 0.4965 - val_loss: 1.3067 - val_acc: 0.4752\n",
            "Epoch 2/50\n",
            "11794/11794 [==============================] - 1s 49us/sample - loss: 1.2494 - acc: 0.5003 - val_loss: 1.3071 - val_acc: 0.4783\n",
            "Epoch 3/50\n",
            "11794/11794 [==============================] - 1s 47us/sample - loss: 1.2489 - acc: 0.4993 - val_loss: 1.3114 - val_acc: 0.4851\n",
            "Epoch 4/50\n",
            "11794/11794 [==============================] - 1s 47us/sample - loss: 1.2484 - acc: 0.5004 - val_loss: 1.3035 - val_acc: 0.4889\n",
            "Epoch 5/50\n",
            "11794/11794 [==============================] - 1s 48us/sample - loss: 1.2488 - acc: 0.5000 - val_loss: 1.3277 - val_acc: 0.4767\n",
            "Epoch 6/50\n",
            "11794/11794 [==============================] - 1s 46us/sample - loss: 1.2482 - acc: 0.4992 - val_loss: 1.3072 - val_acc: 0.4882\n",
            "Epoch 7/50\n",
            "11794/11794 [==============================] - 1s 49us/sample - loss: 1.2481 - acc: 0.4965 - val_loss: 1.3136 - val_acc: 0.4859\n",
            "Epoch 8/50\n",
            "11794/11794 [==============================] - 1s 48us/sample - loss: 1.2469 - acc: 0.4980 - val_loss: 1.3050 - val_acc: 0.4775\n",
            "Epoch 9/50\n",
            "11794/11794 [==============================] - 1s 49us/sample - loss: 1.2469 - acc: 0.4992 - val_loss: 1.3066 - val_acc: 0.4767\n",
            "Epoch 10/50\n",
            "11794/11794 [==============================] - 1s 49us/sample - loss: 1.2459 - acc: 0.4978 - val_loss: 1.3065 - val_acc: 0.4851\n",
            "Epoch 11/50\n",
            "11794/11794 [==============================] - 1s 48us/sample - loss: 1.2455 - acc: 0.4981 - val_loss: 1.3021 - val_acc: 0.4805\n",
            "Epoch 12/50\n",
            "11794/11794 [==============================] - 1s 50us/sample - loss: 1.2473 - acc: 0.4975 - val_loss: 1.3078 - val_acc: 0.4859\n",
            "Epoch 13/50\n",
            "11794/11794 [==============================] - 1s 47us/sample - loss: 1.2464 - acc: 0.4987 - val_loss: 1.3069 - val_acc: 0.4775\n",
            "Epoch 14/50\n",
            "11794/11794 [==============================] - 1s 47us/sample - loss: 1.2446 - acc: 0.5003 - val_loss: 1.3121 - val_acc: 0.4828\n",
            "Epoch 15/50\n",
            "11794/11794 [==============================] - 1s 47us/sample - loss: 1.2449 - acc: 0.4975 - val_loss: 1.3036 - val_acc: 0.4828\n",
            "Epoch 16/50\n",
            "11794/11794 [==============================] - 1s 48us/sample - loss: 1.2446 - acc: 0.5034 - val_loss: 1.3079 - val_acc: 0.4798\n",
            "Epoch 17/50\n",
            "11794/11794 [==============================] - 1s 47us/sample - loss: 1.2448 - acc: 0.4983 - val_loss: 1.3017 - val_acc: 0.4798\n",
            "Epoch 18/50\n",
            "11794/11794 [==============================] - 1s 47us/sample - loss: 1.2448 - acc: 0.4967 - val_loss: 1.3021 - val_acc: 0.4836\n",
            "Epoch 19/50\n",
            "11794/11794 [==============================] - 1s 47us/sample - loss: 1.2434 - acc: 0.4967 - val_loss: 1.3065 - val_acc: 0.4821\n",
            "Epoch 20/50\n",
            "11794/11794 [==============================] - 1s 48us/sample - loss: 1.2425 - acc: 0.4997 - val_loss: 1.3015 - val_acc: 0.4775\n",
            "Epoch 21/50\n",
            "11794/11794 [==============================] - 1s 50us/sample - loss: 1.2432 - acc: 0.5005 - val_loss: 1.3037 - val_acc: 0.4836\n",
            "Epoch 22/50\n",
            "11794/11794 [==============================] - 1s 50us/sample - loss: 1.2433 - acc: 0.4980 - val_loss: 1.3014 - val_acc: 0.4828\n",
            "Epoch 23/50\n",
            "11794/11794 [==============================] - 1s 47us/sample - loss: 1.2432 - acc: 0.4973 - val_loss: 1.3027 - val_acc: 0.4676\n",
            "Epoch 24/50\n",
            "11794/11794 [==============================] - 1s 47us/sample - loss: 1.2417 - acc: 0.4994 - val_loss: 1.3044 - val_acc: 0.4813\n",
            "Epoch 25/50\n",
            "11794/11794 [==============================] - 1s 47us/sample - loss: 1.2422 - acc: 0.4999 - val_loss: 1.3025 - val_acc: 0.4867\n",
            "Epoch 26/50\n",
            "11794/11794 [==============================] - 1s 49us/sample - loss: 1.2408 - acc: 0.4980 - val_loss: 1.3026 - val_acc: 0.4836\n",
            "Epoch 27/50\n",
            "11794/11794 [==============================] - 1s 47us/sample - loss: 1.2408 - acc: 0.5011 - val_loss: 1.3029 - val_acc: 0.4790\n",
            "Epoch 28/50\n",
            "11794/11794 [==============================] - 1s 50us/sample - loss: 1.2413 - acc: 0.5000 - val_loss: 1.2998 - val_acc: 0.4805\n",
            "Epoch 29/50\n",
            "11794/11794 [==============================] - 1s 47us/sample - loss: 1.2409 - acc: 0.4997 - val_loss: 1.3001 - val_acc: 0.4836\n",
            "Epoch 30/50\n",
            "11794/11794 [==============================] - 1s 48us/sample - loss: 1.2402 - acc: 0.5014 - val_loss: 1.2995 - val_acc: 0.4836\n",
            "Epoch 31/50\n",
            "11794/11794 [==============================] - 1s 48us/sample - loss: 1.2405 - acc: 0.4975 - val_loss: 1.2988 - val_acc: 0.4790\n",
            "Epoch 32/50\n",
            "11794/11794 [==============================] - 1s 45us/sample - loss: 1.2397 - acc: 0.5019 - val_loss: 1.3001 - val_acc: 0.4752\n",
            "Epoch 33/50\n",
            "11794/11794 [==============================] - 1s 49us/sample - loss: 1.2390 - acc: 0.5027 - val_loss: 1.3154 - val_acc: 0.4744\n",
            "Epoch 34/50\n",
            "11794/11794 [==============================] - 1s 47us/sample - loss: 1.2395 - acc: 0.5005 - val_loss: 1.3005 - val_acc: 0.4722\n",
            "Epoch 35/50\n",
            "11794/11794 [==============================] - 1s 48us/sample - loss: 1.2389 - acc: 0.4961 - val_loss: 1.2952 - val_acc: 0.4798\n",
            "Epoch 36/50\n",
            "11794/11794 [==============================] - 1s 46us/sample - loss: 1.2388 - acc: 0.5003 - val_loss: 1.2951 - val_acc: 0.4790\n",
            "Epoch 37/50\n",
            "11794/11794 [==============================] - 1s 47us/sample - loss: 1.2386 - acc: 0.5008 - val_loss: 1.3031 - val_acc: 0.4836\n",
            "Epoch 38/50\n",
            "11794/11794 [==============================] - 1s 46us/sample - loss: 1.2382 - acc: 0.4998 - val_loss: 1.2987 - val_acc: 0.4729\n",
            "Epoch 39/50\n",
            "11794/11794 [==============================] - 1s 47us/sample - loss: 1.2379 - acc: 0.5002 - val_loss: 1.3028 - val_acc: 0.4813\n",
            "Epoch 40/50\n",
            "11794/11794 [==============================] - 1s 49us/sample - loss: 1.2372 - acc: 0.4982 - val_loss: 1.3013 - val_acc: 0.4752\n",
            "Epoch 41/50\n",
            "11794/11794 [==============================] - 1s 47us/sample - loss: 1.2364 - acc: 0.5008 - val_loss: 1.2956 - val_acc: 0.4897\n",
            "Epoch 42/50\n",
            "11794/11794 [==============================] - 1s 45us/sample - loss: 1.2359 - acc: 0.5019 - val_loss: 1.2970 - val_acc: 0.4813\n",
            "Epoch 43/50\n",
            "11794/11794 [==============================] - 1s 48us/sample - loss: 1.2360 - acc: 0.5016 - val_loss: 1.3031 - val_acc: 0.4737\n",
            "Epoch 44/50\n",
            "11794/11794 [==============================] - 1s 47us/sample - loss: 1.2358 - acc: 0.5004 - val_loss: 1.3010 - val_acc: 0.4783\n",
            "Epoch 45/50\n",
            "11794/11794 [==============================] - 1s 53us/sample - loss: 1.2359 - acc: 0.5009 - val_loss: 1.2979 - val_acc: 0.4805\n",
            "Epoch 46/50\n",
            "11794/11794 [==============================] - 1s 47us/sample - loss: 1.2366 - acc: 0.4996 - val_loss: 1.2996 - val_acc: 0.4859\n",
            "Epoch 47/50\n",
            "11794/11794 [==============================] - 1s 47us/sample - loss: 1.2344 - acc: 0.5002 - val_loss: 1.2996 - val_acc: 0.4821\n",
            "Epoch 48/50\n",
            "11794/11794 [==============================] - 1s 46us/sample - loss: 1.2358 - acc: 0.5004 - val_loss: 1.2992 - val_acc: 0.4874\n",
            "Epoch 49/50\n",
            "11794/11794 [==============================] - 1s 47us/sample - loss: 1.2363 - acc: 0.4967 - val_loss: 1.2915 - val_acc: 0.4714\n",
            "Epoch 50/50\n",
            "11794/11794 [==============================] - 1s 49us/sample - loss: 1.2337 - acc: 0.5005 - val_loss: 1.2981 - val_acc: 0.4706\n"
          ],
          "name": "stdout"
        },
        {
          "output_type": "execute_result",
          "data": {
            "text/plain": [
              "<tensorflow.python.keras.callbacks.History at 0x7f685b08f898>"
            ]
          },
          "metadata": {
            "tags": []
          },
          "execution_count": 20
        }
      ]
    },
    {
      "cell_type": "code",
      "metadata": {
        "id": "iMeoYedo9PJc",
        "colab_type": "code",
        "colab": {
          "base_uri": "https://localhost:8080/",
          "height": 35
        },
        "outputId": "a2b1aaa7-8419-4e68-ef59-a50d22b05f7a"
      },
      "source": [
        "test_loss, test_accuracy = model.evaluate(x=xtest_std, y=ytest)"
      ],
      "execution_count": 21,
      "outputs": [
        {
          "output_type": "stream",
          "text": [
            "3277/3277 [==============================] - 0s 22us/sample - loss: 2.0563 - acc: 0.4251\n"
          ],
          "name": "stdout"
        }
      ]
    },
    {
      "cell_type": "code",
      "metadata": {
        "id": "I09ZYsYh9P2f",
        "colab_type": "code",
        "colab": {
          "base_uri": "https://localhost:8080/",
          "height": 35
        },
        "outputId": "b662d5fc-0533-4a43-f6ad-5553895e4ac2"
      },
      "source": [
        "print('test accuracy=',test_accuracy,'test loss=',test_loss)"
      ],
      "execution_count": 22,
      "outputs": [
        {
          "output_type": "stream",
          "text": [
            "test accuracy= 0.4250839 test loss= 2.05631628886279\n"
          ],
          "name": "stdout"
        }
      ]
    },
    {
      "cell_type": "code",
      "metadata": {
        "id": "6S5DlWLf-ABe",
        "colab_type": "code",
        "colab": {}
      },
      "source": [
        ""
      ],
      "execution_count": 0,
      "outputs": []
    }
  ]
}