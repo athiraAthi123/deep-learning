{
  "nbformat": 4,
  "nbformat_minor": 0,
  "metadata": {
    "colab": {
      "name": "ERROR",
      "provenance": []
    },
    "kernelspec": {
      "name": "python3",
      "display_name": "Python 3"
    }
  },
  "cells": [
    {
      "cell_type": "markdown",
      "metadata": {
        "id": "OmQD-_mCTrHL",
        "colab_type": "text"
      },
      "source": [
        "**MEAN SQUARE ERROR**"
      ]
    },
    {
      "cell_type": "code",
      "metadata": {
        "id": "5BXYKOaNTvEC",
        "colab_type": "code",
        "colab": {}
      },
      "source": [
        "from sklearn.metrics import mean_squared_error"
      ],
      "execution_count": 0,
      "outputs": []
    },
    {
      "cell_type": "code",
      "metadata": {
        "id": "K3Z8JF4ST1q_",
        "colab_type": "code",
        "outputId": "377e2806-ba8c-40eb-8015-000ff4461490",
        "colab": {
          "base_uri": "https://localhost:8080/",
          "height": 54
        }
      },
      "source": [
        "y_true = [ 3 , - 0.5 , 2 , 7 ]\n",
        "y_pred = [ 2.5 , 0.0 , 2 , 8 ]\n",
        "mse = mean_squared_error(y_true, y_pred)\n",
        "print ( \"MSE: %f\\n\" % mse)"
      ],
      "execution_count": 0,
      "outputs": [
        {
          "output_type": "stream",
          "text": [
            "MSE: 0.375000\n",
            "\n"
          ],
          "name": "stdout"
        }
      ]
    },
    {
      "cell_type": "code",
      "metadata": {
        "id": "F0dKABQgT2Ts",
        "colab_type": "code",
        "outputId": "d72447f4-81ad-4431-d165-c1420678cdcb",
        "colab": {
          "base_uri": "https://localhost:8080/",
          "height": 54
        }
      },
      "source": [
        "y_true = [[ 0.5 , 1 ],[ - 1 , 1 ],[ 7 , - 6 ]]\n",
        "y_pred = [[ 0 , 2 ],[ - 1 , 2 ],[ 8 , - 5 ]]\n",
        "mse = mean_squared_error(y_true, y_pred)\n",
        "print ( \"MSE: %f\\n\" % mse)"
      ],
      "execution_count": 0,
      "outputs": [
        {
          "output_type": "stream",
          "text": [
            "MSE: 0.708333\n",
            "\n"
          ],
          "name": "stdout"
        }
      ]
    },
    {
      "cell_type": "code",
      "metadata": {
        "id": "Zl_nxwaKT5Vx",
        "colab_type": "code",
        "outputId": "68b5ce70-3791-42d1-b8f0-281668d13340",
        "colab": {
          "base_uri": "https://localhost:8080/",
          "height": 54
        }
      },
      "source": [
        "mse = mean_squared_error(y_true, y_pred, multioutput = [ 0.3 , 0.7 ])\n",
        "print ( \"MSE: %f\\n\" % mse)"
      ],
      "execution_count": 0,
      "outputs": [
        {
          "output_type": "stream",
          "text": [
            "MSE: 0.825000\n",
            "\n"
          ],
          "name": "stdout"
        }
      ]
    },
    {
      "cell_type": "markdown",
      "metadata": {
        "id": "sV_CoIymUGiD",
        "colab_type": "text"
      },
      "source": [
        "**MEAN ABSOLUTE ERROR**"
      ]
    },
    {
      "cell_type": "code",
      "metadata": {
        "id": "-0EhxGTAUJPu",
        "colab_type": "code",
        "colab": {}
      },
      "source": [
        "from sklearn.metrics import mean_absolute_error"
      ],
      "execution_count": 0,
      "outputs": []
    },
    {
      "cell_type": "code",
      "metadata": {
        "id": "h1tsVOEoUKDu",
        "colab_type": "code",
        "outputId": "0d2bd61a-a1b8-4a60-bc31-c711406c85b0",
        "colab": {
          "base_uri": "https://localhost:8080/",
          "height": 54
        }
      },
      "source": [
        "y_true = [ 3 , - 0.5 , 2 , 7 ]\n",
        "y_pred = [ 2.5 , 0.0 , 2 , 8 ]\n",
        "mae = mean_absolute_error(y_true, y_pred)\n",
        "print ( \"MAE: %f\\n\" % mae)"
      ],
      "execution_count": 0,
      "outputs": [
        {
          "output_type": "stream",
          "text": [
            "MAE: 0.500000\n",
            "\n"
          ],
          "name": "stdout"
        }
      ]
    },
    {
      "cell_type": "code",
      "metadata": {
        "id": "bxIjwvebUNGw",
        "colab_type": "code",
        "outputId": "7a186e33-1d7a-421f-890a-df056443f848",
        "colab": {
          "base_uri": "https://localhost:8080/",
          "height": 54
        }
      },
      "source": [
        "y_true = [[ 0.5 , 1 ], [ - 1 , 1 ], [ 7 , - 6 ]]\n",
        "y_pred = [[ 0 , 2 ], [ - 1 , 2 ], [ 8 , - 5 ]]\n",
        "mae = mean_absolute_error(y_true, y_pred)\n",
        "print ( \"MAE: %f\\n\" % mae)"
      ],
      "execution_count": 0,
      "outputs": [
        {
          "output_type": "stream",
          "text": [
            "MAE: 0.750000\n",
            "\n"
          ],
          "name": "stdout"
        }
      ]
    },
    {
      "cell_type": "code",
      "metadata": {
        "id": "o28kfIstUQMq",
        "colab_type": "code",
        "outputId": "fd74ec50-8576-4882-96c9-114fdfc62853",
        "colab": {
          "base_uri": "https://localhost:8080/",
          "height": 54
        }
      },
      "source": [
        "mae = mean_absolute_error(y_true, y_pred, multioutput = [ 0.3 , 0.7 ])\n",
        "print ( \"MAE: %f\\n\" % mae)"
      ],
      "execution_count": 0,
      "outputs": [
        {
          "output_type": "stream",
          "text": [
            "MAE: 0.850000\n",
            "\n"
          ],
          "name": "stdout"
        }
      ]
    },
    {
      "cell_type": "markdown",
      "metadata": {
        "id": "lPcnwiZ9Udf6",
        "colab_type": "text"
      },
      "source": [
        "**CROSS ENTROPY**"
      ]
    },
    {
      "cell_type": "code",
      "metadata": {
        "id": "M2wxkyrlUgFv",
        "colab_type": "code",
        "outputId": "e5f32fe3-0ae9-4481-e323-7fe8065f5162",
        "colab": {
          "base_uri": "https://localhost:8080/",
          "height": 35
        }
      },
      "source": [
        "from sklearn.metrics import log_loss\n",
        "import numpy as np\n",
        "y_true = np.array([ 0 , 0 , 1 , 1 ])\n",
        "y_pred = np.array([[ .9 , .1 ], [ .8 , .2 ], [ .3 , .7 ], [ .01 , .99 ]])\n",
        "cross_entropy_loss = log_loss(y_true, y_pred,labels=[0,1])\n",
        "print ( \"Cross entropy loss: %f\" % cross_entropy_loss)"
      ],
      "execution_count": 0,
      "outputs": [
        {
          "output_type": "stream",
          "text": [
            "Cross entropy loss: 0.173807\n"
          ],
          "name": "stdout"
        }
      ]
    },
    {
      "cell_type": "code",
      "metadata": {
        "id": "rb6XyjN8yAMY",
        "colab_type": "code",
        "colab": {}
      },
      "source": [
        "from sklearn.utils import *\n",
        "from sklearn.preprocessing import *"
      ],
      "execution_count": 0,
      "outputs": []
    },
    {
      "cell_type": "markdown",
      "metadata": {
        "id": "ztMXoYESkdv7",
        "colab_type": "text"
      },
      "source": [
        "**LOG LOSS**"
      ]
    },
    {
      "cell_type": "code",
      "metadata": {
        "id": "JkrAmAXoUg0M",
        "colab_type": "code",
        "colab": {}
      },
      "source": [
        "\n",
        "def log_loss (y_true, y_pred, eps = 1e-15 , normalize = True , sample_weight = None ,labels = None ):\n",
        "  y_pred = check_array(y_pred, ensure_2d = False )\n",
        "  check_consistent_length(y_pred, y_true, sample_weight)\n",
        "  lb = LabelBinarizer()\n",
        "  if labels is not None :\n",
        "    lb.fit(labels)\n",
        "  else :\n",
        "    lb.fit(y_true)\n",
        "  if len (lb.classes_) == 1 :\n",
        "    if labels is None :\n",
        "      raise ValueError( 'y_true contains only one label ({0}). Please ''provide the true labels explicitly through the ''labels argument.' .format(lb.classes_[ 0 ]))\n",
        "    else :\n",
        "      raise ValueError( 'The labels array needs to contain at least two ''labels for log_loss, ''got {0}.' .format(lb.classes_))\n",
        "  \n",
        "  transformed_labels = lb.transform(y_true)\n",
        "  if transformed_labels.shape[1] == 1:\n",
        "    transformed_labels = np.append(1 - transformed_labels,transformed_labels, axis=1)\n",
        "  y_pred = np.clip(y_pred, eps, 1 - eps)\n",
        "# If y_pred is of single dimension, assume y_true to be binary\n",
        "# and then check.\n",
        "  if y_pred.ndim == 1:\n",
        "    y_pred = y_pred[:, np.newaxis]\n",
        "  if y_pred.shape[1] == 1:\n",
        "    y_pred = np.append(1 - y_pred, y_pred, axis=1)\n",
        "# Check if dimensions are consistent.\n",
        "  transformed_labels = check_array(transformed_labels)\n",
        "  if len(lb.classes_) != y_pred.shape[1]:\n",
        "    if labels is None:\n",
        "      raise ValueError(\"y_true and y_pred contain different number of \"\"classes {0}, {1}. Please provide the true \"\"labels explicitly through the labels argument. \"\"Classes found in \"\"y_true: {2}\".format(transformed_labels.shape[1],y_pred.shape[1],lb.classes_))\n",
        "    else:\n",
        "      raise ValueError('The number of classes in labels is different ''from that in y_pred. Classes found in ''labels: {0}'.format(lb.classes_))\n",
        "# Renormalize\n",
        "    y_pred /= y_pred.sum(axis=1)[:, np.newaxis]\n",
        "    loss = -(transformed_labels * np.log(y_pred)).sum(axis=1)\n",
        "\n",
        "  return _weighted_sum(loss, sample_weight, normalize)"
      ],
      "execution_count": 0,
      "outputs": []
    },
    {
      "cell_type": "code",
      "metadata": {
        "id": "r-qjjKsrVpnb",
        "colab_type": "code",
        "colab": {}
      },
      "source": [
        ""
      ],
      "execution_count": 0,
      "outputs": []
    },
    {
      "cell_type": "code",
      "metadata": {
        "id": "Vwmc95rcruCI",
        "colab_type": "code",
        "colab": {}
      },
      "source": [
        ""
      ],
      "execution_count": 0,
      "outputs": []
    }
  ]
}