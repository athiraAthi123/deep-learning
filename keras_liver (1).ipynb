{
  "nbformat": 4,
  "nbformat_minor": 0,
  "metadata": {
    "colab": {
      "name": "keras-liver.ipynb",
      "provenance": []
    },
    "kernelspec": {
      "name": "python3",
      "display_name": "Python 3"
    },
    "accelerator": "GPU"
  },
  "cells": [
    {
      "cell_type": "code",
      "metadata": {
        "id": "RoZtvMTkaeqL",
        "colab_type": "code",
        "colab": {}
      },
      "source": [
        "import pandas as pd\n",
        "import numpy as np"
      ],
      "execution_count": 0,
      "outputs": []
    },
    {
      "cell_type": "code",
      "metadata": {
        "id": "geTCVkywa9f0",
        "colab_type": "code",
        "colab": {}
      },
      "source": [
        "data=pd.read_csv(\"indian-liver-patient.csv.csv\")"
      ],
      "execution_count": 0,
      "outputs": []
    },
    {
      "cell_type": "code",
      "metadata": {
        "id": "LdT_ZERmbHOh",
        "colab_type": "code",
        "outputId": "60d7835a-cceb-4cf5-a733-c41d84353399",
        "colab": {
          "base_uri": "https://localhost:8080/",
          "height": 289
        }
      },
      "source": [
        "data.info()"
      ],
      "execution_count": 0,
      "outputs": [
        {
          "output_type": "stream",
          "text": [
            "<class 'pandas.core.frame.DataFrame'>\n",
            "RangeIndex: 583 entries, 0 to 582\n",
            "Data columns (total 11 columns):\n",
            "age                 583 non-null int64\n",
            "gender              583 non-null object\n",
            "tot_bilirubin       583 non-null float64\n",
            "direct_bilirubin    583 non-null float64\n",
            "tot_proteins        583 non-null int64\n",
            "albumin             583 non-null int64\n",
            "ag_ratio            583 non-null int64\n",
            "sgpt                583 non-null float64\n",
            "sgot                583 non-null float64\n",
            "alkphos             579 non-null float64\n",
            "is_patient          583 non-null int64\n",
            "dtypes: float64(5), int64(5), object(1)\n",
            "memory usage: 50.2+ KB\n"
          ],
          "name": "stdout"
        }
      ]
    },
    {
      "cell_type": "code",
      "metadata": {
        "id": "ru4b24JpbJP8",
        "colab_type": "code",
        "colab": {}
      },
      "source": [
        "from sklearn.preprocessing import LabelEncoder\n",
        "\n",
        "lb=LabelEncoder()"
      ],
      "execution_count": 0,
      "outputs": []
    },
    {
      "cell_type": "code",
      "metadata": {
        "id": "ZNFi73R-bQJ7",
        "colab_type": "code",
        "colab": {}
      },
      "source": [
        "data['gender']=lb.fit_transform(data['gender'])"
      ],
      "execution_count": 0,
      "outputs": []
    },
    {
      "cell_type": "code",
      "metadata": {
        "id": "t0_5nTOtbYX7",
        "colab_type": "code",
        "outputId": "40d5e526-d694-4d0d-ef47-a282741d4c5e",
        "colab": {
          "base_uri": "https://localhost:8080/",
          "height": 34
        }
      },
      "source": [
        "data.isnull().values.any()"
      ],
      "execution_count": 0,
      "outputs": [
        {
          "output_type": "execute_result",
          "data": {
            "text/plain": [
              "True"
            ]
          },
          "metadata": {
            "tags": []
          },
          "execution_count": 7
        }
      ]
    },
    {
      "cell_type": "code",
      "metadata": {
        "id": "ijk6R82zbfUA",
        "colab_type": "code",
        "colab": {}
      },
      "source": [
        "data.fillna(data.mean(),inplace=True)"
      ],
      "execution_count": 0,
      "outputs": []
    },
    {
      "cell_type": "code",
      "metadata": {
        "id": "_DSGcf2lbleI",
        "colab_type": "code",
        "outputId": "8f777155-e04c-471a-f084-0291657f22dd",
        "colab": {
          "base_uri": "https://localhost:8080/",
          "height": 34
        }
      },
      "source": [
        "data.isnull().values.any()"
      ],
      "execution_count": 0,
      "outputs": [
        {
          "output_type": "execute_result",
          "data": {
            "text/plain": [
              "False"
            ]
          },
          "metadata": {
            "tags": []
          },
          "execution_count": 9
        }
      ]
    },
    {
      "cell_type": "code",
      "metadata": {
        "id": "j4iS4qCFboIM",
        "colab_type": "code",
        "colab": {}
      },
      "source": [
        "from sklearn.model_selection import train_test_split"
      ],
      "execution_count": 0,
      "outputs": []
    },
    {
      "cell_type": "code",
      "metadata": {
        "id": "Un6rkZ6Wb3OU",
        "colab_type": "code",
        "outputId": "09ed64e6-4883-4665-ff7b-f36f1361c57e",
        "colab": {
          "base_uri": "https://localhost:8080/",
          "height": 80
        }
      },
      "source": [
        "import tensorflow\n",
        "from tensorflow import keras"
      ],
      "execution_count": 0,
      "outputs": [
        {
          "output_type": "display_data",
          "data": {
            "text/html": [
              "<p style=\"color: red;\">\n",
              "The default version of TensorFlow in Colab will soon switch to TensorFlow 2.x.<br>\n",
              "We recommend you <a href=\"https://www.tensorflow.org/guide/migrate\" target=\"_blank\">upgrade</a> now \n",
              "or ensure your notebook will continue to use TensorFlow 1.x via the <code>%tensorflow_version 1.x</code> magic:\n",
              "<a href=\"https://colab.research.google.com/notebooks/tensorflow_version.ipynb\" target=\"_blank\">more info</a>.</p>\n"
            ],
            "text/plain": [
              "<IPython.core.display.HTML object>"
            ]
          },
          "metadata": {
            "tags": []
          }
        }
      ]
    },
    {
      "cell_type": "code",
      "metadata": {
        "id": "x3b91LhQ1ZXB",
        "colab_type": "code",
        "colab": {}
      },
      "source": [
        "x=data.drop('is_patient',axis=1)\n",
        "y=data['is_patient']"
      ],
      "execution_count": 0,
      "outputs": []
    },
    {
      "cell_type": "code",
      "metadata": {
        "id": "5_1dVKNtb8hS",
        "colab_type": "code",
        "colab": {}
      },
      "source": [
        "xtrain,xtest,ytrain,ytest=train_test_split(x,y,test_size=0.2,stratify=y,random_state=42)"
      ],
      "execution_count": 0,
      "outputs": []
    },
    {
      "cell_type": "code",
      "metadata": {
        "id": "7YiYoS7BcB8J",
        "colab_type": "code",
        "colab": {}
      },
      "source": [
        "from sklearn.preprocessing import StandardScaler\n",
        "sc=StandardScaler()"
      ],
      "execution_count": 0,
      "outputs": []
    },
    {
      "cell_type": "code",
      "metadata": {
        "id": "1aphvJiTcItA",
        "colab_type": "code",
        "outputId": "d8fa93ba-9571-4d17-a1bf-31f395044709",
        "colab": {
          "base_uri": "https://localhost:8080/",
          "height": 34
        }
      },
      "source": [
        "sc.fit(x,y)"
      ],
      "execution_count": 0,
      "outputs": [
        {
          "output_type": "execute_result",
          "data": {
            "text/plain": [
              "StandardScaler(copy=True, with_mean=True, with_std=True)"
            ]
          },
          "metadata": {
            "tags": []
          },
          "execution_count": 15
        }
      ]
    },
    {
      "cell_type": "code",
      "metadata": {
        "id": "N1FqjpW5cPXx",
        "colab_type": "code",
        "colab": {}
      },
      "source": [
        "xtrain_std=sc.transform(xtrain)\n",
        "xtest_std=sc.transform(xtest)"
      ],
      "execution_count": 0,
      "outputs": []
    },
    {
      "cell_type": "code",
      "metadata": {
        "id": "5rydt1fKcQNO",
        "colab_type": "code",
        "outputId": "0b9be7a1-d2b1-4b8f-89d4-997d724c14e5",
        "colab": {
          "base_uri": "https://localhost:8080/",
          "height": 88
        }
      },
      "source": [
        "model=keras.models.Sequential()\n",
        "model.add(keras.layers.Dense(units=30,activation=\"tanh\",input_shape=xtrain.shape[1:]))"
      ],
      "execution_count": 0,
      "outputs": [
        {
          "output_type": "stream",
          "text": [
            "WARNING:tensorflow:From /usr/local/lib/python3.6/dist-packages/tensorflow_core/python/ops/resource_variable_ops.py:1630: calling BaseResourceVariable.__init__ (from tensorflow.python.ops.resource_variable_ops) with constraint is deprecated and will be removed in a future version.\n",
            "Instructions for updating:\n",
            "If using Keras pass *_constraint arguments to layers.\n"
          ],
          "name": "stdout"
        }
      ]
    },
    {
      "cell_type": "code",
      "metadata": {
        "id": "F3G4mmkwcUBm",
        "colab_type": "code",
        "colab": {}
      },
      "source": [
        "model.add(keras.layers.Dense(units=1,activation='sigmoid'))"
      ],
      "execution_count": 0,
      "outputs": []
    },
    {
      "cell_type": "code",
      "metadata": {
        "id": "vG1qQajLcZk-",
        "colab_type": "code",
        "outputId": "688bcd9a-896d-42dd-e4df-3ae04b93da2f",
        "colab": {
          "base_uri": "https://localhost:8080/",
          "height": 88
        }
      },
      "source": [
        "model.compile(loss='binary_crossentropy', optimizer='adam', metrics=['accuracy'])\n"
      ],
      "execution_count": 0,
      "outputs": [
        {
          "output_type": "stream",
          "text": [
            "WARNING:tensorflow:From /usr/local/lib/python3.6/dist-packages/tensorflow_core/python/ops/nn_impl.py:183: where (from tensorflow.python.ops.array_ops) is deprecated and will be removed in a future version.\n",
            "Instructions for updating:\n",
            "Use tf.where in 2.0, which has the same broadcast rule as np.where\n"
          ],
          "name": "stdout"
        }
      ]
    },
    {
      "cell_type": "code",
      "metadata": {
        "id": "C5wbTzm5cdJt",
        "colab_type": "code",
        "outputId": "ffe876bc-1592-48ad-eec3-4a0096f485a5",
        "colab": {
          "base_uri": "https://localhost:8080/",
          "height": 1000
        }
      },
      "source": [
        "model.fit(x=xtrain_std, y=ytrain, validation_split=0.1,epochs=100, batch_size=32)"
      ],
      "execution_count": 0,
      "outputs": [
        {
          "output_type": "stream",
          "text": [
            "Train on 419 samples, validate on 47 samples\n",
            "Epoch 1/100\n",
            "419/419 [==============================] - 2s 4ms/sample - loss: 0.6307 - acc: 0.3771 - val_loss: 0.6077 - val_acc: 0.3191\n",
            "Epoch 2/100\n",
            "419/419 [==============================] - 0s 116us/sample - loss: 0.5270 - acc: 0.4415 - val_loss: 0.5103 - val_acc: 0.4681\n",
            "Epoch 3/100\n",
            "419/419 [==============================] - 0s 116us/sample - loss: 0.4327 - acc: 0.4869 - val_loss: 0.4261 - val_acc: 0.5532\n",
            "Epoch 4/100\n",
            "419/419 [==============================] - 0s 107us/sample - loss: 0.3466 - acc: 0.5084 - val_loss: 0.3447 - val_acc: 0.5745\n",
            "Epoch 5/100\n",
            "419/419 [==============================] - 0s 109us/sample - loss: 0.2633 - acc: 0.5298 - val_loss: 0.2653 - val_acc: 0.5532\n",
            "Epoch 6/100\n",
            "419/419 [==============================] - 0s 115us/sample - loss: 0.1815 - acc: 0.5346 - val_loss: 0.1890 - val_acc: 0.5745\n",
            "Epoch 7/100\n",
            "419/419 [==============================] - 0s 117us/sample - loss: 0.1001 - acc: 0.5322 - val_loss: 0.1159 - val_acc: 0.5532\n",
            "Epoch 8/100\n",
            "419/419 [==============================] - 0s 114us/sample - loss: 0.0154 - acc: 0.5346 - val_loss: 0.0311 - val_acc: 0.5957\n",
            "Epoch 9/100\n",
            "419/419 [==============================] - 0s 114us/sample - loss: -0.0664 - acc: 0.5465 - val_loss: -0.0480 - val_acc: 0.5957\n",
            "Epoch 10/100\n",
            "419/419 [==============================] - 0s 125us/sample - loss: -0.1491 - acc: 0.5537 - val_loss: -0.1210 - val_acc: 0.5957\n",
            "Epoch 11/100\n",
            "419/419 [==============================] - 0s 143us/sample - loss: -0.2261 - acc: 0.5537 - val_loss: -0.1928 - val_acc: 0.5957\n",
            "Epoch 12/100\n",
            "419/419 [==============================] - 0s 117us/sample - loss: -0.3057 - acc: 0.5609 - val_loss: -0.2666 - val_acc: 0.6596\n",
            "Epoch 13/100\n",
            "419/419 [==============================] - 0s 102us/sample - loss: -0.3884 - acc: 0.5704 - val_loss: -0.3413 - val_acc: 0.6596\n",
            "Epoch 14/100\n",
            "419/419 [==============================] - 0s 117us/sample - loss: -0.4727 - acc: 0.5847 - val_loss: -0.4230 - val_acc: 0.7021\n",
            "Epoch 15/100\n",
            "419/419 [==============================] - 0s 117us/sample - loss: -0.5578 - acc: 0.5919 - val_loss: -0.5004 - val_acc: 0.7021\n",
            "Epoch 16/100\n",
            "419/419 [==============================] - 0s 113us/sample - loss: -0.6428 - acc: 0.6062 - val_loss: -0.5738 - val_acc: 0.7021\n",
            "Epoch 17/100\n",
            "419/419 [==============================] - 0s 117us/sample - loss: -0.7284 - acc: 0.6134 - val_loss: -0.6481 - val_acc: 0.7021\n",
            "Epoch 18/100\n",
            "419/419 [==============================] - 0s 109us/sample - loss: -0.8170 - acc: 0.6205 - val_loss: -0.7184 - val_acc: 0.7021\n",
            "Epoch 19/100\n",
            "419/419 [==============================] - 0s 120us/sample - loss: -0.9068 - acc: 0.6229 - val_loss: -0.7909 - val_acc: 0.7021\n",
            "Epoch 20/100\n",
            "419/419 [==============================] - 0s 107us/sample - loss: -1.0005 - acc: 0.6301 - val_loss: -0.8731 - val_acc: 0.7021\n",
            "Epoch 21/100\n",
            "419/419 [==============================] - 0s 115us/sample - loss: -1.0956 - acc: 0.6348 - val_loss: -0.9548 - val_acc: 0.7021\n",
            "Epoch 22/100\n",
            "419/419 [==============================] - 0s 115us/sample - loss: -1.1984 - acc: 0.6372 - val_loss: -1.0412 - val_acc: 0.7021\n",
            "Epoch 23/100\n",
            "419/419 [==============================] - 0s 110us/sample - loss: -1.3087 - acc: 0.6348 - val_loss: -1.1385 - val_acc: 0.7021\n",
            "Epoch 24/100\n",
            "419/419 [==============================] - 0s 109us/sample - loss: -1.4183 - acc: 0.6301 - val_loss: -1.2395 - val_acc: 0.7021\n",
            "Epoch 25/100\n",
            "419/419 [==============================] - 0s 109us/sample - loss: -1.5459 - acc: 0.6325 - val_loss: -1.3290 - val_acc: 0.7021\n",
            "Epoch 26/100\n",
            "419/419 [==============================] - 0s 116us/sample - loss: -1.6624 - acc: 0.6396 - val_loss: -1.4279 - val_acc: 0.7234\n",
            "Epoch 27/100\n",
            "419/419 [==============================] - 0s 114us/sample - loss: -1.7848 - acc: 0.6420 - val_loss: -1.5370 - val_acc: 0.7234\n",
            "Epoch 28/100\n",
            "419/419 [==============================] - 0s 119us/sample - loss: -1.9179 - acc: 0.6468 - val_loss: -1.6510 - val_acc: 0.7234\n",
            "Epoch 29/100\n",
            "419/419 [==============================] - 0s 109us/sample - loss: -2.0578 - acc: 0.6468 - val_loss: -1.7598 - val_acc: 0.7234\n",
            "Epoch 30/100\n",
            "419/419 [==============================] - 0s 115us/sample - loss: -2.1883 - acc: 0.6468 - val_loss: -1.8702 - val_acc: 0.7234\n",
            "Epoch 31/100\n",
            "419/419 [==============================] - 0s 125us/sample - loss: -2.3294 - acc: 0.6492 - val_loss: -1.9850 - val_acc: 0.7234\n",
            "Epoch 32/100\n",
            "419/419 [==============================] - 0s 118us/sample - loss: -2.4694 - acc: 0.6516 - val_loss: -2.0956 - val_acc: 0.7234\n",
            "Epoch 33/100\n",
            "419/419 [==============================] - 0s 108us/sample - loss: -2.6138 - acc: 0.6563 - val_loss: -2.2302 - val_acc: 0.7234\n",
            "Epoch 34/100\n",
            "419/419 [==============================] - 0s 120us/sample - loss: -2.7813 - acc: 0.6563 - val_loss: -2.3672 - val_acc: 0.7234\n",
            "Epoch 35/100\n",
            "419/419 [==============================] - 0s 117us/sample - loss: -2.9397 - acc: 0.6563 - val_loss: -2.4951 - val_acc: 0.7234\n",
            "Epoch 36/100\n",
            "419/419 [==============================] - 0s 118us/sample - loss: -3.0960 - acc: 0.6563 - val_loss: -2.6329 - val_acc: 0.7234\n",
            "Epoch 37/100\n",
            "419/419 [==============================] - 0s 113us/sample - loss: -3.2611 - acc: 0.6563 - val_loss: -2.7557 - val_acc: 0.7234\n",
            "Epoch 38/100\n",
            "419/419 [==============================] - 0s 116us/sample - loss: -3.4126 - acc: 0.6611 - val_loss: -2.8869 - val_acc: 0.7234\n",
            "Epoch 39/100\n",
            "419/419 [==============================] - 0s 120us/sample - loss: -3.5723 - acc: 0.6635 - val_loss: -3.0139 - val_acc: 0.7234\n",
            "Epoch 40/100\n",
            "419/419 [==============================] - 0s 112us/sample - loss: -3.7410 - acc: 0.6659 - val_loss: -3.1635 - val_acc: 0.7234\n",
            "Epoch 41/100\n",
            "419/419 [==============================] - 0s 107us/sample - loss: -3.9115 - acc: 0.6683 - val_loss: -3.3003 - val_acc: 0.7234\n",
            "Epoch 42/100\n",
            "419/419 [==============================] - 0s 104us/sample - loss: -4.0845 - acc: 0.6683 - val_loss: -3.4446 - val_acc: 0.7234\n",
            "Epoch 43/100\n",
            "419/419 [==============================] - 0s 117us/sample - loss: -4.2613 - acc: 0.6683 - val_loss: -3.5854 - val_acc: 0.7234\n",
            "Epoch 44/100\n",
            "419/419 [==============================] - 0s 130us/sample - loss: -4.4312 - acc: 0.6683 - val_loss: -3.7246 - val_acc: 0.7234\n",
            "Epoch 45/100\n",
            "419/419 [==============================] - 0s 104us/sample - loss: -4.5972 - acc: 0.6683 - val_loss: -3.8669 - val_acc: 0.7234\n",
            "Epoch 46/100\n",
            "419/419 [==============================] - 0s 111us/sample - loss: -4.7769 - acc: 0.6683 - val_loss: -4.0127 - val_acc: 0.7234\n",
            "Epoch 47/100\n",
            "419/419 [==============================] - 0s 115us/sample - loss: -4.9523 - acc: 0.6683 - val_loss: -4.1641 - val_acc: 0.7234\n",
            "Epoch 48/100\n",
            "419/419 [==============================] - 0s 114us/sample - loss: -5.1333 - acc: 0.6730 - val_loss: -4.3043 - val_acc: 0.7234\n",
            "Epoch 49/100\n",
            "419/419 [==============================] - 0s 123us/sample - loss: -5.2994 - acc: 0.6730 - val_loss: -4.4536 - val_acc: 0.7234\n",
            "Epoch 50/100\n",
            "419/419 [==============================] - 0s 126us/sample - loss: -5.4894 - acc: 0.6730 - val_loss: -4.6105 - val_acc: 0.7234\n",
            "Epoch 51/100\n",
            "419/419 [==============================] - 0s 115us/sample - loss: -5.6762 - acc: 0.6730 - val_loss: -4.7640 - val_acc: 0.7447\n",
            "Epoch 52/100\n",
            "419/419 [==============================] - 0s 125us/sample - loss: -5.8566 - acc: 0.6730 - val_loss: -4.9200 - val_acc: 0.7447\n",
            "Epoch 53/100\n",
            "419/419 [==============================] - 0s 117us/sample - loss: -6.0414 - acc: 0.6730 - val_loss: -5.0713 - val_acc: 0.7447\n",
            "Epoch 54/100\n",
            "419/419 [==============================] - 0s 116us/sample - loss: -6.2202 - acc: 0.6754 - val_loss: -5.2144 - val_acc: 0.7447\n",
            "Epoch 55/100\n",
            "419/419 [==============================] - 0s 109us/sample - loss: -6.3929 - acc: 0.6730 - val_loss: -5.3562 - val_acc: 0.7447\n",
            "Epoch 56/100\n",
            "419/419 [==============================] - 0s 105us/sample - loss: -6.5570 - acc: 0.6730 - val_loss: -5.5024 - val_acc: 0.7447\n",
            "Epoch 57/100\n",
            "419/419 [==============================] - 0s 112us/sample - loss: -6.7356 - acc: 0.6754 - val_loss: -5.6521 - val_acc: 0.7447\n",
            "Epoch 58/100\n",
            "419/419 [==============================] - 0s 110us/sample - loss: -6.9218 - acc: 0.6778 - val_loss: -5.8013 - val_acc: 0.7447\n",
            "Epoch 59/100\n",
            "419/419 [==============================] - 0s 116us/sample - loss: -7.1085 - acc: 0.6897 - val_loss: -5.9429 - val_acc: 0.7447\n",
            "Epoch 60/100\n",
            "419/419 [==============================] - 0s 107us/sample - loss: -7.2755 - acc: 0.6921 - val_loss: -6.0897 - val_acc: 0.7447\n",
            "Epoch 61/100\n",
            "419/419 [==============================] - 0s 110us/sample - loss: -7.4480 - acc: 0.6897 - val_loss: -6.2338 - val_acc: 0.7447\n",
            "Epoch 62/100\n",
            "419/419 [==============================] - 0s 116us/sample - loss: -7.6260 - acc: 0.6850 - val_loss: -6.3810 - val_acc: 0.7447\n",
            "Epoch 63/100\n",
            "419/419 [==============================] - 0s 121us/sample - loss: -7.7971 - acc: 0.6897 - val_loss: -6.5243 - val_acc: 0.7447\n",
            "Epoch 64/100\n",
            "419/419 [==============================] - 0s 141us/sample - loss: -7.9765 - acc: 0.6897 - val_loss: -6.6847 - val_acc: 0.7447\n",
            "Epoch 65/100\n",
            "419/419 [==============================] - 0s 109us/sample - loss: -8.1625 - acc: 0.6921 - val_loss: -6.8313 - val_acc: 0.7447\n",
            "Epoch 66/100\n",
            "419/419 [==============================] - 0s 113us/sample - loss: -8.3368 - acc: 0.6921 - val_loss: -6.9862 - val_acc: 0.7447\n",
            "Epoch 67/100\n",
            "419/419 [==============================] - 0s 103us/sample - loss: -8.5218 - acc: 0.6897 - val_loss: -7.1449 - val_acc: 0.7447\n",
            "Epoch 68/100\n",
            "419/419 [==============================] - 0s 125us/sample - loss: -8.6945 - acc: 0.6897 - val_loss: -7.2886 - val_acc: 0.7447\n",
            "Epoch 69/100\n",
            "419/419 [==============================] - 0s 133us/sample - loss: -8.8666 - acc: 0.6897 - val_loss: -7.4209 - val_acc: 0.7447\n",
            "Epoch 70/100\n",
            "419/419 [==============================] - 0s 121us/sample - loss: -9.0287 - acc: 0.6921 - val_loss: -7.5614 - val_acc: 0.7447\n",
            "Epoch 71/100\n",
            "419/419 [==============================] - 0s 113us/sample - loss: -9.1888 - acc: 0.6945 - val_loss: -7.7008 - val_acc: 0.7447\n",
            "Epoch 72/100\n",
            "419/419 [==============================] - 0s 113us/sample - loss: -9.3599 - acc: 0.6921 - val_loss: -7.8607 - val_acc: 0.7447\n",
            "Epoch 73/100\n",
            "419/419 [==============================] - 0s 125us/sample - loss: -9.5328 - acc: 0.6921 - val_loss: -8.0144 - val_acc: 0.7447\n",
            "Epoch 74/100\n",
            "419/419 [==============================] - 0s 122us/sample - loss: -9.7132 - acc: 0.6921 - val_loss: -8.1646 - val_acc: 0.7447\n",
            "Epoch 75/100\n",
            "419/419 [==============================] - 0s 113us/sample - loss: -9.8914 - acc: 0.6921 - val_loss: -8.3059 - val_acc: 0.7447\n",
            "Epoch 76/100\n",
            "419/419 [==============================] - 0s 111us/sample - loss: -10.0628 - acc: 0.6921 - val_loss: -8.4477 - val_acc: 0.7447\n",
            "Epoch 77/100\n",
            "419/419 [==============================] - 0s 104us/sample - loss: -10.2202 - acc: 0.6921 - val_loss: -8.5831 - val_acc: 0.7447\n",
            "Epoch 78/100\n",
            "419/419 [==============================] - 0s 117us/sample - loss: -10.3803 - acc: 0.6921 - val_loss: -8.7177 - val_acc: 0.7447\n",
            "Epoch 79/100\n",
            "419/419 [==============================] - 0s 115us/sample - loss: -10.5451 - acc: 0.6921 - val_loss: -8.8541 - val_acc: 0.7447\n",
            "Epoch 80/100\n",
            "419/419 [==============================] - 0s 118us/sample - loss: -10.7001 - acc: 0.6945 - val_loss: -8.9897 - val_acc: 0.7447\n",
            "Epoch 81/100\n",
            "419/419 [==============================] - 0s 110us/sample - loss: -10.8595 - acc: 0.6969 - val_loss: -9.1206 - val_acc: 0.7447\n",
            "Epoch 82/100\n",
            "419/419 [==============================] - 0s 107us/sample - loss: -11.0241 - acc: 0.6945 - val_loss: -9.2706 - val_acc: 0.7447\n",
            "Epoch 83/100\n",
            "419/419 [==============================] - 0s 110us/sample - loss: -11.1969 - acc: 0.6945 - val_loss: -9.4195 - val_acc: 0.7447\n",
            "Epoch 84/100\n",
            "419/419 [==============================] - 0s 116us/sample - loss: -11.3611 - acc: 0.6945 - val_loss: -9.5662 - val_acc: 0.7447\n",
            "Epoch 85/100\n",
            "419/419 [==============================] - 0s 119us/sample - loss: -11.5370 - acc: 0.6945 - val_loss: -9.7150 - val_acc: 0.7447\n",
            "Epoch 86/100\n",
            "419/419 [==============================] - 0s 112us/sample - loss: -11.7074 - acc: 0.6945 - val_loss: -9.8610 - val_acc: 0.7447\n",
            "Epoch 87/100\n",
            "419/419 [==============================] - 0s 109us/sample - loss: -11.8751 - acc: 0.7017 - val_loss: -9.9854 - val_acc: 0.7447\n",
            "Epoch 88/100\n",
            "419/419 [==============================] - 0s 133us/sample - loss: -12.0369 - acc: 0.7017 - val_loss: -10.1378 - val_acc: 0.7447\n",
            "Epoch 89/100\n",
            "419/419 [==============================] - 0s 119us/sample - loss: -12.2094 - acc: 0.7017 - val_loss: -10.2739 - val_acc: 0.7447\n",
            "Epoch 90/100\n",
            "419/419 [==============================] - 0s 109us/sample - loss: -12.3609 - acc: 0.7017 - val_loss: -10.4057 - val_acc: 0.7447\n",
            "Epoch 91/100\n",
            "419/419 [==============================] - 0s 106us/sample - loss: -12.5156 - acc: 0.7017 - val_loss: -10.5406 - val_acc: 0.7447\n",
            "Epoch 92/100\n",
            "419/419 [==============================] - 0s 112us/sample - loss: -12.6759 - acc: 0.7017 - val_loss: -10.6868 - val_acc: 0.7447\n",
            "Epoch 93/100\n",
            "419/419 [==============================] - 0s 126us/sample - loss: -12.8457 - acc: 0.7017 - val_loss: -10.8262 - val_acc: 0.7447\n",
            "Epoch 94/100\n",
            "419/419 [==============================] - 0s 109us/sample - loss: -12.9990 - acc: 0.7017 - val_loss: -10.9570 - val_acc: 0.7447\n",
            "Epoch 95/100\n",
            "419/419 [==============================] - 0s 115us/sample - loss: -13.1579 - acc: 0.7017 - val_loss: -11.1061 - val_acc: 0.7447\n",
            "Epoch 96/100\n",
            "419/419 [==============================] - 0s 127us/sample - loss: -13.3157 - acc: 0.7017 - val_loss: -11.2351 - val_acc: 0.7447\n",
            "Epoch 97/100\n",
            "419/419 [==============================] - 0s 110us/sample - loss: -13.4625 - acc: 0.7017 - val_loss: -11.3589 - val_acc: 0.7447\n",
            "Epoch 98/100\n",
            "419/419 [==============================] - 0s 114us/sample - loss: -13.6088 - acc: 0.7017 - val_loss: -11.4877 - val_acc: 0.7447\n",
            "Epoch 99/100\n",
            "419/419 [==============================] - 0s 112us/sample - loss: -13.7572 - acc: 0.7041 - val_loss: -11.6043 - val_acc: 0.7447\n",
            "Epoch 100/100\n",
            "419/419 [==============================] - 0s 115us/sample - loss: -13.9024 - acc: 0.7041 - val_loss: -11.7292 - val_acc: 0.7447\n"
          ],
          "name": "stdout"
        },
        {
          "output_type": "execute_result",
          "data": {
            "text/plain": [
              "<tensorflow.python.keras.callbacks.History at 0x7f8b58f2bcf8>"
            ]
          },
          "metadata": {
            "tags": []
          },
          "execution_count": 20
        }
      ]
    },
    {
      "cell_type": "code",
      "metadata": {
        "id": "TNHH8z89cfKn",
        "colab_type": "code",
        "outputId": "b3158e7c-7f34-4f04-cfa9-4b8c4ff47933",
        "colab": {
          "base_uri": "https://localhost:8080/",
          "height": 34
        }
      },
      "source": [
        "test_loss, test_accuracy = model.evaluate(x=xtest_std, y=ytest)"
      ],
      "execution_count": 0,
      "outputs": [
        {
          "output_type": "stream",
          "text": [
            "117/117 [==============================] - 0s 139us/sample - loss: -13.7560 - acc: 0.7009\n"
          ],
          "name": "stdout"
        }
      ]
    },
    {
      "cell_type": "code",
      "metadata": {
        "id": "ChAxPumacjfN",
        "colab_type": "code",
        "outputId": "db54105d-84cb-48c9-91e4-b64996ffd092",
        "colab": {
          "base_uri": "https://localhost:8080/",
          "height": 34
        }
      },
      "source": [
        "\n",
        "print('test accuracy=',test_accuracy,'test loss=',test_loss)"
      ],
      "execution_count": 0,
      "outputs": [
        {
          "output_type": "stream",
          "text": [
            "test accuracy= 0.7008547 test loss= -13.75602381453555\n"
          ],
          "name": "stdout"
        }
      ]
    }
  ]
}