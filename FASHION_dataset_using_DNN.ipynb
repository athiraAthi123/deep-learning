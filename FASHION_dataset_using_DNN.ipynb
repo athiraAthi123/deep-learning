{
  "nbformat": 4,
  "nbformat_minor": 0,
  "metadata": {
    "colab": {
      "name": "FASHION dataset using DNN.ipynb",
      "provenance": []
    },
    "kernelspec": {
      "name": "python3",
      "display_name": "Python 3"
    }
  },
  "cells": [
    {
      "cell_type": "markdown",
      "metadata": {
        "id": "1xcoOlUS2pFK",
        "colab_type": "text"
      },
      "source": [
        "DNN without optimization"
      ]
    },
    {
      "cell_type": "code",
      "metadata": {
        "id": "XbXkN2Dtzf8z",
        "colab_type": "code",
        "colab": {}
      },
      "source": [
        "import pandas as pd"
      ],
      "execution_count": 0,
      "outputs": []
    },
    {
      "cell_type": "code",
      "metadata": {
        "id": "v9iJYvN3zvVr",
        "colab_type": "code",
        "colab": {}
      },
      "source": [
        "import numpy as np"
      ],
      "execution_count": 0,
      "outputs": []
    },
    {
      "cell_type": "code",
      "metadata": {
        "id": "-KIJgD6lzwms",
        "colab_type": "code",
        "outputId": "27e6f0bc-53ef-4809-8922-47683d1614de",
        "colab": {
          "base_uri": "https://localhost:8080/",
          "height": 63
        }
      },
      "source": [
        "import tensorflow as tf"
      ],
      "execution_count": 0,
      "outputs": [
        {
          "output_type": "display_data",
          "data": {
            "text/html": [
              "<p style=\"color: red;\">\n",
              "The default version of TensorFlow in Colab will soon switch to TensorFlow 2.x.<br>\n",
              "We recommend you <a href=\"https://www.tensorflow.org/guide/migrate\" target=\"_blank\">upgrade</a> now \n",
              "or ensure your notebook will continue to use TensorFlow 1.x via the <code>%tensorflow_version 1.x</code> magic:\n",
              "<a href=\"https://colab.research.google.com/notebooks/tensorflow_version.ipynb\" target=\"_blank\">more info</a>.</p>\n"
            ],
            "text/plain": [
              "<IPython.core.display.HTML object>"
            ]
          },
          "metadata": {
            "tags": []
          }
        }
      ]
    },
    {
      "cell_type": "code",
      "metadata": {
        "id": "VN0ho5IEzygL",
        "colab_type": "code",
        "colab": {}
      },
      "source": [
        "from tensorflow import keras"
      ],
      "execution_count": 0,
      "outputs": []
    },
    {
      "cell_type": "code",
      "metadata": {
        "id": "Mg--s5Ifz0cs",
        "colab_type": "code",
        "colab": {}
      },
      "source": [
        "tf.random.set_random_seed(42)\n",
        "np.random.seed(42)"
      ],
      "execution_count": 0,
      "outputs": []
    },
    {
      "cell_type": "code",
      "metadata": {
        "id": "VVJWrvpxz4nh",
        "colab_type": "code",
        "outputId": "d13293e3-3e1c-4166-a050-9b27f5a2c452",
        "colab": {
          "base_uri": "https://localhost:8080/",
          "height": 153
        }
      },
      "source": [
        "fashionDB = keras.datasets.fashion_mnist\n",
        "(X_train, y_train),(X_test, y_test) = fashionDB.load_data()"
      ],
      "execution_count": 0,
      "outputs": [
        {
          "output_type": "stream",
          "text": [
            "Downloading data from https://storage.googleapis.com/tensorflow/tf-keras-datasets/train-labels-idx1-ubyte.gz\n",
            "32768/29515 [=================================] - 0s 0us/step\n",
            "Downloading data from https://storage.googleapis.com/tensorflow/tf-keras-datasets/train-images-idx3-ubyte.gz\n",
            "26427392/26421880 [==============================] - 0s 0us/step\n",
            "Downloading data from https://storage.googleapis.com/tensorflow/tf-keras-datasets/t10k-labels-idx1-ubyte.gz\n",
            "8192/5148 [===============================================] - 0s 0us/step\n",
            "Downloading data from https://storage.googleapis.com/tensorflow/tf-keras-datasets/t10k-images-idx3-ubyte.gz\n",
            "4423680/4422102 [==============================] - 0s 0us/step\n"
          ],
          "name": "stdout"
        }
      ]
    },
    {
      "cell_type": "code",
      "metadata": {
        "id": "0GVyDAaPz9UF",
        "colab_type": "code",
        "colab": {}
      },
      "source": [
        "X_train = X_train.reshape((60000, 28*28))"
      ],
      "execution_count": 0,
      "outputs": []
    },
    {
      "cell_type": "code",
      "metadata": {
        "id": "D61442is0Anp",
        "colab_type": "code",
        "colab": {}
      },
      "source": [
        "X_train = X_train.astype('float32')/255\n",
        "X_test = X_test.reshape((10000, 28*28))\n",
        "X_test = X_test.astype('float32')/255"
      ],
      "execution_count": 0,
      "outputs": []
    },
    {
      "cell_type": "code",
      "metadata": {
        "id": "YHxnbYVF0Gb8",
        "colab_type": "code",
        "colab": {}
      },
      "source": [
        "dnnModel_FASHION = keras.models.Sequential()"
      ],
      "execution_count": 0,
      "outputs": []
    },
    {
      "cell_type": "code",
      "metadata": {
        "id": "RfgR-ybI0Ic_",
        "colab_type": "code",
        "outputId": "53af922c-e1fb-4aa4-cc01-4e6a1585bf11",
        "colab": {
          "base_uri": "https://localhost:8080/",
          "height": 88
        }
      },
      "source": [
        "dnnModel_FASHION.add(keras.layers.Dense(50, activation=\"relu\",input_shape=X_train.shape[1:]))"
      ],
      "execution_count": 0,
      "outputs": [
        {
          "output_type": "stream",
          "text": [
            "WARNING:tensorflow:From /tensorflow-1.15.0/python3.6/tensorflow_core/python/ops/resource_variable_ops.py:1630: calling BaseResourceVariable.__init__ (from tensorflow.python.ops.resource_variable_ops) with constraint is deprecated and will be removed in a future version.\n",
            "Instructions for updating:\n",
            "If using Keras pass *_constraint arguments to layers.\n"
          ],
          "name": "stdout"
        }
      ]
    },
    {
      "cell_type": "code",
      "metadata": {
        "id": "lNSBnT4H0M41",
        "colab_type": "code",
        "colab": {}
      },
      "source": [
        "dnnModel_FASHION.add(keras.layers.Dense(30, activation=\"relu\"))\n",
        "dnnModel_FASHION.add(keras.layers.Dense(10, activation=\"softmax\"))"
      ],
      "execution_count": 0,
      "outputs": []
    },
    {
      "cell_type": "code",
      "metadata": {
        "id": "hpTK6AEk0Qoo",
        "colab_type": "code",
        "colab": {}
      },
      "source": [
        "dnnModel_FASHION.compile(loss='sparse_categorical_crossentropy',optimizer='adam', metrics=['accuracy'])"
      ],
      "execution_count": 0,
      "outputs": []
    },
    {
      "cell_type": "code",
      "metadata": {
        "id": "kTArAKj60VOz",
        "colab_type": "code",
        "outputId": "0e73d173-d0f8-4bf4-f0b3-256dbacfdd03",
        "colab": {
          "base_uri": "https://localhost:8080/",
          "height": 391
        }
      },
      "source": [
        "dnnModel_FASHION.fit(x=X_train, y=y_train, validation_split=0.1, epochs=10,batch_size=16)"
      ],
      "execution_count": 0,
      "outputs": [
        {
          "output_type": "stream",
          "text": [
            "Train on 54000 samples, validate on 6000 samples\n",
            "Epoch 1/10\n",
            "54000/54000 [==============================] - 7s 122us/sample - loss: 0.5149 - acc: 0.8181 - val_loss: 0.4185 - val_acc: 0.8560\n",
            "Epoch 2/10\n",
            "54000/54000 [==============================] - 6s 116us/sample - loss: 0.3878 - acc: 0.8599 - val_loss: 0.3612 - val_acc: 0.8713\n",
            "Epoch 3/10\n",
            "54000/54000 [==============================] - 6s 115us/sample - loss: 0.3541 - acc: 0.8704 - val_loss: 0.3791 - val_acc: 0.8667\n",
            "Epoch 4/10\n",
            "54000/54000 [==============================] - 6s 116us/sample - loss: 0.3333 - acc: 0.8793 - val_loss: 0.3858 - val_acc: 0.8643\n",
            "Epoch 5/10\n",
            "54000/54000 [==============================] - 6s 114us/sample - loss: 0.3162 - acc: 0.8833 - val_loss: 0.3370 - val_acc: 0.8783\n",
            "Epoch 6/10\n",
            "54000/54000 [==============================] - 6s 113us/sample - loss: 0.3033 - acc: 0.8876 - val_loss: 0.3540 - val_acc: 0.8757\n",
            "Epoch 7/10\n",
            "54000/54000 [==============================] - 6s 115us/sample - loss: 0.2901 - acc: 0.8928 - val_loss: 0.3498 - val_acc: 0.8727\n",
            "Epoch 8/10\n",
            "54000/54000 [==============================] - 6s 114us/sample - loss: 0.2813 - acc: 0.8949 - val_loss: 0.3936 - val_acc: 0.8608\n",
            "Epoch 9/10\n",
            "54000/54000 [==============================] - 6s 112us/sample - loss: 0.2764 - acc: 0.8972 - val_loss: 0.3339 - val_acc: 0.8795\n",
            "Epoch 10/10\n",
            "54000/54000 [==============================] - 6s 115us/sample - loss: 0.2681 - acc: 0.8994 - val_loss: 0.3734 - val_acc: 0.8712\n"
          ],
          "name": "stdout"
        },
        {
          "output_type": "execute_result",
          "data": {
            "text/plain": [
              "<tensorflow.python.keras.callbacks.History at 0x7fee986c9f60>"
            ]
          },
          "metadata": {
            "tags": []
          },
          "execution_count": 13
        }
      ]
    },
    {
      "cell_type": "code",
      "metadata": {
        "id": "ACMnZtpF0YcM",
        "colab_type": "code",
        "outputId": "5700c074-6f19-4964-e735-87279faef19c",
        "colab": {
          "base_uri": "https://localhost:8080/",
          "height": 51
        }
      },
      "source": [
        "test_loss, test_accuracy = dnnModel_FASHION.evaluate(x=X_test, y=y_test)\n",
        "print(test_loss, test_accuracy)"
      ],
      "execution_count": 0,
      "outputs": [
        {
          "output_type": "stream",
          "text": [
            "10000/10000 [==============================] - 0s 27us/sample - loss: 0.3914 - acc: 0.8632\n",
            "0.3914073733925819 0.8632\n"
          ],
          "name": "stdout"
        }
      ]
    },
    {
      "cell_type": "markdown",
      "metadata": {
        "id": "QwvrMMMZ1TPa",
        "colab_type": "text"
      },
      "source": [
        "DNN with optimization"
      ]
    },
    {
      "cell_type": "code",
      "metadata": {
        "id": "ht76g7lQ2Bza",
        "colab_type": "code",
        "outputId": "6c4041ad-9580-4269-d425-11de2cee7736",
        "colab": {
          "base_uri": "https://localhost:8080/",
          "height": 34
        }
      },
      "source": [
        "mu = X_train.mean()\n",
        "std = X_train.std()\n",
        "print(mu, std)\n"
      ],
      "execution_count": 0,
      "outputs": [
        {
          "output_type": "stream",
          "text": [
            "0.2860402 0.3530239\n"
          ],
          "name": "stdout"
        }
      ]
    },
    {
      "cell_type": "code",
      "metadata": {
        "id": "e7WpVMfb2Blz",
        "colab_type": "code",
        "colab": {}
      },
      "source": [
        "X_train_std = (X_train - mu)/std\n",
        "X_test_std = (X_test - mu)/std"
      ],
      "execution_count": 0,
      "outputs": []
    },
    {
      "cell_type": "code",
      "metadata": {
        "id": "QmuMY5XE0eBB",
        "colab_type": "code",
        "colab": {}
      },
      "source": [
        "dnnModel_FASHION = keras.models.Sequential()\n",
        "dnnModel_FASHION.add(keras.layers.Dense(50, activation=\"relu\",input_shape=X_train.shape[1:]))\n",
        "dnnModel_FASHION.add(keras.layers.BatchNormalization())\n",
        "dnnModel_FASHION.add(keras.layers.Dropout(0.1))\n",
        "dnnModel_FASHION.add(keras.layers.Dense(30, activation=\"relu\"))\n",
        "dnnModel_FASHION.add(keras.layers.Dense(10, activation=\"softmax\"))"
      ],
      "execution_count": 0,
      "outputs": []
    },
    {
      "cell_type": "code",
      "metadata": {
        "id": "c7qgrI-S1nTo",
        "colab_type": "code",
        "colab": {}
      },
      "source": [
        "dnnModel_FASHION.compile(loss='sparse_categorical_crossentropy',optimizer='adam', metrics=['accuracy'])\n"
      ],
      "execution_count": 0,
      "outputs": []
    },
    {
      "cell_type": "code",
      "metadata": {
        "id": "D5CQtZXW1nLv",
        "colab_type": "code",
        "outputId": "192833fc-ebd4-457a-d118-77a29b462206",
        "colab": {
          "base_uri": "https://localhost:8080/",
          "height": 901
        }
      },
      "source": [
        "dnnModel_FASHION.fit(x=X_train_std, y=y_train, validation_split=0.1, epochs=25,batch_size=16)"
      ],
      "execution_count": 0,
      "outputs": [
        {
          "output_type": "stream",
          "text": [
            "Train on 54000 samples, validate on 6000 samples\n",
            "Epoch 1/25\n",
            "54000/54000 [==============================] - 8s 144us/sample - loss: 0.5613 - acc: 0.8014 - val_loss: 0.4187 - val_acc: 0.8458\n",
            "Epoch 2/25\n",
            "54000/54000 [==============================] - 8s 152us/sample - loss: 0.4435 - acc: 0.8410 - val_loss: 0.3978 - val_acc: 0.8532\n",
            "Epoch 3/25\n",
            "54000/54000 [==============================] - 8s 144us/sample - loss: 0.4129 - acc: 0.8508 - val_loss: 0.3672 - val_acc: 0.8675\n",
            "Epoch 4/25\n",
            "54000/54000 [==============================] - 7s 138us/sample - loss: 0.3921 - acc: 0.8582 - val_loss: 0.3669 - val_acc: 0.8662\n",
            "Epoch 5/25\n",
            "54000/54000 [==============================] - 7s 138us/sample - loss: 0.3763 - acc: 0.8633 - val_loss: 0.3507 - val_acc: 0.8685\n",
            "Epoch 6/25\n",
            "54000/54000 [==============================] - 7s 136us/sample - loss: 0.3677 - acc: 0.8653 - val_loss: 0.3517 - val_acc: 0.8727\n",
            "Epoch 7/25\n",
            "54000/54000 [==============================] - 7s 135us/sample - loss: 0.3555 - acc: 0.8698 - val_loss: 0.3592 - val_acc: 0.8752\n",
            "Epoch 8/25\n",
            "54000/54000 [==============================] - 7s 133us/sample - loss: 0.3500 - acc: 0.8704 - val_loss: 0.3444 - val_acc: 0.8763\n",
            "Epoch 9/25\n",
            "54000/54000 [==============================] - 7s 130us/sample - loss: 0.3466 - acc: 0.8724 - val_loss: 0.3419 - val_acc: 0.8728\n",
            "Epoch 10/25\n",
            "54000/54000 [==============================] - 7s 131us/sample - loss: 0.3424 - acc: 0.8746 - val_loss: 0.3442 - val_acc: 0.8743\n",
            "Epoch 11/25\n",
            "54000/54000 [==============================] - 7s 131us/sample - loss: 0.3363 - acc: 0.8750 - val_loss: 0.3381 - val_acc: 0.8767\n",
            "Epoch 12/25\n",
            "54000/54000 [==============================] - 7s 131us/sample - loss: 0.3330 - acc: 0.8791 - val_loss: 0.3382 - val_acc: 0.8788\n",
            "Epoch 13/25\n",
            "54000/54000 [==============================] - 7s 132us/sample - loss: 0.3324 - acc: 0.8778 - val_loss: 0.3874 - val_acc: 0.8787\n",
            "Epoch 14/25\n",
            "54000/54000 [==============================] - 7s 132us/sample - loss: 0.3274 - acc: 0.8799 - val_loss: 0.3386 - val_acc: 0.8793\n",
            "Epoch 15/25\n",
            "54000/54000 [==============================] - 7s 135us/sample - loss: 0.3244 - acc: 0.8806 - val_loss: 0.3386 - val_acc: 0.8753\n",
            "Epoch 16/25\n",
            "54000/54000 [==============================] - 7s 132us/sample - loss: 0.3165 - acc: 0.8828 - val_loss: 0.3326 - val_acc: 0.8800\n",
            "Epoch 17/25\n",
            "54000/54000 [==============================] - 7s 132us/sample - loss: 0.3136 - acc: 0.8843 - val_loss: 0.3259 - val_acc: 0.8788\n",
            "Epoch 18/25\n",
            "54000/54000 [==============================] - 7s 132us/sample - loss: 0.3113 - acc: 0.8848 - val_loss: 0.3243 - val_acc: 0.8822\n",
            "Epoch 19/25\n",
            "54000/54000 [==============================] - 7s 131us/sample - loss: 0.3092 - acc: 0.8865 - val_loss: 0.3339 - val_acc: 0.8803\n",
            "Epoch 20/25\n",
            "54000/54000 [==============================] - 7s 131us/sample - loss: 0.3044 - acc: 0.8872 - val_loss: 0.3258 - val_acc: 0.8820\n",
            "Epoch 21/25\n",
            "54000/54000 [==============================] - 7s 132us/sample - loss: 0.3043 - acc: 0.8879 - val_loss: 0.3397 - val_acc: 0.8762\n",
            "Epoch 22/25\n",
            "54000/54000 [==============================] - 7s 131us/sample - loss: 0.3047 - acc: 0.8869 - val_loss: 0.3304 - val_acc: 0.8790\n",
            "Epoch 23/25\n",
            "54000/54000 [==============================] - 7s 133us/sample - loss: 0.2999 - acc: 0.8893 - val_loss: 0.3273 - val_acc: 0.8833\n",
            "Epoch 24/25\n",
            "54000/54000 [==============================] - 7s 132us/sample - loss: 0.2988 - acc: 0.8898 - val_loss: 0.3252 - val_acc: 0.8842\n",
            "Epoch 25/25\n",
            "54000/54000 [==============================] - 7s 131us/sample - loss: 0.2930 - acc: 0.8925 - val_loss: 0.3261 - val_acc: 0.8842\n"
          ],
          "name": "stdout"
        },
        {
          "output_type": "execute_result",
          "data": {
            "text/plain": [
              "<tensorflow.python.keras.callbacks.History at 0x7fee923b30b8>"
            ]
          },
          "metadata": {
            "tags": []
          },
          "execution_count": 23
        }
      ]
    },
    {
      "cell_type": "code",
      "metadata": {
        "id": "C9slE40H1nEm",
        "colab_type": "code",
        "outputId": "340faad8-18f4-45e4-a8d6-7d5a53c177e8",
        "colab": {
          "base_uri": "https://localhost:8080/",
          "height": 34
        }
      },
      "source": [
        "test_loss, test_accuracy = dnnModel_FASHION.evaluate(x=X_test_std, y=y_test)"
      ],
      "execution_count": 0,
      "outputs": [
        {
          "output_type": "stream",
          "text": [
            "10000/10000 [==============================] - 0s 31us/sample - loss: 0.3479 - acc: 0.8780\n"
          ],
          "name": "stdout"
        }
      ]
    },
    {
      "cell_type": "code",
      "metadata": {
        "id": "-YL-yMeV1zQb",
        "colab_type": "code",
        "outputId": "79680749-d8cb-49d5-859f-a9b60875dbfe",
        "colab": {
          "base_uri": "https://localhost:8080/",
          "height": 34
        }
      },
      "source": [
        "print(test_loss, test_accuracy)"
      ],
      "execution_count": 0,
      "outputs": [
        {
          "output_type": "stream",
          "text": [
            "0.3478540944814682 0.878\n"
          ],
          "name": "stdout"
        }
      ]
    },
    {
      "cell_type": "code",
      "metadata": {
        "id": "G4qyCakZ3eaG",
        "colab_type": "code",
        "colab": {}
      },
      "source": [
        ""
      ],
      "execution_count": 0,
      "outputs": []
    }
  ]
}