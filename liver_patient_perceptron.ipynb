{
  "nbformat": 4,
  "nbformat_minor": 0,
  "metadata": {
    "colab": {
      "name": "liver patient perceptron.ipynb",
      "provenance": []
    },
    "kernelspec": {
      "name": "python3",
      "display_name": "Python 3"
    }
  },
  "cells": [
    {
      "cell_type": "markdown",
      "metadata": {
        "id": "acr4CV4AQ5_a",
        "colab_type": "text"
      },
      "source": [
        "**PERCEPTRON NETWORK**"
      ]
    },
    {
      "cell_type": "code",
      "metadata": {
        "id": "92pE88_Nl5vV",
        "colab_type": "code",
        "colab": {}
      },
      "source": [
        "import pandas as pd\n",
        "import numpy as np"
      ],
      "execution_count": 0,
      "outputs": []
    },
    {
      "cell_type": "code",
      "metadata": {
        "id": "FUCaDQ79mkjO",
        "colab_type": "code",
        "colab": {}
      },
      "source": [
        "data=pd.read_csv(\"indian-liver-patient.csv.csv\")"
      ],
      "execution_count": 0,
      "outputs": []
    },
    {
      "cell_type": "code",
      "metadata": {
        "id": "wF4_3QfYmsOh",
        "colab_type": "code",
        "outputId": "24f2f9a0-7355-4c4b-8941-9c34ef7c23b4",
        "colab": {
          "base_uri": "https://localhost:8080/",
          "height": 255
        }
      },
      "source": [
        "data.head"
      ],
      "execution_count": 0,
      "outputs": [
        {
          "output_type": "execute_result",
          "data": {
            "text/plain": [
              "<bound method NDFrame.head of      age  gender  tot_bilirubin  ...  sgot  alkphos  is_patient\n",
              "0     65  Female            0.7  ...   3.3     0.90           1\n",
              "1     62    Male           10.9  ...   3.2     0.74           1\n",
              "2     62    Male            7.3  ...   3.3     0.89           1\n",
              "3     58    Male            1.0  ...   3.4     1.00           1\n",
              "4     72    Male            3.9  ...   2.4     0.40           1\n",
              "..   ...     ...            ...  ...   ...      ...         ...\n",
              "578   60    Male            0.5  ...   1.6     0.37           2\n",
              "579   40    Male            0.6  ...   3.2     1.10           1\n",
              "580   52    Male            0.8  ...   3.2     1.00           1\n",
              "581   31    Male            1.3  ...   3.4     1.00           1\n",
              "582   38    Male            1.0  ...   4.4     1.50           2\n",
              "\n",
              "[583 rows x 11 columns]>"
            ]
          },
          "metadata": {
            "tags": []
          },
          "execution_count": 6
        }
      ]
    },
    {
      "cell_type": "code",
      "metadata": {
        "id": "t-11hFkDnMwa",
        "colab_type": "code",
        "outputId": "7813eedf-9d28-4d26-d327-7cafe5deabd4",
        "colab": {
          "base_uri": "https://localhost:8080/",
          "height": 289
        }
      },
      "source": [
        "data.info()"
      ],
      "execution_count": 0,
      "outputs": [
        {
          "output_type": "stream",
          "text": [
            "<class 'pandas.core.frame.DataFrame'>\n",
            "RangeIndex: 583 entries, 0 to 582\n",
            "Data columns (total 11 columns):\n",
            "age                 583 non-null int64\n",
            "gender              583 non-null object\n",
            "tot_bilirubin       583 non-null float64\n",
            "direct_bilirubin    583 non-null float64\n",
            "tot_proteins        583 non-null int64\n",
            "albumin             583 non-null int64\n",
            "ag_ratio            583 non-null int64\n",
            "sgpt                583 non-null float64\n",
            "sgot                583 non-null float64\n",
            "alkphos             579 non-null float64\n",
            "is_patient          583 non-null int64\n",
            "dtypes: float64(5), int64(5), object(1)\n",
            "memory usage: 50.2+ KB\n"
          ],
          "name": "stdout"
        }
      ]
    },
    {
      "cell_type": "code",
      "metadata": {
        "id": "hpG8aP7MnoOn",
        "colab_type": "code",
        "colab": {}
      },
      "source": [
        "from sklearn.preprocessing import LabelEncoder"
      ],
      "execution_count": 0,
      "outputs": []
    },
    {
      "cell_type": "code",
      "metadata": {
        "id": "oiLmgKGKp2LD",
        "colab_type": "code",
        "colab": {}
      },
      "source": [
        "\n",
        "lb=LabelEncoder()"
      ],
      "execution_count": 0,
      "outputs": []
    },
    {
      "cell_type": "code",
      "metadata": {
        "id": "gMm9Dot-qeCs",
        "colab_type": "code",
        "colab": {}
      },
      "source": [
        "data['gender']=lb.fit_transform(data['gender'])"
      ],
      "execution_count": 0,
      "outputs": []
    },
    {
      "cell_type": "code",
      "metadata": {
        "id": "H0ZnW2uerank",
        "colab_type": "code",
        "outputId": "bc947929-1385-4306-a528-3f40055c0c92",
        "colab": {
          "base_uri": "https://localhost:8080/",
          "height": 289
        }
      },
      "source": [
        "data.info()"
      ],
      "execution_count": 0,
      "outputs": [
        {
          "output_type": "stream",
          "text": [
            "<class 'pandas.core.frame.DataFrame'>\n",
            "RangeIndex: 583 entries, 0 to 582\n",
            "Data columns (total 11 columns):\n",
            "age                 583 non-null int64\n",
            "gender              583 non-null int64\n",
            "tot_bilirubin       583 non-null float64\n",
            "direct_bilirubin    583 non-null float64\n",
            "tot_proteins        583 non-null int64\n",
            "albumin             583 non-null int64\n",
            "ag_ratio            583 non-null int64\n",
            "sgpt                583 non-null float64\n",
            "sgot                583 non-null float64\n",
            "alkphos             579 non-null float64\n",
            "is_patient          583 non-null int64\n",
            "dtypes: float64(5), int64(6)\n",
            "memory usage: 50.2 KB\n"
          ],
          "name": "stdout"
        }
      ]
    },
    {
      "cell_type": "code",
      "metadata": {
        "id": "PaJgFxOJrdmn",
        "colab_type": "code",
        "outputId": "0ee99f53-bbd9-4b1d-f41e-79a7584cf836",
        "colab": {
          "base_uri": "https://localhost:8080/",
          "height": 34
        }
      },
      "source": [
        "data.shape"
      ],
      "execution_count": 0,
      "outputs": [
        {
          "output_type": "execute_result",
          "data": {
            "text/plain": [
              "(583, 11)"
            ]
          },
          "metadata": {
            "tags": []
          },
          "execution_count": 24
        }
      ]
    },
    {
      "cell_type": "code",
      "metadata": {
        "id": "5t3vUFZOzEvd",
        "colab_type": "code",
        "colab": {}
      },
      "source": [
        "#from sklearn.preprocessing import Imputer"
      ],
      "execution_count": 0,
      "outputs": []
    },
    {
      "cell_type": "code",
      "metadata": {
        "id": "vmTm6UVezmKN",
        "colab_type": "code",
        "colab": {}
      },
      "source": [
        "#values = data.values\n",
        "#imputer = Imputer(missing_values='NaN', strategy='mean')\n",
        "#transformed_values = imputer.fit_transform(values)"
      ],
      "execution_count": 0,
      "outputs": []
    },
    {
      "cell_type": "code",
      "metadata": {
        "id": "VPJygi9rrjAT",
        "colab_type": "code",
        "colab": {}
      },
      "source": [
        "\n",
        "from sklearn.model_selection import train_test_split\n",
        "from sklearn.linear_model import Perceptron"
      ],
      "execution_count": 0,
      "outputs": []
    },
    {
      "cell_type": "code",
      "metadata": {
        "id": "yI_fKUKQPJcI",
        "colab_type": "code",
        "outputId": "b4a295c8-490e-4049-bfd3-996529da555a",
        "colab": {
          "base_uri": "https://localhost:8080/",
          "height": 221
        }
      },
      "source": [
        "data.isnull().sum()"
      ],
      "execution_count": 0,
      "outputs": [
        {
          "output_type": "execute_result",
          "data": {
            "text/plain": [
              "age                 0\n",
              "gender              0\n",
              "tot_bilirubin       0\n",
              "direct_bilirubin    0\n",
              "tot_proteins        0\n",
              "albumin             0\n",
              "ag_ratio            0\n",
              "sgpt                0\n",
              "sgot                0\n",
              "alkphos             4\n",
              "is_patient          0\n",
              "dtype: int64"
            ]
          },
          "metadata": {
            "tags": []
          },
          "execution_count": 28
        }
      ]
    },
    {
      "cell_type": "code",
      "metadata": {
        "id": "MSW-HAewOwlT",
        "colab_type": "code",
        "colab": {}
      },
      "source": [
        "data['alkphos']=data['alkphos'].replace(0,np.NaN)\n",
        "data.fillna(data.mean(),inplace=True)"
      ],
      "execution_count": 0,
      "outputs": []
    },
    {
      "cell_type": "code",
      "metadata": {
        "id": "Kr4fjLykPAnW",
        "colab_type": "code",
        "outputId": "869f0780-119c-48e9-8b44-d7f709b5932a",
        "colab": {
          "base_uri": "https://localhost:8080/",
          "height": 221
        }
      },
      "source": [
        "data.isnull().sum()"
      ],
      "execution_count": 0,
      "outputs": [
        {
          "output_type": "execute_result",
          "data": {
            "text/plain": [
              "age                 0\n",
              "gender              0\n",
              "tot_bilirubin       0\n",
              "direct_bilirubin    0\n",
              "tot_proteins        0\n",
              "albumin             0\n",
              "ag_ratio            0\n",
              "sgpt                0\n",
              "sgot                0\n",
              "alkphos             0\n",
              "is_patient          0\n",
              "dtype: int64"
            ]
          },
          "metadata": {
            "tags": []
          },
          "execution_count": 30
        }
      ]
    },
    {
      "cell_type": "code",
      "metadata": {
        "id": "osgmyPgwPAQ3",
        "colab_type": "code",
        "outputId": "62241817-70b0-43ce-8165-0abe5834e2f7",
        "colab": {
          "base_uri": "https://localhost:8080/",
          "height": 34
        }
      },
      "source": [
        "data.isnull().values.any()"
      ],
      "execution_count": 0,
      "outputs": [
        {
          "output_type": "execute_result",
          "data": {
            "text/plain": [
              "False"
            ]
          },
          "metadata": {
            "tags": []
          },
          "execution_count": 31
        }
      ]
    },
    {
      "cell_type": "code",
      "metadata": {
        "id": "hVyJnLMQzNWF",
        "colab_type": "code",
        "colab": {}
      },
      "source": [
        "x=data.drop('is_patient',axis=1)\n",
        "y=data['is_patient']"
      ],
      "execution_count": 0,
      "outputs": []
    },
    {
      "cell_type": "code",
      "metadata": {
        "id": "u7B6JiuMSWVi",
        "colab_type": "code",
        "colab": {}
      },
      "source": [
        "xtrain,xtest,ytrain,ytest=train_test_split(x,y,test_size=0.2,stratify=y,random_state=42)"
      ],
      "execution_count": 0,
      "outputs": []
    },
    {
      "cell_type": "code",
      "metadata": {
        "id": "GUS2Z59iSZUE",
        "colab_type": "code",
        "colab": {}
      },
      "source": [
        "perceptron=Perceptron()"
      ],
      "execution_count": 0,
      "outputs": []
    },
    {
      "cell_type": "code",
      "metadata": {
        "id": "5u1Pi9giSg1x",
        "colab_type": "code",
        "outputId": "c75eb587-595c-496b-853e-49ca17e372b9",
        "colab": {
          "base_uri": "https://localhost:8080/",
          "height": 85
        }
      },
      "source": [
        "perceptron.fit(xtrain,ytrain)"
      ],
      "execution_count": 0,
      "outputs": [
        {
          "output_type": "execute_result",
          "data": {
            "text/plain": [
              "Perceptron(alpha=0.0001, class_weight=None, early_stopping=False, eta0=1.0,\n",
              "           fit_intercept=True, max_iter=1000, n_iter_no_change=5, n_jobs=None,\n",
              "           penalty=None, random_state=0, shuffle=True, tol=0.001,\n",
              "           validation_fraction=0.1, verbose=0, warm_start=False)"
            ]
          },
          "metadata": {
            "tags": []
          },
          "execution_count": 35
        }
      ]
    },
    {
      "cell_type": "code",
      "metadata": {
        "id": "rNb6nUfHSmxj",
        "colab_type": "code",
        "outputId": "b46d794e-085e-45b4-a3fc-1c7c134f92bb",
        "colab": {
          "base_uri": "https://localhost:8080/",
          "height": 34
        }
      },
      "source": [
        "perceptron.score(xtest,ytest)"
      ],
      "execution_count": 0,
      "outputs": [
        {
          "output_type": "execute_result",
          "data": {
            "text/plain": [
              "0.3333333333333333"
            ]
          },
          "metadata": {
            "tags": []
          },
          "execution_count": 36
        }
      ]
    },
    {
      "cell_type": "markdown",
      "metadata": {
        "id": "2l_4t1W7REqf",
        "colab_type": "text"
      },
      "source": [
        "**MLP CLASSIFIER**"
      ]
    },
    {
      "cell_type": "code",
      "metadata": {
        "id": "t12cFGQzRJO7",
        "colab_type": "code",
        "colab": {}
      },
      "source": [
        "from sklearn.neural_network import MLPClassifier"
      ],
      "execution_count": 0,
      "outputs": []
    },
    {
      "cell_type": "code",
      "metadata": {
        "id": "VLJp6hU6RTa8",
        "colab_type": "code",
        "colab": {}
      },
      "source": [
        "x=data.drop('Dataset',axis=1)\n",
        "y=data.Dataset"
      ],
      "execution_count": 0,
      "outputs": []
    },
    {
      "cell_type": "code",
      "metadata": {
        "id": "0ya_g9tLRdaE",
        "colab_type": "code",
        "colab": {}
      },
      "source": [
        "xtrain,xtest,ytrain,ytest=train_test_split(x,y,test_size=0.2,stratify=y,random_state=42)"
      ],
      "execution_count": 0,
      "outputs": []
    },
    {
      "cell_type": "code",
      "metadata": {
        "id": "fzmcC2cjRl3V",
        "colab_type": "code",
        "colab": {}
      },
      "source": [
        "mlpClassifier = MLPClassifier(solver = 'lbfgs' , alpha = 1e-5 ,hidden_layer_sizes = ( 25, 10 ), random_state = 42 ,max_iter=10)"
      ],
      "execution_count": 0,
      "outputs": []
    },
    {
      "cell_type": "code",
      "metadata": {
        "id": "MBBye3JZRnOV",
        "colab_type": "code",
        "outputId": "22e8d22c-d34d-4c3e-d98b-ac9b5eb9823d",
        "colab": {
          "base_uri": "https://localhost:8080/",
          "height": 153
        }
      },
      "source": [
        "mlpClassifier.fit(xtrain, ytrain)"
      ],
      "execution_count": 0,
      "outputs": [
        {
          "output_type": "execute_result",
          "data": {
            "text/plain": [
              "MLPClassifier(activation='relu', alpha=1e-05, batch_size='auto', beta_1=0.9,\n",
              "              beta_2=0.999, early_stopping=False, epsilon=1e-08,\n",
              "              hidden_layer_sizes=(25, 10), learning_rate='constant',\n",
              "              learning_rate_init=0.001, max_fun=15000, max_iter=10,\n",
              "              momentum=0.9, n_iter_no_change=10, nesterovs_momentum=True,\n",
              "              power_t=0.5, random_state=42, shuffle=True, solver='lbfgs',\n",
              "              tol=0.0001, validation_fraction=0.1, verbose=False,\n",
              "              warm_start=False)"
            ]
          },
          "metadata": {
            "tags": []
          },
          "execution_count": 76
        }
      ]
    },
    {
      "cell_type": "code",
      "metadata": {
        "id": "8_rtnwU0RqOH",
        "colab_type": "code",
        "outputId": "e5d9f96e-75c0-4294-feb0-7eb018e8f844",
        "colab": {
          "base_uri": "https://localhost:8080/",
          "height": 34
        }
      },
      "source": [
        "mlpClassifier.score(xtest, ytest)"
      ],
      "execution_count": 0,
      "outputs": [
        {
          "output_type": "execute_result",
          "data": {
            "text/plain": [
              "0.7094017094017094"
            ]
          },
          "metadata": {
            "tags": []
          },
          "execution_count": 77
        }
      ]
    },
    {
      "cell_type": "code",
      "metadata": {
        "id": "OAQTc07qB8uB",
        "colab_type": "code",
        "colab": {}
      },
      "source": [
        ""
      ],
      "execution_count": 0,
      "outputs": []
    }
  ]
}