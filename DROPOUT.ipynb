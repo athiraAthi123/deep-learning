{
  "nbformat": 4,
  "nbformat_minor": 0,
  "metadata": {
    "colab": {
      "name": "DROPOUT.ipynb",
      "provenance": []
    },
    "kernelspec": {
      "name": "python3",
      "display_name": "Python 3"
    }
  },
  "cells": [
    {
      "cell_type": "markdown",
      "metadata": {
        "id": "b6Q72cmEMWDk",
        "colab_type": "text"
      },
      "source": [
        "BOSTON DATASET"
      ]
    },
    {
      "cell_type": "code",
      "metadata": {
        "id": "74E6yhfVFM2R",
        "colab_type": "code",
        "colab": {}
      },
      "source": [
        "import numpy as np\n",
        "import pandas as pd"
      ],
      "execution_count": 0,
      "outputs": []
    },
    {
      "cell_type": "code",
      "metadata": {
        "id": "oBDfAU6eFUdD",
        "colab_type": "code",
        "colab": {}
      },
      "source": [
        "from sklearn.model_selection import train_test_split\n",
        "from sklearn.datasets import load_boston"
      ],
      "execution_count": 0,
      "outputs": []
    },
    {
      "cell_type": "code",
      "metadata": {
        "id": "_4dEGNWPFhO9",
        "colab_type": "code",
        "outputId": "72b0ab31-9886-4978-a75e-152911cd2168",
        "colab": {
          "base_uri": "https://localhost:8080/",
          "height": 63
        }
      },
      "source": [
        "from tensorflow import keras"
      ],
      "execution_count": 0,
      "outputs": [
        {
          "output_type": "display_data",
          "data": {
            "text/html": [
              "<p style=\"color: red;\">\n",
              "The default version of TensorFlow in Colab will soon switch to TensorFlow 2.x.<br>\n",
              "We recommend you <a href=\"https://www.tensorflow.org/guide/migrate\" target=\"_blank\">upgrade</a> now \n",
              "or ensure your notebook will continue to use TensorFlow 1.x via the <code>%tensorflow_version 1.x</code> magic:\n",
              "<a href=\"https://colab.research.google.com/notebooks/tensorflow_version.ipynb\" target=\"_blank\">more info</a>.</p>\n"
            ],
            "text/plain": [
              "<IPython.core.display.HTML object>"
            ]
          },
          "metadata": {
            "tags": []
          }
        }
      ]
    },
    {
      "cell_type": "code",
      "metadata": {
        "id": "P504wYN8FqQG",
        "colab_type": "code",
        "colab": {}
      },
      "source": [
        "import tensorflow as tf"
      ],
      "execution_count": 0,
      "outputs": []
    },
    {
      "cell_type": "code",
      "metadata": {
        "id": "epF-agJKFt0H",
        "colab_type": "code",
        "colab": {}
      },
      "source": [
        "tf.random.set_random_seed(42)"
      ],
      "execution_count": 0,
      "outputs": []
    },
    {
      "cell_type": "code",
      "metadata": {
        "id": "JHO7hp3oF3X7",
        "colab_type": "code",
        "colab": {}
      },
      "source": [
        "np.random.seed(42)"
      ],
      "execution_count": 0,
      "outputs": []
    },
    {
      "cell_type": "code",
      "metadata": {
        "id": "nHt1-NUuF5g1",
        "colab_type": "code",
        "colab": {}
      },
      "source": [
        "boston=load_boston()"
      ],
      "execution_count": 0,
      "outputs": []
    },
    {
      "cell_type": "code",
      "metadata": {
        "id": "CAR4gksoF8oF",
        "colab_type": "code",
        "colab": {}
      },
      "source": [
        "x=boston.data\n",
        "y=boston.target"
      ],
      "execution_count": 0,
      "outputs": []
    },
    {
      "cell_type": "code",
      "metadata": {
        "id": "5W3r68s8GAxg",
        "colab_type": "code",
        "colab": {}
      },
      "source": [
        "xtrain,xtest,ytarin,ytest=train_test_split(x,y,test_size=0.2,random_state=42)"
      ],
      "execution_count": 0,
      "outputs": []
    },
    {
      "cell_type": "code",
      "metadata": {
        "id": "hfIURr0vGIDQ",
        "colab_type": "code",
        "colab": {}
      },
      "source": [
        "from sklearn.preprocessing import StandardScaler"
      ],
      "execution_count": 0,
      "outputs": []
    },
    {
      "cell_type": "code",
      "metadata": {
        "id": "IKVw2QaoGV9V",
        "colab_type": "code",
        "colab": {}
      },
      "source": [
        "sc=StandardScaler()"
      ],
      "execution_count": 0,
      "outputs": []
    },
    {
      "cell_type": "code",
      "metadata": {
        "id": "_AUw3Vn-GX61",
        "colab_type": "code",
        "outputId": "c03ed820-eb3e-4b67-c298-b6daaadfc55e",
        "colab": {
          "base_uri": "https://localhost:8080/",
          "height": 33
        }
      },
      "source": [
        "sc.fit(xtrain)"
      ],
      "execution_count": 0,
      "outputs": [
        {
          "output_type": "execute_result",
          "data": {
            "text/plain": [
              "StandardScaler(copy=True, with_mean=True, with_std=True)"
            ]
          },
          "metadata": {
            "tags": []
          },
          "execution_count": 63
        }
      ]
    },
    {
      "cell_type": "code",
      "metadata": {
        "id": "4CvgLILYGZ_M",
        "colab_type": "code",
        "colab": {}
      },
      "source": [
        "xstd=sc.transform(xtrain)\n",
        "xteststd=sc.transform(xtest)"
      ],
      "execution_count": 0,
      "outputs": []
    },
    {
      "cell_type": "code",
      "metadata": {
        "id": "zefpNuZDGkAl",
        "colab_type": "code",
        "colab": {}
      },
      "source": [
        "model=keras.models.Sequential()"
      ],
      "execution_count": 0,
      "outputs": []
    },
    {
      "cell_type": "code",
      "metadata": {
        "id": "gSb_1ZWwGt4A",
        "colab_type": "code",
        "colab": {}
      },
      "source": [
        "model.add(keras.layers.Dense(units=15,activation='relu',input_shape=xtrain.shape[1:]))"
      ],
      "execution_count": 0,
      "outputs": []
    },
    {
      "cell_type": "code",
      "metadata": {
        "id": "6whGx-tpHE21",
        "colab_type": "code",
        "colab": {}
      },
      "source": [
        "model.add(keras.layers.Dropout(0.1))"
      ],
      "execution_count": 0,
      "outputs": []
    },
    {
      "cell_type": "code",
      "metadata": {
        "id": "x-Pdl7KDHLvM",
        "colab_type": "code",
        "colab": {}
      },
      "source": [
        "model.add(keras.layers.Dense(units=12,activation='relu'))"
      ],
      "execution_count": 0,
      "outputs": []
    },
    {
      "cell_type": "code",
      "metadata": {
        "id": "DOKJNdoZHVYJ",
        "colab_type": "code",
        "colab": {}
      },
      "source": [
        "model.add(keras.layers.Dropout(0.1))"
      ],
      "execution_count": 0,
      "outputs": []
    },
    {
      "cell_type": "code",
      "metadata": {
        "id": "IUk4esWRHXon",
        "colab_type": "code",
        "colab": {}
      },
      "source": [
        "model.add(keras.layers.Dense(units=8,activation='relu'))"
      ],
      "execution_count": 0,
      "outputs": []
    },
    {
      "cell_type": "code",
      "metadata": {
        "id": "aFoU6hHrHaUU",
        "colab_type": "code",
        "colab": {}
      },
      "source": [
        "model.add(keras.layers.Dense(units=4,activation='relu'))"
      ],
      "execution_count": 0,
      "outputs": []
    },
    {
      "cell_type": "code",
      "metadata": {
        "id": "84EZjOeWHbpt",
        "colab_type": "code",
        "colab": {}
      },
      "source": [
        "model.add(keras.layers.Dense(units=1,activation='linear'))"
      ],
      "execution_count": 0,
      "outputs": []
    },
    {
      "cell_type": "code",
      "metadata": {
        "id": "VgMZDvEbHd69",
        "colab_type": "code",
        "colab": {}
      },
      "source": [
        "\n",
        "model.compile(loss='mse',optimizer='adam',metrics=['mae'])"
      ],
      "execution_count": 0,
      "outputs": []
    },
    {
      "cell_type": "code",
      "metadata": {
        "id": "GxDgY7cPHvfD",
        "colab_type": "code",
        "outputId": "c2eeefa0-1306-4e03-d614-b821e4cd9426",
        "colab": {
          "base_uri": "https://localhost:8080/",
          "height": 1000
        }
      },
      "source": [
        "model.fit(x=xstd,y=ytarin,validation_split=0.1,batch_size=16,epochs=50)"
      ],
      "execution_count": 0,
      "outputs": [
        {
          "output_type": "stream",
          "text": [
            "Train on 363 samples, validate on 41 samples\n",
            "Epoch 1/50\n",
            "363/363 [==============================] - 0s 913us/sample - loss: 605.4565 - mean_absolute_error: 22.7395 - val_loss: 595.3303 - val_mean_absolute_error: 22.8824\n",
            "Epoch 2/50\n",
            "363/363 [==============================] - 0s 139us/sample - loss: 598.7960 - mean_absolute_error: 22.6016 - val_loss: 586.4815 - val_mean_absolute_error: 22.7037\n",
            "Epoch 3/50\n",
            "363/363 [==============================] - 0s 122us/sample - loss: 584.7389 - mean_absolute_error: 22.3281 - val_loss: 566.4151 - val_mean_absolute_error: 22.2980\n",
            "Epoch 4/50\n",
            "363/363 [==============================] - 0s 128us/sample - loss: 552.3805 - mean_absolute_error: 21.6556 - val_loss: 517.7825 - val_mean_absolute_error: 21.3016\n",
            "Epoch 5/50\n",
            "363/363 [==============================] - 0s 129us/sample - loss: 469.5242 - mean_absolute_error: 19.9434 - val_loss: 409.3036 - val_mean_absolute_error: 18.8657\n",
            "Epoch 6/50\n",
            "363/363 [==============================] - 0s 126us/sample - loss: 318.5611 - mean_absolute_error: 16.0592 - val_loss: 240.4691 - val_mean_absolute_error: 13.8554\n",
            "Epoch 7/50\n",
            "363/363 [==============================] - 0s 130us/sample - loss: 160.5810 - mean_absolute_error: 10.6098 - val_loss: 124.1822 - val_mean_absolute_error: 8.1980\n",
            "Epoch 8/50\n",
            "363/363 [==============================] - 0s 134us/sample - loss: 105.7050 - mean_absolute_error: 8.1587 - val_loss: 85.6055 - val_mean_absolute_error: 6.5449\n",
            "Epoch 9/50\n",
            "363/363 [==============================] - 0s 132us/sample - loss: 75.9565 - mean_absolute_error: 6.7008 - val_loss: 65.0632 - val_mean_absolute_error: 5.4381\n",
            "Epoch 10/50\n",
            "363/363 [==============================] - 0s 126us/sample - loss: 59.4425 - mean_absolute_error: 6.0003 - val_loss: 49.7776 - val_mean_absolute_error: 4.5702\n",
            "Epoch 11/50\n",
            "363/363 [==============================] - 0s 137us/sample - loss: 52.1614 - mean_absolute_error: 5.6765 - val_loss: 46.3238 - val_mean_absolute_error: 4.5269\n",
            "Epoch 12/50\n",
            "363/363 [==============================] - 0s 130us/sample - loss: 46.3711 - mean_absolute_error: 5.1183 - val_loss: 43.5500 - val_mean_absolute_error: 4.4540\n",
            "Epoch 13/50\n",
            "363/363 [==============================] - 0s 133us/sample - loss: 44.4887 - mean_absolute_error: 5.0705 - val_loss: 42.2746 - val_mean_absolute_error: 4.4585\n",
            "Epoch 14/50\n",
            "363/363 [==============================] - 0s 139us/sample - loss: 40.8162 - mean_absolute_error: 5.0020 - val_loss: 41.1703 - val_mean_absolute_error: 4.3916\n",
            "Epoch 15/50\n",
            "363/363 [==============================] - 0s 139us/sample - loss: 41.6880 - mean_absolute_error: 4.9615 - val_loss: 40.9996 - val_mean_absolute_error: 4.3138\n",
            "Epoch 16/50\n",
            "363/363 [==============================] - 0s 123us/sample - loss: 36.8217 - mean_absolute_error: 4.6005 - val_loss: 38.8886 - val_mean_absolute_error: 4.1689\n",
            "Epoch 17/50\n",
            "363/363 [==============================] - 0s 128us/sample - loss: 38.1072 - mean_absolute_error: 4.7963 - val_loss: 38.3559 - val_mean_absolute_error: 4.1851\n",
            "Epoch 18/50\n",
            "363/363 [==============================] - 0s 125us/sample - loss: 39.4343 - mean_absolute_error: 4.6637 - val_loss: 36.4636 - val_mean_absolute_error: 4.0443\n",
            "Epoch 19/50\n",
            "363/363 [==============================] - 0s 126us/sample - loss: 34.9875 - mean_absolute_error: 4.5843 - val_loss: 36.4133 - val_mean_absolute_error: 4.0368\n",
            "Epoch 20/50\n",
            "363/363 [==============================] - 0s 131us/sample - loss: 37.3356 - mean_absolute_error: 4.5891 - val_loss: 35.9112 - val_mean_absolute_error: 3.9659\n",
            "Epoch 21/50\n",
            "363/363 [==============================] - 0s 131us/sample - loss: 36.3866 - mean_absolute_error: 4.5355 - val_loss: 35.8760 - val_mean_absolute_error: 4.0000\n",
            "Epoch 22/50\n",
            "363/363 [==============================] - 0s 151us/sample - loss: 28.5842 - mean_absolute_error: 4.1274 - val_loss: 34.6408 - val_mean_absolute_error: 3.9358\n",
            "Epoch 23/50\n",
            "363/363 [==============================] - 0s 135us/sample - loss: 28.3792 - mean_absolute_error: 4.0599 - val_loss: 35.2363 - val_mean_absolute_error: 3.8774\n",
            "Epoch 24/50\n",
            "363/363 [==============================] - 0s 121us/sample - loss: 30.7517 - mean_absolute_error: 4.2135 - val_loss: 34.3312 - val_mean_absolute_error: 3.7822\n",
            "Epoch 25/50\n",
            "363/363 [==============================] - 0s 124us/sample - loss: 31.5408 - mean_absolute_error: 4.2600 - val_loss: 32.5912 - val_mean_absolute_error: 3.6639\n",
            "Epoch 26/50\n",
            "363/363 [==============================] - 0s 125us/sample - loss: 29.5482 - mean_absolute_error: 3.9820 - val_loss: 33.0384 - val_mean_absolute_error: 3.6505\n",
            "Epoch 27/50\n",
            "363/363 [==============================] - 0s 129us/sample - loss: 35.4923 - mean_absolute_error: 4.2708 - val_loss: 33.2317 - val_mean_absolute_error: 3.6741\n",
            "Epoch 28/50\n",
            "363/363 [==============================] - 0s 132us/sample - loss: 29.0545 - mean_absolute_error: 4.1162 - val_loss: 31.9807 - val_mean_absolute_error: 3.6105\n",
            "Epoch 29/50\n",
            "363/363 [==============================] - 0s 130us/sample - loss: 33.6421 - mean_absolute_error: 4.2667 - val_loss: 31.0727 - val_mean_absolute_error: 3.5068\n",
            "Epoch 30/50\n",
            "363/363 [==============================] - 0s 131us/sample - loss: 29.4301 - mean_absolute_error: 4.2335 - val_loss: 30.9441 - val_mean_absolute_error: 3.4964\n",
            "Epoch 31/50\n",
            "363/363 [==============================] - 0s 131us/sample - loss: 29.3169 - mean_absolute_error: 4.1073 - val_loss: 30.8217 - val_mean_absolute_error: 3.4976\n",
            "Epoch 32/50\n",
            "363/363 [==============================] - 0s 128us/sample - loss: 29.8946 - mean_absolute_error: 4.1331 - val_loss: 29.6590 - val_mean_absolute_error: 3.4493\n",
            "Epoch 33/50\n",
            "363/363 [==============================] - 0s 129us/sample - loss: 30.2668 - mean_absolute_error: 4.0553 - val_loss: 28.8462 - val_mean_absolute_error: 3.4111\n",
            "Epoch 34/50\n",
            "363/363 [==============================] - 0s 124us/sample - loss: 25.2758 - mean_absolute_error: 3.8090 - val_loss: 29.2404 - val_mean_absolute_error: 3.4219\n",
            "Epoch 35/50\n",
            "363/363 [==============================] - 0s 129us/sample - loss: 24.1849 - mean_absolute_error: 3.6933 - val_loss: 28.7580 - val_mean_absolute_error: 3.3539\n",
            "Epoch 36/50\n",
            "363/363 [==============================] - 0s 128us/sample - loss: 27.5019 - mean_absolute_error: 3.7729 - val_loss: 28.8553 - val_mean_absolute_error: 3.3639\n",
            "Epoch 37/50\n",
            "363/363 [==============================] - 0s 141us/sample - loss: 27.9934 - mean_absolute_error: 3.7829 - val_loss: 28.4367 - val_mean_absolute_error: 3.3039\n",
            "Epoch 38/50\n",
            "363/363 [==============================] - 0s 127us/sample - loss: 27.6212 - mean_absolute_error: 3.8953 - val_loss: 28.1638 - val_mean_absolute_error: 3.2978\n",
            "Epoch 39/50\n",
            "363/363 [==============================] - 0s 126us/sample - loss: 25.8522 - mean_absolute_error: 3.8465 - val_loss: 27.8304 - val_mean_absolute_error: 3.3001\n",
            "Epoch 40/50\n",
            "363/363 [==============================] - 0s 122us/sample - loss: 25.6532 - mean_absolute_error: 3.7283 - val_loss: 27.6807 - val_mean_absolute_error: 3.2542\n",
            "Epoch 41/50\n",
            "363/363 [==============================] - 0s 134us/sample - loss: 23.8449 - mean_absolute_error: 3.5609 - val_loss: 26.3376 - val_mean_absolute_error: 3.1774\n",
            "Epoch 42/50\n",
            "363/363 [==============================] - 0s 121us/sample - loss: 26.6776 - mean_absolute_error: 3.8451 - val_loss: 26.9571 - val_mean_absolute_error: 3.1974\n",
            "Epoch 43/50\n",
            "363/363 [==============================] - 0s 131us/sample - loss: 23.5960 - mean_absolute_error: 3.6667 - val_loss: 26.4563 - val_mean_absolute_error: 3.1708\n",
            "Epoch 44/50\n",
            "363/363 [==============================] - 0s 139us/sample - loss: 24.2988 - mean_absolute_error: 3.5611 - val_loss: 26.2126 - val_mean_absolute_error: 3.1575\n",
            "Epoch 45/50\n",
            "363/363 [==============================] - 0s 130us/sample - loss: 22.4500 - mean_absolute_error: 3.4497 - val_loss: 27.7381 - val_mean_absolute_error: 3.3016\n",
            "Epoch 46/50\n",
            "363/363 [==============================] - 0s 127us/sample - loss: 22.6517 - mean_absolute_error: 3.5013 - val_loss: 26.2391 - val_mean_absolute_error: 3.2041\n",
            "Epoch 47/50\n",
            "363/363 [==============================] - 0s 138us/sample - loss: 23.8880 - mean_absolute_error: 3.5136 - val_loss: 25.2243 - val_mean_absolute_error: 3.1164\n",
            "Epoch 48/50\n",
            "363/363 [==============================] - 0s 118us/sample - loss: 20.1764 - mean_absolute_error: 3.3105 - val_loss: 25.3631 - val_mean_absolute_error: 3.1095\n",
            "Epoch 49/50\n",
            "363/363 [==============================] - 0s 127us/sample - loss: 22.1181 - mean_absolute_error: 3.4725 - val_loss: 25.2652 - val_mean_absolute_error: 3.1386\n",
            "Epoch 50/50\n",
            "363/363 [==============================] - 0s 126us/sample - loss: 21.8655 - mean_absolute_error: 3.4652 - val_loss: 26.6066 - val_mean_absolute_error: 3.2027\n"
          ],
          "name": "stdout"
        },
        {
          "output_type": "execute_result",
          "data": {
            "text/plain": [
              "<tensorflow.python.keras.callbacks.History at 0x7fa0e355af28>"
            ]
          },
          "metadata": {
            "tags": []
          },
          "execution_count": 74
        }
      ]
    },
    {
      "cell_type": "code",
      "metadata": {
        "id": "FMG31k8FH__n",
        "colab_type": "code",
        "outputId": "ec3d6d24-6eeb-45e4-923f-7f46471bd4bc",
        "colab": {
          "base_uri": "https://localhost:8080/",
          "height": 33
        }
      },
      "source": [
        "loss,accuracy=model.evaluate(x=xteststd,y=ytest)"
      ],
      "execution_count": 0,
      "outputs": [
        {
          "output_type": "stream",
          "text": [
            "102/102 [==============================] - 0s 79us/sample - loss: 15.4143 - mean_absolute_error: 2.4801\n"
          ],
          "name": "stdout"
        }
      ]
    },
    {
      "cell_type": "code",
      "metadata": {
        "id": "5CZSJFxGIKaU",
        "colab_type": "code",
        "outputId": "3af83147-613c-4915-a7f1-9d86f314022e",
        "colab": {
          "base_uri": "https://localhost:8080/",
          "height": 33
        }
      },
      "source": [
        "print(loss,accuracy)"
      ],
      "execution_count": 0,
      "outputs": [
        {
          "output_type": "stream",
          "text": [
            "15.414268194460401 2.4801261\n"
          ],
          "name": "stdout"
        }
      ]
    },
    {
      "cell_type": "markdown",
      "metadata": {
        "id": "sRdOs_rwMeJz",
        "colab_type": "text"
      },
      "source": [
        "WINE DATASET"
      ]
    },
    {
      "cell_type": "code",
      "metadata": {
        "id": "uZXXU_bbIMVh",
        "colab_type": "code",
        "colab": {}
      },
      "source": [
        "from sklearn.datasets import load_wine"
      ],
      "execution_count": 0,
      "outputs": []
    },
    {
      "cell_type": "code",
      "metadata": {
        "id": "L3PpRtBWMv6C",
        "colab_type": "code",
        "colab": {}
      },
      "source": [
        "wine=load_wine()"
      ],
      "execution_count": 0,
      "outputs": []
    },
    {
      "cell_type": "code",
      "metadata": {
        "id": "z7NbiChcM0KI",
        "colab_type": "code",
        "colab": {}
      },
      "source": [
        "x=wine.data\n",
        "y=wine.target"
      ],
      "execution_count": 0,
      "outputs": []
    },
    {
      "cell_type": "code",
      "metadata": {
        "id": "YGcJKtXDM3P8",
        "colab_type": "code",
        "colab": {}
      },
      "source": [
        "xtrain,xtest,ytrain,ytest=train_test_split(x,y,test_size=0.2,random_state=42)"
      ],
      "execution_count": 0,
      "outputs": []
    },
    {
      "cell_type": "code",
      "metadata": {
        "id": "qHDiU4diNE0I",
        "colab_type": "code",
        "colab": {}
      },
      "source": [
        "sc=StandardScaler()"
      ],
      "execution_count": 0,
      "outputs": []
    },
    {
      "cell_type": "code",
      "metadata": {
        "id": "GIPado-xNGif",
        "colab_type": "code",
        "outputId": "d1827584-2994-41e8-859a-34c4c05c07ae",
        "colab": {
          "base_uri": "https://localhost:8080/",
          "height": 34
        }
      },
      "source": [
        "sc.fit(xtrain)"
      ],
      "execution_count": 0,
      "outputs": [
        {
          "output_type": "execute_result",
          "data": {
            "text/plain": [
              "StandardScaler(copy=True, with_mean=True, with_std=True)"
            ]
          },
          "metadata": {
            "tags": []
          },
          "execution_count": 12
        }
      ]
    },
    {
      "cell_type": "code",
      "metadata": {
        "id": "ktlJPVtsNIas",
        "colab_type": "code",
        "colab": {}
      },
      "source": [
        "xtrain_std=sc.transform(xtrain)"
      ],
      "execution_count": 0,
      "outputs": []
    },
    {
      "cell_type": "code",
      "metadata": {
        "id": "DfqY_Bl1NMH5",
        "colab_type": "code",
        "colab": {}
      },
      "source": [
        "xtest_std=sc.transform(xtest)"
      ],
      "execution_count": 0,
      "outputs": []
    },
    {
      "cell_type": "code",
      "metadata": {
        "id": "4ooRLN7INPvr",
        "colab_type": "code",
        "colab": {}
      },
      "source": [
        "model_DNN = keras.models.Sequential()"
      ],
      "execution_count": 0,
      "outputs": []
    },
    {
      "cell_type": "code",
      "metadata": {
        "id": "0ir1VMq3NaUO",
        "colab_type": "code",
        "colab": {}
      },
      "source": [
        "model_DNN.add(keras.layers.Dense(units=15, activation='relu', input_shape=xtrain.shape[1:]))\n",
        "model_DNN.add(keras.layers.Dropout(0.1))\n",
        "model_DNN.add(keras.layers.Dense(units=12, activation='relu'))\n",
        "model_DNN.add(keras.layers.Dropout(0.1))\n",
        "model_DNN.add(keras.layers.Dense(units=8, activation='relu'))\n",
        "model_DNN.add(keras.layers.Dense(units=4, activation='relu'))"
      ],
      "execution_count": 0,
      "outputs": []
    },
    {
      "cell_type": "code",
      "metadata": {
        "id": "ddHczrOLNgMX",
        "colab_type": "code",
        "colab": {}
      },
      "source": [
        "model_DNN.add(keras.layers.Dense(units=3, activation='softmax'))"
      ],
      "execution_count": 0,
      "outputs": []
    },
    {
      "cell_type": "code",
      "metadata": {
        "id": "qedaa-rCNjYq",
        "colab_type": "code",
        "colab": {}
      },
      "source": [
        "model_DNN.compile(loss='sparse_categorical_crossentropy',optimizer='adam', metrics=['accuracy'])"
      ],
      "execution_count": 0,
      "outputs": []
    },
    {
      "cell_type": "code",
      "metadata": {
        "id": "BJxZOfnHNnwj",
        "colab_type": "code",
        "outputId": "248fe673-cb14-40da-fbcf-40b2621364eb",
        "colab": {
          "base_uri": "https://localhost:8080/",
          "height": 1000
        }
      },
      "source": [
        "model_DNN.fit(x=xtrain_std, y=ytrain, validation_split=0.1, epochs=50,batch_size=16)"
      ],
      "execution_count": 0,
      "outputs": [
        {
          "output_type": "stream",
          "text": [
            "Train on 127 samples, validate on 15 samples\n",
            "Epoch 1/50\n",
            "127/127 [==============================] - 0s 2ms/sample - loss: 1.0965 - acc: 0.3386 - val_loss: 1.0994 - val_acc: 0.1333\n",
            "Epoch 2/50\n",
            "127/127 [==============================] - 0s 181us/sample - loss: 1.0925 - acc: 0.3701 - val_loss: 1.0963 - val_acc: 0.1333\n",
            "Epoch 3/50\n",
            "127/127 [==============================] - 0s 184us/sample - loss: 1.0895 - acc: 0.3150 - val_loss: 1.0861 - val_acc: 0.1333\n",
            "Epoch 4/50\n",
            "127/127 [==============================] - 0s 203us/sample - loss: 1.0744 - acc: 0.3543 - val_loss: 1.0748 - val_acc: 0.1333\n",
            "Epoch 5/50\n",
            "127/127 [==============================] - 0s 171us/sample - loss: 1.0655 - acc: 0.4331 - val_loss: 1.0639 - val_acc: 0.2000\n",
            "Epoch 6/50\n",
            "127/127 [==============================] - 0s 179us/sample - loss: 1.0445 - acc: 0.5276 - val_loss: 1.0538 - val_acc: 0.8667\n",
            "Epoch 7/50\n",
            "127/127 [==============================] - 0s 186us/sample - loss: 1.0339 - acc: 0.5591 - val_loss: 1.0237 - val_acc: 0.8667\n",
            "Epoch 8/50\n",
            "127/127 [==============================] - 0s 169us/sample - loss: 1.0074 - acc: 0.5512 - val_loss: 0.9875 - val_acc: 0.8667\n",
            "Epoch 9/50\n",
            "127/127 [==============================] - 0s 177us/sample - loss: 0.9922 - acc: 0.5906 - val_loss: 0.9538 - val_acc: 0.8667\n",
            "Epoch 10/50\n",
            "127/127 [==============================] - 0s 234us/sample - loss: 0.9642 - acc: 0.5827 - val_loss: 0.9206 - val_acc: 0.8667\n",
            "Epoch 11/50\n",
            "127/127 [==============================] - 0s 175us/sample - loss: 0.9355 - acc: 0.6142 - val_loss: 0.8841 - val_acc: 0.8667\n",
            "Epoch 12/50\n",
            "127/127 [==============================] - 0s 173us/sample - loss: 0.9127 - acc: 0.6220 - val_loss: 0.8388 - val_acc: 0.8667\n",
            "Epoch 13/50\n",
            "127/127 [==============================] - 0s 203us/sample - loss: 0.8706 - acc: 0.6299 - val_loss: 0.7858 - val_acc: 0.8667\n",
            "Epoch 14/50\n",
            "127/127 [==============================] - 0s 169us/sample - loss: 0.8233 - acc: 0.6220 - val_loss: 0.7264 - val_acc: 0.8667\n",
            "Epoch 15/50\n",
            "127/127 [==============================] - 0s 215us/sample - loss: 0.7855 - acc: 0.6299 - val_loss: 0.6699 - val_acc: 0.8667\n",
            "Epoch 16/50\n",
            "127/127 [==============================] - 0s 179us/sample - loss: 0.7351 - acc: 0.6299 - val_loss: 0.6102 - val_acc: 0.8667\n",
            "Epoch 17/50\n",
            "127/127 [==============================] - 0s 166us/sample - loss: 0.7002 - acc: 0.6535 - val_loss: 0.5516 - val_acc: 0.8667\n",
            "Epoch 18/50\n",
            "127/127 [==============================] - 0s 178us/sample - loss: 0.6367 - acc: 0.6614 - val_loss: 0.4927 - val_acc: 0.8667\n",
            "Epoch 19/50\n",
            "127/127 [==============================] - 0s 182us/sample - loss: 0.5981 - acc: 0.6614 - val_loss: 0.4428 - val_acc: 0.8667\n",
            "Epoch 20/50\n",
            "127/127 [==============================] - 0s 200us/sample - loss: 0.5864 - acc: 0.6535 - val_loss: 0.4019 - val_acc: 0.8667\n",
            "Epoch 21/50\n",
            "127/127 [==============================] - 0s 163us/sample - loss: 0.5597 - acc: 0.6457 - val_loss: 0.3656 - val_acc: 0.8667\n",
            "Epoch 22/50\n",
            "127/127 [==============================] - 0s 192us/sample - loss: 0.5268 - acc: 0.6614 - val_loss: 0.3347 - val_acc: 0.8667\n",
            "Epoch 23/50\n",
            "127/127 [==============================] - 0s 155us/sample - loss: 0.4958 - acc: 0.6614 - val_loss: 0.3134 - val_acc: 0.8667\n",
            "Epoch 24/50\n",
            "127/127 [==============================] - 0s 166us/sample - loss: 0.4802 - acc: 0.6614 - val_loss: 0.2957 - val_acc: 0.8667\n",
            "Epoch 25/50\n",
            "127/127 [==============================] - 0s 186us/sample - loss: 0.4691 - acc: 0.6614 - val_loss: 0.2771 - val_acc: 0.8667\n",
            "Epoch 26/50\n",
            "127/127 [==============================] - 0s 181us/sample - loss: 0.4631 - acc: 0.6693 - val_loss: 0.2563 - val_acc: 0.8667\n",
            "Epoch 27/50\n",
            "127/127 [==============================] - 0s 161us/sample - loss: 0.4329 - acc: 0.6614 - val_loss: 0.2414 - val_acc: 0.8667\n",
            "Epoch 28/50\n",
            "127/127 [==============================] - 0s 169us/sample - loss: 0.4276 - acc: 0.6850 - val_loss: 0.2300 - val_acc: 0.8667\n",
            "Epoch 29/50\n",
            "127/127 [==============================] - 0s 162us/sample - loss: 0.4133 - acc: 0.7087 - val_loss: 0.2155 - val_acc: 0.8667\n",
            "Epoch 30/50\n",
            "127/127 [==============================] - 0s 190us/sample - loss: 0.3965 - acc: 0.7638 - val_loss: 0.2012 - val_acc: 0.8667\n",
            "Epoch 31/50\n",
            "127/127 [==============================] - 0s 158us/sample - loss: 0.3739 - acc: 0.8031 - val_loss: 0.1878 - val_acc: 0.8667\n",
            "Epoch 32/50\n",
            "127/127 [==============================] - 0s 165us/sample - loss: 0.3602 - acc: 0.8189 - val_loss: 0.1781 - val_acc: 1.0000\n",
            "Epoch 33/50\n",
            "127/127 [==============================] - 0s 167us/sample - loss: 0.3598 - acc: 0.8110 - val_loss: 0.1698 - val_acc: 1.0000\n",
            "Epoch 34/50\n",
            "127/127 [==============================] - 0s 161us/sample - loss: 0.3514 - acc: 0.9134 - val_loss: 0.1616 - val_acc: 1.0000\n",
            "Epoch 35/50\n",
            "127/127 [==============================] - 0s 168us/sample - loss: 0.3480 - acc: 0.8504 - val_loss: 0.1553 - val_acc: 1.0000\n",
            "Epoch 36/50\n",
            "127/127 [==============================] - 0s 171us/sample - loss: 0.3379 - acc: 0.8976 - val_loss: 0.1503 - val_acc: 1.0000\n",
            "Epoch 37/50\n",
            "127/127 [==============================] - 0s 177us/sample - loss: 0.3312 - acc: 0.9291 - val_loss: 0.1463 - val_acc: 1.0000\n",
            "Epoch 38/50\n",
            "127/127 [==============================] - 0s 222us/sample - loss: 0.3181 - acc: 0.9606 - val_loss: 0.1422 - val_acc: 1.0000\n",
            "Epoch 39/50\n",
            "127/127 [==============================] - 0s 179us/sample - loss: 0.3211 - acc: 0.9370 - val_loss: 0.1377 - val_acc: 1.0000\n",
            "Epoch 40/50\n",
            "127/127 [==============================] - 0s 179us/sample - loss: 0.3202 - acc: 0.9291 - val_loss: 0.1344 - val_acc: 1.0000\n",
            "Epoch 41/50\n",
            "127/127 [==============================] - 0s 217us/sample - loss: 0.3104 - acc: 0.9291 - val_loss: 0.1321 - val_acc: 1.0000\n",
            "Epoch 42/50\n",
            "127/127 [==============================] - 0s 185us/sample - loss: 0.3019 - acc: 0.9764 - val_loss: 0.1289 - val_acc: 1.0000\n",
            "Epoch 43/50\n",
            "127/127 [==============================] - 0s 189us/sample - loss: 0.3023 - acc: 0.9449 - val_loss: 0.1257 - val_acc: 1.0000\n",
            "Epoch 44/50\n",
            "127/127 [==============================] - 0s 188us/sample - loss: 0.2982 - acc: 0.9685 - val_loss: 0.1231 - val_acc: 1.0000\n",
            "Epoch 45/50\n",
            "127/127 [==============================] - 0s 174us/sample - loss: 0.2969 - acc: 0.9843 - val_loss: 0.1212 - val_acc: 1.0000\n",
            "Epoch 46/50\n",
            "127/127 [==============================] - 0s 178us/sample - loss: 0.2873 - acc: 0.9843 - val_loss: 0.1182 - val_acc: 1.0000\n",
            "Epoch 47/50\n",
            "127/127 [==============================] - 0s 182us/sample - loss: 0.2821 - acc: 0.9921 - val_loss: 0.1150 - val_acc: 1.0000\n",
            "Epoch 48/50\n",
            "127/127 [==============================] - 0s 185us/sample - loss: 0.2752 - acc: 1.0000 - val_loss: 0.1123 - val_acc: 1.0000\n",
            "Epoch 49/50\n",
            "127/127 [==============================] - 0s 171us/sample - loss: 0.2760 - acc: 0.9921 - val_loss: 0.1098 - val_acc: 1.0000\n",
            "Epoch 50/50\n",
            "127/127 [==============================] - 0s 162us/sample - loss: 0.2735 - acc: 0.9764 - val_loss: 0.1078 - val_acc: 1.0000\n"
          ],
          "name": "stdout"
        },
        {
          "output_type": "execute_result",
          "data": {
            "text/plain": [
              "<tensorflow.python.keras.callbacks.History at 0x7f6ac42e8ba8>"
            ]
          },
          "metadata": {
            "tags": []
          },
          "execution_count": 26
        }
      ]
    },
    {
      "cell_type": "code",
      "metadata": {
        "id": "SGLFiCOdNrjq",
        "colab_type": "code",
        "outputId": "25502246-42c0-4c79-99b0-c82240ce4d89",
        "colab": {
          "base_uri": "https://localhost:8080/",
          "height": 34
        }
      },
      "source": [
        "test_loss, test_accuracy = model_DNN.evaluate(x=xtest_std, y=ytest)"
      ],
      "execution_count": 0,
      "outputs": [
        {
          "output_type": "stream",
          "text": [
            "36/36 [==============================] - 0s 209us/sample - loss: 0.2991 - acc: 0.9722\n"
          ],
          "name": "stdout"
        }
      ]
    },
    {
      "cell_type": "code",
      "metadata": {
        "id": "avnlSXekNzMh",
        "colab_type": "code",
        "outputId": "414a17c1-1266-41f2-e173-46707a64ff5a",
        "colab": {
          "base_uri": "https://localhost:8080/",
          "height": 34
        }
      },
      "source": [
        "print(test_loss, test_accuracy)"
      ],
      "execution_count": 0,
      "outputs": [
        {
          "output_type": "stream",
          "text": [
            "0.299073510699802 0.9722222\n"
          ],
          "name": "stdout"
        }
      ]
    },
    {
      "cell_type": "markdown",
      "metadata": {
        "id": "_TMTmnS4OiZI",
        "colab_type": "text"
      },
      "source": [
        "IRIS DATASET"
      ]
    },
    {
      "cell_type": "code",
      "metadata": {
        "id": "INUDbivfN2R8",
        "colab_type": "code",
        "colab": {}
      },
      "source": [
        "from sklearn.datasets import load_iris"
      ],
      "execution_count": 0,
      "outputs": []
    },
    {
      "cell_type": "code",
      "metadata": {
        "id": "Ytbzu3rLOqL4",
        "colab_type": "code",
        "colab": {}
      },
      "source": [
        "iris=load_iris()"
      ],
      "execution_count": 0,
      "outputs": []
    },
    {
      "cell_type": "code",
      "metadata": {
        "id": "rfZDX8a0Osks",
        "colab_type": "code",
        "colab": {}
      },
      "source": [
        "x=iris.data\n",
        "y=iris.target"
      ],
      "execution_count": 0,
      "outputs": []
    },
    {
      "cell_type": "code",
      "metadata": {
        "id": "I7MeVGihOvzw",
        "colab_type": "code",
        "colab": {}
      },
      "source": [
        "xtrain,xtest,ytrain,ytest=train_test_split(x,y,test_size=0.2,random_state=42,stratify=y)"
      ],
      "execution_count": 0,
      "outputs": []
    },
    {
      "cell_type": "code",
      "metadata": {
        "id": "64rB8awXO-Qz",
        "colab_type": "code",
        "colab": {}
      },
      "source": [
        "sc=StandardScaler()"
      ],
      "execution_count": 0,
      "outputs": []
    },
    {
      "cell_type": "code",
      "metadata": {
        "id": "sxNYfM3wO_81",
        "colab_type": "code",
        "outputId": "5032a36a-ae69-4c17-baf1-a24f10702fa1",
        "colab": {
          "base_uri": "https://localhost:8080/",
          "height": 34
        }
      },
      "source": [
        "sc.fit(xtrain)"
      ],
      "execution_count": 0,
      "outputs": [
        {
          "output_type": "execute_result",
          "data": {
            "text/plain": [
              "StandardScaler(copy=True, with_mean=True, with_std=True)"
            ]
          },
          "metadata": {
            "tags": []
          },
          "execution_count": 47
        }
      ]
    },
    {
      "cell_type": "code",
      "metadata": {
        "id": "3FlDIcSOPBqg",
        "colab_type": "code",
        "colab": {}
      },
      "source": [
        "xtrain_std=sc.transform(xtrain)"
      ],
      "execution_count": 0,
      "outputs": []
    },
    {
      "cell_type": "code",
      "metadata": {
        "id": "muEbngxAPG3z",
        "colab_type": "code",
        "colab": {}
      },
      "source": [
        "xtest_std=sc.transform(xtest)"
      ],
      "execution_count": 0,
      "outputs": []
    },
    {
      "cell_type": "code",
      "metadata": {
        "id": "jPFj6EpsPKMV",
        "colab_type": "code",
        "colab": {}
      },
      "source": [
        "model_DNN = keras.models.Sequential()"
      ],
      "execution_count": 0,
      "outputs": []
    },
    {
      "cell_type": "code",
      "metadata": {
        "id": "8Oo7-QngPN_5",
        "colab_type": "code",
        "colab": {}
      },
      "source": [
        "model_DNN.add(keras.layers.Dense(units=12, activation='relu', input_shape=xtrain.shape[1:]))"
      ],
      "execution_count": 0,
      "outputs": []
    },
    {
      "cell_type": "code",
      "metadata": {
        "id": "8nLwWrKaPRyk",
        "colab_type": "code",
        "colab": {}
      },
      "source": [
        "model_DNN.add(keras.layers.Dropout(0.1))"
      ],
      "execution_count": 0,
      "outputs": []
    },
    {
      "cell_type": "code",
      "metadata": {
        "id": "Ji1Vz06rPUTL",
        "colab_type": "code",
        "colab": {}
      },
      "source": [
        "model_DNN.add(keras.layers.Dense(units=10, activation='relu'))"
      ],
      "execution_count": 0,
      "outputs": []
    },
    {
      "cell_type": "code",
      "metadata": {
        "id": "01Pv5adcPW_V",
        "colab_type": "code",
        "colab": {}
      },
      "source": [
        "model_DNN.add(keras.layers.Dropout(0.1))"
      ],
      "execution_count": 0,
      "outputs": []
    },
    {
      "cell_type": "code",
      "metadata": {
        "id": "tXEBtaKiPas2",
        "colab_type": "code",
        "colab": {}
      },
      "source": [
        "model_DNN.add(keras.layers.Dense(units= 8, activation='relu'))\n",
        "model_DNN.add(keras.layers.Dense(units=6, activation='relu'))"
      ],
      "execution_count": 0,
      "outputs": []
    },
    {
      "cell_type": "code",
      "metadata": {
        "id": "xXDbgeM3PcoC",
        "colab_type": "code",
        "colab": {}
      },
      "source": [
        "model_DNN.add(keras.layers.Dense(units=3, activation='softmax'))"
      ],
      "execution_count": 0,
      "outputs": []
    },
    {
      "cell_type": "code",
      "metadata": {
        "id": "iNu3ffEAP4iS",
        "colab_type": "code",
        "colab": {}
      },
      "source": [
        "model_DNN.compile(loss='sparse_categorical_crossentropy',optimizer='adam', metrics=['accuracy'])"
      ],
      "execution_count": 0,
      "outputs": []
    },
    {
      "cell_type": "code",
      "metadata": {
        "id": "_JFe2gqEQN5a",
        "colab_type": "code",
        "outputId": "e834953e-a495-41da-a805-67c6adb69b92",
        "colab": {
          "base_uri": "https://localhost:8080/",
          "height": 1000
        }
      },
      "source": [
        "model_DNN.fit(x=xtrain_std, y=ytrain, validation_split=0.1, epochs=50,batch_size=16)"
      ],
      "execution_count": 0,
      "outputs": [
        {
          "output_type": "stream",
          "text": [
            "Train on 108 samples, validate on 12 samples\n",
            "Epoch 1/50\n",
            "108/108 [==============================] - 0s 2ms/sample - loss: 1.1080 - acc: 0.3148 - val_loss: 1.1171 - val_acc: 0.4167\n",
            "Epoch 2/50\n",
            "108/108 [==============================] - 0s 180us/sample - loss: 1.0970 - acc: 0.3241 - val_loss: 1.1057 - val_acc: 0.4167\n",
            "Epoch 3/50\n",
            "108/108 [==============================] - 0s 166us/sample - loss: 1.0949 - acc: 0.2685 - val_loss: 1.0950 - val_acc: 0.3333\n",
            "Epoch 4/50\n",
            "108/108 [==============================] - 0s 144us/sample - loss: 1.0912 - acc: 0.2222 - val_loss: 1.0820 - val_acc: 0.3333\n",
            "Epoch 5/50\n",
            "108/108 [==============================] - 0s 144us/sample - loss: 1.0750 - acc: 0.2222 - val_loss: 1.0687 - val_acc: 0.2500\n",
            "Epoch 6/50\n",
            "108/108 [==============================] - 0s 172us/sample - loss: 1.0711 - acc: 0.2315 - val_loss: 1.0589 - val_acc: 0.4167\n",
            "Epoch 7/50\n",
            "108/108 [==============================] - 0s 179us/sample - loss: 1.0573 - acc: 0.2778 - val_loss: 1.0445 - val_acc: 0.3333\n",
            "Epoch 8/50\n",
            "108/108 [==============================] - 0s 155us/sample - loss: 1.0416 - acc: 0.3611 - val_loss: 1.0206 - val_acc: 0.4167\n",
            "Epoch 9/50\n",
            "108/108 [==============================] - 0s 134us/sample - loss: 1.0281 - acc: 0.3333 - val_loss: 0.9915 - val_acc: 0.4167\n",
            "Epoch 10/50\n",
            "108/108 [==============================] - 0s 168us/sample - loss: 1.0157 - acc: 0.3056 - val_loss: 0.9614 - val_acc: 0.4167\n",
            "Epoch 11/50\n",
            "108/108 [==============================] - 0s 149us/sample - loss: 0.9812 - acc: 0.3611 - val_loss: 0.9311 - val_acc: 0.4167\n",
            "Epoch 12/50\n",
            "108/108 [==============================] - 0s 162us/sample - loss: 0.9511 - acc: 0.3704 - val_loss: 0.8995 - val_acc: 0.4167\n",
            "Epoch 13/50\n",
            "108/108 [==============================] - 0s 174us/sample - loss: 0.9242 - acc: 0.3426 - val_loss: 0.8714 - val_acc: 0.4167\n",
            "Epoch 14/50\n",
            "108/108 [==============================] - 0s 190us/sample - loss: 0.8939 - acc: 0.3611 - val_loss: 0.8432 - val_acc: 0.6667\n",
            "Epoch 15/50\n",
            "108/108 [==============================] - 0s 172us/sample - loss: 0.8772 - acc: 0.5741 - val_loss: 0.8162 - val_acc: 0.9167\n",
            "Epoch 16/50\n",
            "108/108 [==============================] - 0s 154us/sample - loss: 0.8280 - acc: 0.7130 - val_loss: 0.7856 - val_acc: 1.0000\n",
            "Epoch 17/50\n",
            "108/108 [==============================] - 0s 162us/sample - loss: 0.7942 - acc: 0.7685 - val_loss: 0.7524 - val_acc: 0.9167\n",
            "Epoch 18/50\n",
            "108/108 [==============================] - 0s 176us/sample - loss: 0.7560 - acc: 0.8056 - val_loss: 0.7171 - val_acc: 0.8333\n",
            "Epoch 19/50\n",
            "108/108 [==============================] - 0s 146us/sample - loss: 0.7063 - acc: 0.8056 - val_loss: 0.6757 - val_acc: 0.7500\n",
            "Epoch 20/50\n",
            "108/108 [==============================] - 0s 138us/sample - loss: 0.6853 - acc: 0.7870 - val_loss: 0.6344 - val_acc: 0.7500\n",
            "Epoch 21/50\n",
            "108/108 [==============================] - 0s 221us/sample - loss: 0.6618 - acc: 0.7870 - val_loss: 0.5937 - val_acc: 0.7500\n",
            "Epoch 22/50\n",
            "108/108 [==============================] - 0s 174us/sample - loss: 0.6094 - acc: 0.7778 - val_loss: 0.5537 - val_acc: 0.7500\n",
            "Epoch 23/50\n",
            "108/108 [==============================] - 0s 166us/sample - loss: 0.5788 - acc: 0.7593 - val_loss: 0.5161 - val_acc: 0.7500\n",
            "Epoch 24/50\n",
            "108/108 [==============================] - 0s 166us/sample - loss: 0.5469 - acc: 0.7593 - val_loss: 0.4788 - val_acc: 0.7500\n",
            "Epoch 25/50\n",
            "108/108 [==============================] - 0s 197us/sample - loss: 0.4857 - acc: 0.8148 - val_loss: 0.4471 - val_acc: 0.7500\n",
            "Epoch 26/50\n",
            "108/108 [==============================] - 0s 149us/sample - loss: 0.4433 - acc: 0.8611 - val_loss: 0.4222 - val_acc: 0.7500\n",
            "Epoch 27/50\n",
            "108/108 [==============================] - 0s 168us/sample - loss: 0.4382 - acc: 0.8426 - val_loss: 0.4121 - val_acc: 0.7500\n",
            "Epoch 28/50\n",
            "108/108 [==============================] - 0s 155us/sample - loss: 0.4038 - acc: 0.8704 - val_loss: 0.3979 - val_acc: 0.7500\n",
            "Epoch 29/50\n",
            "108/108 [==============================] - 0s 167us/sample - loss: 0.3826 - acc: 0.8426 - val_loss: 0.3751 - val_acc: 0.7500\n",
            "Epoch 30/50\n",
            "108/108 [==============================] - 0s 171us/sample - loss: 0.3694 - acc: 0.8519 - val_loss: 0.3529 - val_acc: 0.7500\n",
            "Epoch 31/50\n",
            "108/108 [==============================] - 0s 143us/sample - loss: 0.3733 - acc: 0.8704 - val_loss: 0.3297 - val_acc: 0.8333\n",
            "Epoch 32/50\n",
            "108/108 [==============================] - 0s 147us/sample - loss: 0.3418 - acc: 0.8704 - val_loss: 0.3127 - val_acc: 0.8333\n",
            "Epoch 33/50\n",
            "108/108 [==============================] - 0s 158us/sample - loss: 0.3338 - acc: 0.8611 - val_loss: 0.3098 - val_acc: 0.8333\n",
            "Epoch 34/50\n",
            "108/108 [==============================] - 0s 164us/sample - loss: 0.3009 - acc: 0.8889 - val_loss: 0.3060 - val_acc: 0.8333\n",
            "Epoch 35/50\n",
            "108/108 [==============================] - 0s 154us/sample - loss: 0.3261 - acc: 0.8333 - val_loss: 0.3126 - val_acc: 0.8333\n",
            "Epoch 36/50\n",
            "108/108 [==============================] - 0s 165us/sample - loss: 0.2844 - acc: 0.8981 - val_loss: 0.3052 - val_acc: 0.8333\n",
            "Epoch 37/50\n",
            "108/108 [==============================] - 0s 183us/sample - loss: 0.2898 - acc: 0.9167 - val_loss: 0.2886 - val_acc: 0.8333\n",
            "Epoch 38/50\n",
            "108/108 [==============================] - 0s 158us/sample - loss: 0.2903 - acc: 0.9074 - val_loss: 0.2765 - val_acc: 0.8333\n",
            "Epoch 39/50\n",
            "108/108 [==============================] - 0s 153us/sample - loss: 0.2764 - acc: 0.9074 - val_loss: 0.2704 - val_acc: 0.8333\n",
            "Epoch 40/50\n",
            "108/108 [==============================] - 0s 157us/sample - loss: 0.2711 - acc: 0.9167 - val_loss: 0.2585 - val_acc: 0.8333\n",
            "Epoch 41/50\n",
            "108/108 [==============================] - 0s 156us/sample - loss: 0.3247 - acc: 0.8704 - val_loss: 0.2750 - val_acc: 0.8333\n",
            "Epoch 42/50\n",
            "108/108 [==============================] - 0s 186us/sample - loss: 0.2979 - acc: 0.8611 - val_loss: 0.2856 - val_acc: 0.8333\n",
            "Epoch 43/50\n",
            "108/108 [==============================] - 0s 232us/sample - loss: 0.2770 - acc: 0.8981 - val_loss: 0.2790 - val_acc: 0.8333\n",
            "Epoch 44/50\n",
            "108/108 [==============================] - 0s 161us/sample - loss: 0.2506 - acc: 0.9074 - val_loss: 0.2721 - val_acc: 0.8333\n",
            "Epoch 45/50\n",
            "108/108 [==============================] - 0s 164us/sample - loss: 0.2557 - acc: 0.8981 - val_loss: 0.2562 - val_acc: 0.8333\n",
            "Epoch 46/50\n",
            "108/108 [==============================] - 0s 160us/sample - loss: 0.2609 - acc: 0.9074 - val_loss: 0.2496 - val_acc: 0.8333\n",
            "Epoch 47/50\n",
            "108/108 [==============================] - 0s 138us/sample - loss: 0.2453 - acc: 0.8981 - val_loss: 0.2617 - val_acc: 0.8333\n",
            "Epoch 48/50\n",
            "108/108 [==============================] - 0s 147us/sample - loss: 0.2549 - acc: 0.8611 - val_loss: 0.2516 - val_acc: 0.8333\n",
            "Epoch 49/50\n",
            "108/108 [==============================] - 0s 196us/sample - loss: 0.2204 - acc: 0.9074 - val_loss: 0.2420 - val_acc: 0.8333\n",
            "Epoch 50/50\n",
            "108/108 [==============================] - 0s 172us/sample - loss: 0.2105 - acc: 0.9074 - val_loss: 0.2149 - val_acc: 0.9167\n"
          ],
          "name": "stdout"
        },
        {
          "output_type": "execute_result",
          "data": {
            "text/plain": [
              "<tensorflow.python.keras.callbacks.History at 0x7f6ac3ff4400>"
            ]
          },
          "metadata": {
            "tags": []
          },
          "execution_count": 59
        }
      ]
    },
    {
      "cell_type": "code",
      "metadata": {
        "id": "djlGQN3sS82V",
        "colab_type": "code",
        "outputId": "63e893ff-de38-4b27-9a31-58ec40dba101",
        "colab": {
          "base_uri": "https://localhost:8080/",
          "height": 34
        }
      },
      "source": [
        "test_loss, test_accuracy = model_DNN.evaluate(x=xtest_std, y=ytest)"
      ],
      "execution_count": 0,
      "outputs": [
        {
          "output_type": "stream",
          "text": [
            "\r30/30 [==============================] - 0s 81us/sample - loss: 0.2490 - acc: 0.8667\n"
          ],
          "name": "stdout"
        }
      ]
    },
    {
      "cell_type": "code",
      "metadata": {
        "id": "7-jC-yCfTEQX",
        "colab_type": "code",
        "colab": {}
      },
      "source": [
        ""
      ],
      "execution_count": 0,
      "outputs": []
    }
  ]
}