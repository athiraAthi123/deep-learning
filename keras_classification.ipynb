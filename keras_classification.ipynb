{
  "nbformat": 4,
  "nbformat_minor": 0,
  "metadata": {
    "colab": {
      "name": "keras_classification.ipynb",
      "provenance": []
    },
    "kernelspec": {
      "name": "python3",
      "display_name": "Python 3"
    }
  },
  "cells": [
    {
      "cell_type": "code",
      "metadata": {
        "id": "ApgCI5cW9BL5",
        "colab_type": "code",
        "colab": {}
      },
      "source": [
        "import numpy as np\n",
        "import pandas as pd\n",
        "from sklearn.datasets import load_breast_cancer"
      ],
      "execution_count": 0,
      "outputs": []
    },
    {
      "cell_type": "code",
      "metadata": {
        "id": "hlkIsN6caEFz",
        "colab_type": "code",
        "outputId": "e3e08e0e-819b-4e0f-9654-a521a3a3b86f",
        "colab": {
          "base_uri": "https://localhost:8080/",
          "height": 63
        }
      },
      "source": [
        "from tensorflow import keras"
      ],
      "execution_count": 0,
      "outputs": [
        {
          "output_type": "display_data",
          "data": {
            "text/html": [
              "<p style=\"color: red;\">\n",
              "The default version of TensorFlow in Colab will soon switch to TensorFlow 2.x.<br>\n",
              "We recommend you <a href=\"https://www.tensorflow.org/guide/migrate\" target=\"_blank\">upgrade</a> now \n",
              "or ensure your notebook will continue to use TensorFlow 1.x via the <code>%tensorflow_version 1.x</code> magic:\n",
              "<a href=\"https://colab.research.google.com/notebooks/tensorflow_version.ipynb\" target=\"_blank\">more info</a>.</p>\n"
            ],
            "text/plain": [
              "<IPython.core.display.HTML object>"
            ]
          },
          "metadata": {
            "tags": []
          }
        }
      ]
    },
    {
      "cell_type": "code",
      "metadata": {
        "id": "K47w5HVQaHl3",
        "colab_type": "code",
        "colab": {}
      },
      "source": [
        "import tensorflow as tf\n",
        "from sklearn.model_selection import train_test_split"
      ],
      "execution_count": 0,
      "outputs": []
    },
    {
      "cell_type": "code",
      "metadata": {
        "id": "bB5HkMndaNUH",
        "colab_type": "code",
        "colab": {}
      },
      "source": [
        "tf.set_random_seed(42)\n",
        "np.random.seed(42)"
      ],
      "execution_count": 0,
      "outputs": []
    },
    {
      "cell_type": "code",
      "metadata": {
        "id": "nfT--Ig5aYY5",
        "colab_type": "code",
        "colab": {}
      },
      "source": [
        "cancer=load_breast_cancer()"
      ],
      "execution_count": 0,
      "outputs": []
    },
    {
      "cell_type": "code",
      "metadata": {
        "id": "PRiaNB6uanyz",
        "colab_type": "code",
        "colab": {}
      },
      "source": [
        "x=cancer.data\n",
        "y=cancer.target"
      ],
      "execution_count": 0,
      "outputs": []
    },
    {
      "cell_type": "code",
      "metadata": {
        "id": "IFoURjcja8sG",
        "colab_type": "code",
        "colab": {}
      },
      "source": [
        "xtrain,xtest,ytrain,ytest=train_test_split(x,y,test_size=0.2,stratify=y,random_state=42)"
      ],
      "execution_count": 0,
      "outputs": []
    },
    {
      "cell_type": "code",
      "metadata": {
        "id": "01C19MIuBcph",
        "colab_type": "code",
        "outputId": "31d0056a-4622-4169-eb8e-6723e6a9f906",
        "colab": {
          "base_uri": "https://localhost:8080/",
          "height": 51
        }
      },
      "source": [
        "print(xtrain.shape[0:])\n",
        "print(xtrain.shape)"
      ],
      "execution_count": 0,
      "outputs": [
        {
          "output_type": "stream",
          "text": [
            "(455, 30)\n",
            "(455, 30)\n"
          ],
          "name": "stdout"
        }
      ]
    },
    {
      "cell_type": "code",
      "metadata": {
        "id": "_38SIt7tcek8",
        "colab_type": "code",
        "colab": {}
      },
      "source": [
        "from sklearn.preprocessing import StandardScaler"
      ],
      "execution_count": 0,
      "outputs": []
    },
    {
      "cell_type": "code",
      "metadata": {
        "id": "mpcVwFDocn4B",
        "colab_type": "code",
        "colab": {}
      },
      "source": [
        "sc=StandardScaler()"
      ],
      "execution_count": 0,
      "outputs": []
    },
    {
      "cell_type": "code",
      "metadata": {
        "id": "iPvOUpl8crtl",
        "colab_type": "code",
        "outputId": "a0abc7ae-bb4f-4272-fcab-bbb191581e79",
        "colab": {
          "base_uri": "https://localhost:8080/",
          "height": 34
        }
      },
      "source": [
        "sc.fit(x,y)"
      ],
      "execution_count": 0,
      "outputs": [
        {
          "output_type": "execute_result",
          "data": {
            "text/plain": [
              "StandardScaler(copy=True, with_mean=True, with_std=True)"
            ]
          },
          "metadata": {
            "tags": []
          },
          "execution_count": 10
        }
      ]
    },
    {
      "cell_type": "code",
      "metadata": {
        "id": "i48hoOxHdAmq",
        "colab_type": "code",
        "colab": {}
      },
      "source": [
        "xtrain_std=sc.transform(xtrain)\n",
        "xtest_std=sc.transform(xtest)"
      ],
      "execution_count": 0,
      "outputs": []
    },
    {
      "cell_type": "code",
      "metadata": {
        "id": "pOISp_h9dLPl",
        "colab_type": "code",
        "outputId": "eec8faca-f951-44ee-e412-9fdcd7c6246d",
        "colab": {
          "base_uri": "https://localhost:8080/",
          "height": 88
        }
      },
      "source": [
        "model=keras.models.Sequential()\n",
        "model.add(keras.layers.Dense(units=5,activation=\"relu\",input_shape=xtrain.shape[1:]))"
      ],
      "execution_count": 0,
      "outputs": [
        {
          "output_type": "stream",
          "text": [
            "WARNING:tensorflow:From /usr/local/lib/python3.6/dist-packages/tensorflow_core/python/ops/resource_variable_ops.py:1630: calling BaseResourceVariable.__init__ (from tensorflow.python.ops.resource_variable_ops) with constraint is deprecated and will be removed in a future version.\n",
            "Instructions for updating:\n",
            "If using Keras pass *_constraint arguments to layers.\n"
          ],
          "name": "stdout"
        }
      ]
    },
    {
      "cell_type": "code",
      "metadata": {
        "id": "e0vVg4nGd-EM",
        "colab_type": "code",
        "colab": {}
      },
      "source": [
        "model.add(keras.layers.Dense(units=1,activation='sigmoid'))"
      ],
      "execution_count": 0,
      "outputs": []
    },
    {
      "cell_type": "code",
      "metadata": {
        "id": "SH6x-D9peWSO",
        "colab_type": "code",
        "outputId": "deeb7772-3786-4185-a0d4-04d4c9d00663",
        "colab": {
          "base_uri": "https://localhost:8080/",
          "height": 221
        }
      },
      "source": [
        "model.summary()"
      ],
      "execution_count": 0,
      "outputs": [
        {
          "output_type": "stream",
          "text": [
            "Model: \"sequential\"\n",
            "_________________________________________________________________\n",
            "Layer (type)                 Output Shape              Param #   \n",
            "=================================================================\n",
            "dense (Dense)                (None, 5)                 155       \n",
            "_________________________________________________________________\n",
            "dense_1 (Dense)              (None, 1)                 6         \n",
            "=================================================================\n",
            "Total params: 161\n",
            "Trainable params: 161\n",
            "Non-trainable params: 0\n",
            "_________________________________________________________________\n"
          ],
          "name": "stdout"
        }
      ]
    },
    {
      "cell_type": "code",
      "metadata": {
        "id": "FmvIFMXEenvt",
        "colab_type": "code",
        "outputId": "c632b618-2d86-438a-a1db-05a630a667b7",
        "colab": {
          "base_uri": "https://localhost:8080/",
          "height": 88
        }
      },
      "source": [
        "model.compile(loss='binary_crossentropy', optimizer='adam', metrics=['accuracy'])\n"
      ],
      "execution_count": 0,
      "outputs": [
        {
          "output_type": "stream",
          "text": [
            "WARNING:tensorflow:From /usr/local/lib/python3.6/dist-packages/tensorflow_core/python/ops/nn_impl.py:183: where (from tensorflow.python.ops.array_ops) is deprecated and will be removed in a future version.\n",
            "Instructions for updating:\n",
            "Use tf.where in 2.0, which has the same broadcast rule as np.where\n"
          ],
          "name": "stdout"
        }
      ]
    },
    {
      "cell_type": "code",
      "metadata": {
        "id": "bE-ts3K1erwB",
        "colab_type": "code",
        "outputId": "afca11b8-bccf-4066-8025-a3f206741f69",
        "colab": {
          "base_uri": "https://localhost:8080/",
          "height": 1000
        }
      },
      "source": [
        "model.fit(x=xtrain_std, y=ytrain, validation_split=0.1,epochs=50, batch_size=16)"
      ],
      "execution_count": 0,
      "outputs": [
        {
          "output_type": "stream",
          "text": [
            "Train on 409 samples, validate on 46 samples\n",
            "Epoch 1/50\n",
            "409/409 [==============================] - 0s 734us/sample - loss: 1.1700 - acc: 0.3496 - val_loss: 1.0619 - val_acc: 0.2826\n",
            "Epoch 2/50\n",
            "409/409 [==============================] - 0s 127us/sample - loss: 0.9147 - acc: 0.4670 - val_loss: 0.8698 - val_acc: 0.3478\n",
            "Epoch 3/50\n",
            "409/409 [==============================] - 0s 94us/sample - loss: 0.7227 - acc: 0.5819 - val_loss: 0.7343 - val_acc: 0.4565\n",
            "Epoch 4/50\n",
            "409/409 [==============================] - 0s 104us/sample - loss: 0.5858 - acc: 0.6601 - val_loss: 0.6402 - val_acc: 0.5217\n",
            "Epoch 5/50\n",
            "409/409 [==============================] - 0s 102us/sample - loss: 0.4887 - acc: 0.7286 - val_loss: 0.5671 - val_acc: 0.5870\n",
            "Epoch 6/50\n",
            "409/409 [==============================] - 0s 114us/sample - loss: 0.4218 - acc: 0.7579 - val_loss: 0.5105 - val_acc: 0.6304\n",
            "Epoch 7/50\n",
            "409/409 [==============================] - 0s 100us/sample - loss: 0.3716 - acc: 0.7897 - val_loss: 0.4698 - val_acc: 0.6304\n",
            "Epoch 8/50\n",
            "409/409 [==============================] - 0s 97us/sample - loss: 0.3353 - acc: 0.8166 - val_loss: 0.4374 - val_acc: 0.6957\n",
            "Epoch 9/50\n",
            "409/409 [==============================] - 0s 115us/sample - loss: 0.3071 - acc: 0.8313 - val_loss: 0.4066 - val_acc: 0.7174\n",
            "Epoch 10/50\n",
            "409/409 [==============================] - 0s 100us/sample - loss: 0.2831 - acc: 0.8582 - val_loss: 0.3790 - val_acc: 0.7609\n",
            "Epoch 11/50\n",
            "409/409 [==============================] - 0s 119us/sample - loss: 0.2615 - acc: 0.8949 - val_loss: 0.3515 - val_acc: 0.8913\n",
            "Epoch 12/50\n",
            "409/409 [==============================] - 0s 116us/sample - loss: 0.2414 - acc: 0.9242 - val_loss: 0.3308 - val_acc: 0.8913\n",
            "Epoch 13/50\n",
            "409/409 [==============================] - 0s 109us/sample - loss: 0.2250 - acc: 0.9267 - val_loss: 0.3093 - val_acc: 0.8696\n",
            "Epoch 14/50\n",
            "409/409 [==============================] - 0s 103us/sample - loss: 0.2091 - acc: 0.9315 - val_loss: 0.2860 - val_acc: 0.8913\n",
            "Epoch 15/50\n",
            "409/409 [==============================] - 0s 95us/sample - loss: 0.1957 - acc: 0.9413 - val_loss: 0.2665 - val_acc: 0.9130\n",
            "Epoch 16/50\n",
            "409/409 [==============================] - 0s 110us/sample - loss: 0.1833 - acc: 0.9438 - val_loss: 0.2497 - val_acc: 0.9130\n",
            "Epoch 17/50\n",
            "409/409 [==============================] - 0s 97us/sample - loss: 0.1723 - acc: 0.9438 - val_loss: 0.2363 - val_acc: 0.9130\n",
            "Epoch 18/50\n",
            "409/409 [==============================] - 0s 99us/sample - loss: 0.1629 - acc: 0.9438 - val_loss: 0.2245 - val_acc: 0.9130\n",
            "Epoch 19/50\n",
            "409/409 [==============================] - 0s 100us/sample - loss: 0.1547 - acc: 0.9487 - val_loss: 0.2138 - val_acc: 0.9348\n",
            "Epoch 20/50\n",
            "409/409 [==============================] - 0s 130us/sample - loss: 0.1475 - acc: 0.9487 - val_loss: 0.2055 - val_acc: 0.9348\n",
            "Epoch 21/50\n",
            "409/409 [==============================] - 0s 118us/sample - loss: 0.1414 - acc: 0.9511 - val_loss: 0.1970 - val_acc: 0.9348\n",
            "Epoch 22/50\n",
            "409/409 [==============================] - 0s 108us/sample - loss: 0.1357 - acc: 0.9535 - val_loss: 0.1892 - val_acc: 0.9348\n",
            "Epoch 23/50\n",
            "409/409 [==============================] - 0s 105us/sample - loss: 0.1309 - acc: 0.9535 - val_loss: 0.1822 - val_acc: 0.9348\n",
            "Epoch 24/50\n",
            "409/409 [==============================] - 0s 100us/sample - loss: 0.1264 - acc: 0.9560 - val_loss: 0.1745 - val_acc: 0.9348\n",
            "Epoch 25/50\n",
            "409/409 [==============================] - 0s 95us/sample - loss: 0.1220 - acc: 0.9584 - val_loss: 0.1686 - val_acc: 0.9348\n",
            "Epoch 26/50\n",
            "409/409 [==============================] - 0s 98us/sample - loss: 0.1181 - acc: 0.9609 - val_loss: 0.1615 - val_acc: 0.9348\n",
            "Epoch 27/50\n",
            "409/409 [==============================] - 0s 102us/sample - loss: 0.1143 - acc: 0.9609 - val_loss: 0.1568 - val_acc: 0.9348\n",
            "Epoch 28/50\n",
            "409/409 [==============================] - 0s 113us/sample - loss: 0.1110 - acc: 0.9584 - val_loss: 0.1508 - val_acc: 0.9348\n",
            "Epoch 29/50\n",
            "409/409 [==============================] - 0s 102us/sample - loss: 0.1080 - acc: 0.9633 - val_loss: 0.1459 - val_acc: 0.9348\n",
            "Epoch 30/50\n",
            "409/409 [==============================] - 0s 100us/sample - loss: 0.1052 - acc: 0.9658 - val_loss: 0.1423 - val_acc: 0.9348\n",
            "Epoch 31/50\n",
            "409/409 [==============================] - 0s 93us/sample - loss: 0.1028 - acc: 0.9658 - val_loss: 0.1377 - val_acc: 0.9348\n",
            "Epoch 32/50\n",
            "409/409 [==============================] - 0s 96us/sample - loss: 0.1003 - acc: 0.9658 - val_loss: 0.1338 - val_acc: 0.9348\n",
            "Epoch 33/50\n",
            "409/409 [==============================] - 0s 101us/sample - loss: 0.0981 - acc: 0.9707 - val_loss: 0.1312 - val_acc: 0.9565\n",
            "Epoch 34/50\n",
            "409/409 [==============================] - 0s 93us/sample - loss: 0.0957 - acc: 0.9707 - val_loss: 0.1275 - val_acc: 0.9565\n",
            "Epoch 35/50\n",
            "409/409 [==============================] - 0s 110us/sample - loss: 0.0936 - acc: 0.9707 - val_loss: 0.1235 - val_acc: 0.9565\n",
            "Epoch 36/50\n",
            "409/409 [==============================] - 0s 102us/sample - loss: 0.0915 - acc: 0.9707 - val_loss: 0.1200 - val_acc: 0.9565\n",
            "Epoch 37/50\n",
            "409/409 [==============================] - 0s 106us/sample - loss: 0.0897 - acc: 0.9707 - val_loss: 0.1167 - val_acc: 0.9565\n",
            "Epoch 38/50\n",
            "409/409 [==============================] - 0s 97us/sample - loss: 0.0878 - acc: 0.9731 - val_loss: 0.1145 - val_acc: 0.9565\n",
            "Epoch 39/50\n",
            "409/409 [==============================] - 0s 104us/sample - loss: 0.0861 - acc: 0.9731 - val_loss: 0.1116 - val_acc: 0.9565\n",
            "Epoch 40/50\n",
            "409/409 [==============================] - 0s 120us/sample - loss: 0.0845 - acc: 0.9731 - val_loss: 0.1084 - val_acc: 0.9565\n",
            "Epoch 41/50\n",
            "409/409 [==============================] - 0s 102us/sample - loss: 0.0832 - acc: 0.9731 - val_loss: 0.1063 - val_acc: 0.9565\n",
            "Epoch 42/50\n",
            "409/409 [==============================] - 0s 114us/sample - loss: 0.0816 - acc: 0.9756 - val_loss: 0.1047 - val_acc: 0.9565\n",
            "Epoch 43/50\n",
            "409/409 [==============================] - 0s 106us/sample - loss: 0.0802 - acc: 0.9756 - val_loss: 0.1025 - val_acc: 0.9565\n",
            "Epoch 44/50\n",
            "409/409 [==============================] - 0s 111us/sample - loss: 0.0789 - acc: 0.9756 - val_loss: 0.1004 - val_acc: 0.9565\n",
            "Epoch 45/50\n",
            "409/409 [==============================] - 0s 106us/sample - loss: 0.0776 - acc: 0.9756 - val_loss: 0.0982 - val_acc: 0.9565\n",
            "Epoch 46/50\n",
            "409/409 [==============================] - 0s 110us/sample - loss: 0.0763 - acc: 0.9780 - val_loss: 0.0971 - val_acc: 0.9565\n",
            "Epoch 47/50\n",
            "409/409 [==============================] - 0s 97us/sample - loss: 0.0750 - acc: 0.9756 - val_loss: 0.0955 - val_acc: 0.9565\n",
            "Epoch 48/50\n",
            "409/409 [==============================] - 0s 99us/sample - loss: 0.0738 - acc: 0.9780 - val_loss: 0.0926 - val_acc: 0.9783\n",
            "Epoch 49/50\n",
            "409/409 [==============================] - 0s 110us/sample - loss: 0.0727 - acc: 0.9780 - val_loss: 0.0913 - val_acc: 0.9783\n",
            "Epoch 50/50\n",
            "409/409 [==============================] - 0s 102us/sample - loss: 0.0715 - acc: 0.9804 - val_loss: 0.0901 - val_acc: 0.9783\n"
          ],
          "name": "stdout"
        },
        {
          "output_type": "execute_result",
          "data": {
            "text/plain": [
              "<tensorflow.python.keras.callbacks.History at 0x7f9978a9bb38>"
            ]
          },
          "metadata": {
            "tags": []
          },
          "execution_count": 20
        }
      ]
    },
    {
      "cell_type": "code",
      "metadata": {
        "id": "PFF06z7CeyjT",
        "colab_type": "code",
        "outputId": "4998ea83-3bd9-478a-cd4a-a7d33d49217e",
        "colab": {
          "base_uri": "https://localhost:8080/",
          "height": 34
        }
      },
      "source": [
        "test_loss, test_accuracy = model.evaluate(x=xtest_std, y=ytest)"
      ],
      "execution_count": 0,
      "outputs": [
        {
          "output_type": "stream",
          "text": [
            "114/114 [==============================] - 0s 86us/sample - loss: 0.1106 - acc: 0.9649\n"
          ],
          "name": "stdout"
        }
      ]
    },
    {
      "cell_type": "code",
      "metadata": {
        "id": "-jtihWxvfB6x",
        "colab_type": "code",
        "outputId": "028e6052-22ff-405a-ffc9-4011f277abbf",
        "colab": {
          "base_uri": "https://localhost:8080/",
          "height": 34
        }
      },
      "source": [
        "print('test accuracy=',test_accuracy,'test loss=',test_loss)"
      ],
      "execution_count": 0,
      "outputs": [
        {
          "output_type": "stream",
          "text": [
            "test accuracy= 0.9649123 test loss= 0.1106470661205158\n"
          ],
          "name": "stdout"
        }
      ]
    },
    {
      "cell_type": "code",
      "metadata": {
        "id": "bmtwIPT8fIf5",
        "colab_type": "code",
        "colab": {}
      },
      "source": [
        "print(data)"
      ],
      "execution_count": 0,
      "outputs": []
    }
  ]
}